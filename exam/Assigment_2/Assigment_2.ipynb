{
 "cells": [
  {
   "cell_type": "code",
   "execution_count": 1,
   "metadata": {},
   "outputs": [
    {
     "data": {
      "text/plain": [
       "' \\n!wget -P dataset/ATIS https://raw.githubusercontent.com/BrownFortress/IntentSlotDatasets/main/ATIS/test.json\\n!wget -P dataset/ATIS https://raw.githubusercontent.com/BrownFortress/IntentSlotDatasets/main/ATIS/train.json\\n!wget https://raw.githubusercontent.com/BrownFortress/NLU-2024-Labs/main/labs/conll.py '"
      ]
     },
     "execution_count": 1,
     "metadata": {},
     "output_type": "execute_result"
    }
   ],
   "source": [
    "# If you are using Colab, run these commands\n",
    "\"\"\" \n",
    "!wget -P dataset/ATIS https://raw.githubusercontent.com/BrownFortress/IntentSlotDatasets/main/ATIS/test.json\n",
    "!wget -P dataset/ATIS https://raw.githubusercontent.com/BrownFortress/IntentSlotDatasets/main/ATIS/train.json\n",
    "!wget https://raw.githubusercontent.com/BrownFortress/NLU-2024-Labs/main/labs/conll.py \"\"\""
   ]
  },
  {
   "cell_type": "code",
   "execution_count": 2,
   "metadata": {},
   "outputs": [],
   "source": [
    "# Global variables\n",
    "import sys\n",
    "import os\n",
    "DEVICE = 'cuda:0'  # cuda:0 means we are using the GPU with id 0, if you have multiple GPU\n",
    "EPOCHS = 200\n",
    "os.environ['CUDA_LAUNCH_BLOCKING'] = \"1\"  # Used to report errors on CUDA side\n",
    "PAD_TOKEN = 0\n",
    "sys.path.append('../src/')\n",
    "from models import MultiModel1\n"
   ]
  },
  {
   "cell_type": "code",
   "execution_count": 3,
   "metadata": {},
   "outputs": [
    {
     "name": "stdout",
     "output_type": "stream",
     "text": [
      "Train samples: 4978\n",
      "Test samples: 893\n",
      "{'intent': 'flight',\n",
      " 'slots': 'O O O O O B-fromloc.city_name O B-depart_time.time '\n",
      "          'I-depart_time.time O O O B-toloc.city_name O B-arrive_time.time O O '\n",
      "          'B-arrive_time.period_of_day',\n",
      " 'utterance': 'i want to fly from boston at 838 am and arrive in denver at '\n",
      "              '1110 in the morning'}\n"
     ]
    }
   ],
   "source": [
    "import json\n",
    "from pprint import pprint\n",
    "\n",
    "\n",
    "def load_data(path):\n",
    "    '''\n",
    "        input: path/to/data\n",
    "        output: json \n",
    "    '''\n",
    "    dataset = []\n",
    "    with open(path) as f:\n",
    "        dataset = json.loads(f.read())\n",
    "    return dataset\n",
    "\n",
    "\n",
    "tmp_train_raw = load_data(os.path.join('dataset', 'ATIS', 'train.json'))\n",
    "# we are producing the set to compare against\n",
    "test_raw = load_data(os.path.join('dataset', 'ATIS', 'test.json'))\n",
    "print('Train samples:', len(tmp_train_raw))\n",
    "print('Test samples:', len(test_raw))\n",
    "\n",
    "pprint(tmp_train_raw[0])"
   ]
  },
  {
   "cell_type": "code",
   "execution_count": 4,
   "metadata": {},
   "outputs": [
    {
     "name": "stdout",
     "output_type": "stream",
     "text": [
      "Train:\n",
      "{'abbreviation': 2.9000000000000004,\n",
      " 'aircraft': 1.6,\n",
      " 'airfare': 8.5,\n",
      " 'airline': 3.2,\n",
      " 'airline+flight_no': 0.0,\n",
      " 'airport': 0.4,\n",
      " 'capacity': 0.3,\n",
      " 'city': 0.4,\n",
      " 'distance': 0.4,\n",
      " 'flight': 73.7,\n",
      " 'flight+airfare': 0.4,\n",
      " 'flight_no': 0.2,\n",
      " 'flight_time': 1.0999999999999999,\n",
      " 'ground_fare': 0.4,\n",
      " 'ground_service': 5.1,\n",
      " 'meal': 0.1,\n",
      " 'quantity': 1.0,\n",
      " 'restriction': 0.1}\n",
      "Dev:\n",
      "{'abbreviation': 3.0,\n",
      " 'aircraft': 1.6,\n",
      " 'airfare': 8.4,\n",
      " 'airline': 3.2,\n",
      " 'airport': 0.4,\n",
      " 'capacity': 0.4,\n",
      " 'city': 0.4,\n",
      " 'distance': 0.4,\n",
      " 'flight': 73.7,\n",
      " 'flight+airfare': 0.4,\n",
      " 'flight_no': 0.2,\n",
      " 'flight_time': 1.0,\n",
      " 'ground_fare': 0.4,\n",
      " 'ground_service': 5.0,\n",
      " 'meal': 0.2,\n",
      " 'quantity': 1.0,\n",
      " 'restriction': 0.2}\n",
      "Test:\n",
      "{'abbreviation': 3.6999999999999997,\n",
      " 'aircraft': 1.0,\n",
      " 'airfare': 5.4,\n",
      " 'airfare+flight': 0.1,\n",
      " 'airline': 4.3,\n",
      " 'airport': 2.0,\n",
      " 'capacity': 2.4,\n",
      " 'city': 0.7000000000000001,\n",
      " 'day_name': 0.2,\n",
      " 'distance': 1.0999999999999999,\n",
      " 'flight': 70.8,\n",
      " 'flight+airfare': 1.3,\n",
      " 'flight+airline': 0.1,\n",
      " 'flight_no': 0.8999999999999999,\n",
      " 'flight_no+airline': 0.1,\n",
      " 'flight_time': 0.1,\n",
      " 'ground_fare': 0.8,\n",
      " 'ground_service': 4.0,\n",
      " 'meal': 0.7000000000000001,\n",
      " 'quantity': 0.3}\n",
      "=========================================================================================\n",
      "TRAIN size: 4480\n",
      "DEV size: 498\n",
      "TEST size: 893\n"
     ]
    }
   ],
   "source": [
    "import random\n",
    "import numpy as np\n",
    "from sklearn.model_selection import train_test_split\n",
    "from collections import Counter\n",
    "\n",
    "# First we get the 10% of the training set, then we compute the percentage of these examples\n",
    "# We are only splitting on intention but we should even split on labels of token\n",
    "\n",
    "portion = 0.10\n",
    "\n",
    "intents = [x['intent'] for x in tmp_train_raw]  # We stratify on intents\n",
    "count_y = Counter(intents)\n",
    "\n",
    "labels = []\n",
    "inputs = []\n",
    "mini_train = []\n",
    "\n",
    "for id_y, y in enumerate(intents):\n",
    "    if count_y[y] > 1:  # If some intents occurs only once, we put them in training\n",
    "        inputs.append(tmp_train_raw[id_y])\n",
    "        labels.append(y)\n",
    "    else:\n",
    "        mini_train.append(tmp_train_raw[id_y])\n",
    "# Random Stratify\n",
    "X_train, X_dev, y_train, y_dev = train_test_split(inputs, labels, test_size=portion,\n",
    "                                                  random_state=42,\n",
    "                                                  shuffle=True,\n",
    "                                                  stratify=labels)\n",
    "X_train.extend(mini_train)\n",
    "train_raw = X_train\n",
    "dev_raw = X_dev\n",
    "\n",
    "y_test = [x['intent'] for x in test_raw]\n",
    "\n",
    "# Intent distributions\n",
    "print('Train:')\n",
    "pprint({k: round(v/len(y_train), 3)*100 for k,\n",
    "       v in sorted(Counter(y_train).items())})\n",
    "print('Dev:'),\n",
    "pprint({k: round(v/len(y_dev), 3)*100 for k,\n",
    "       v in sorted(Counter(y_dev).items())})\n",
    "print('Test:')\n",
    "pprint({k: round(v/len(y_test), 3)*100 for k,\n",
    "       v in sorted(Counter(y_test).items())})\n",
    "print('='*89)\n",
    "# Dataset size\n",
    "print('TRAIN size:', len(train_raw))\n",
    "print('DEV size:', len(dev_raw))\n",
    "print('TEST size:', len(test_raw))"
   ]
  },
  {
   "cell_type": "code",
   "execution_count": 5,
   "metadata": {},
   "outputs": [
    {
     "name": "stdout",
     "output_type": "stream",
     "text": [
      "# Vocab: 864\n",
      "# Slots: 129\n",
      "# Intent: 26\n"
     ]
    }
   ],
   "source": [
    "from collections import Counter\n",
    "\n",
    "w2id = {'pad': PAD_TOKEN, 'unk': 1}\n",
    "slot2id = {'pad': PAD_TOKEN}\n",
    "intent2id = {}\n",
    "# Map the words only from the train set\n",
    "# Map slot and intent labels of train, dev and test set. 'unk' is not needed.\n",
    "for example in train_raw:\n",
    "    for w in example['utterance'].split():\n",
    "        if w not in w2id:\n",
    "            w2id[w] = len(w2id)\n",
    "    for slot in example['slots'].split():\n",
    "        if slot not in slot2id:\n",
    "            slot2id[slot] = len(slot2id)\n",
    "    if example['intent'] not in intent2id:\n",
    "        intent2id[example['intent']] = len(intent2id)\n",
    "\n",
    "for example in dev_raw:\n",
    "    for slot in example['slots'].split():\n",
    "        if slot not in slot2id:\n",
    "            slot2id[slot] = len(slot2id)\n",
    "    if example['intent'] not in intent2id:\n",
    "        intent2id[example['intent']] = len(intent2id)\n",
    "\n",
    "for example in test_raw:\n",
    "    for slot in example['slots'].split():\n",
    "        if slot not in slot2id:\n",
    "            slot2id[slot] = len(slot2id)\n",
    "    if example['intent'] not in intent2id:\n",
    "        intent2id[example['intent']] = len(intent2id)\n",
    "\n",
    "print('# Vocab:', len(w2id)-2)  # we remove pad and unk from the count\n",
    "print('# Slots:', len(slot2id)-1)\n",
    "print('# Intent:', len(intent2id))"
   ]
  },
  {
   "cell_type": "code",
   "execution_count": 6,
   "metadata": {},
   "outputs": [],
   "source": [
    "from collections import Counter\n",
    "\n",
    "\n",
    "class Lang():\n",
    "    def __init__(self, words, intents, slots, cutoff=0):\n",
    "        self.word2id = self.w2id(words, cutoff=cutoff, unk=True)\n",
    "        self.slot2id = self.lab2id(slots)\n",
    "        self.intent2id = self.lab2id(intents, pad=False)\n",
    "        self.id2word = {v: k for k, v in self.word2id.items()}\n",
    "        self.id2slot = {v: k for k, v in self.slot2id.items()}\n",
    "        self.id2intent = {v: k for k, v in self.intent2id.items()}\n",
    "\n",
    "    def w2id(self, elements, cutoff=None, unk=True):\n",
    "        vocab = {'pad': PAD_TOKEN}\n",
    "        if unk:\n",
    "            vocab['unk'] = len(vocab)\n",
    "        count = Counter(elements)\n",
    "        for k, v in count.items():\n",
    "            if v > cutoff:\n",
    "                vocab[k] = len(vocab)\n",
    "        return vocab\n",
    "\n",
    "    def lab2id(self, elements, pad=True):\n",
    "        vocab = {}\n",
    "        if pad:\n",
    "            vocab['pad'] = PAD_TOKEN\n",
    "        for elem in elements:\n",
    "            vocab[elem] = len(vocab)\n",
    "        return vocab"
   ]
  },
  {
   "cell_type": "code",
   "execution_count": 7,
   "metadata": {},
   "outputs": [],
   "source": [
    "words = sum([x['utterance'].split() for x in train_raw],\n",
    "            [])  # No set() since we want to compute\n",
    "# the cutoff\n",
    "corpus = train_raw + dev_raw + test_raw  # We do not wat unk labels,\n",
    "# however this depends on the research purpose\n",
    "slots = set(sum([line['slots'].split() for line in corpus], []))\n",
    "intents = set([line['intent'] for line in corpus])\n",
    "\n",
    "lang = Lang(words, intents, slots, cutoff=0)"
   ]
  },
  {
   "cell_type": "code",
   "execution_count": 8,
   "metadata": {},
   "outputs": [],
   "source": [
    "import torch\n",
    "import torch.utils.data as data\n",
    "# we are defining a data loader\n",
    "\n",
    "\n",
    "class IntentsAndSlots (data.Dataset):\n",
    "    # Mandatory methods are __init__, __len__ and __getitem__\n",
    "    def __init__(self, dataset, lang, unk='unk'):\n",
    "        self.utterances = []\n",
    "        self.intents = []\n",
    "        self.slots = []\n",
    "        self.unk = unk\n",
    "\n",
    "        for x in dataset:\n",
    "            self.utterances.append(x['utterance'])\n",
    "            self.slots.append(x['slots'])\n",
    "            self.intents.append(x['intent'])\n",
    "\n",
    "        self.utt_ids = self.mapping_seq(self.utterances, lang.word2id)\n",
    "        self.slot_ids = self.mapping_seq(self.slots, lang.slot2id)\n",
    "        self.intent_ids = self.mapping_lab(self.intents, lang.intent2id)\n",
    "\n",
    "    def __len__(self):\n",
    "        return len(self.utterances)\n",
    "\n",
    "    def __getitem__(self, idx):  # it will be called for each element of the batch\n",
    "        utt = torch.Tensor(self.utt_ids[idx])\n",
    "        slots = torch.Tensor(self.slot_ids[idx])\n",
    "        intent = self.intent_ids[idx]\n",
    "        sample = {'utterance': utt, 'slots': slots, 'intent': intent}\n",
    "        return sample\n",
    "\n",
    "    # Auxiliary methods\n",
    "\n",
    "    def mapping_lab(self, data, mapper):\n",
    "        return [mapper[x] if x in mapper else mapper[self.unk] for x in data]\n",
    "\n",
    "    def mapping_seq(self, data, mapper):  # Map sequences to number\n",
    "        res = []\n",
    "        for seq in data:\n",
    "            tmp_seq = []\n",
    "            for x in seq.split():\n",
    "                if x in mapper:\n",
    "                    tmp_seq.append(mapper[x])\n",
    "                else:\n",
    "                    tmp_seq.append(mapper[self.unk])\n",
    "            res.append(tmp_seq)\n",
    "        return res"
   ]
  },
  {
   "cell_type": "code",
   "execution_count": 9,
   "metadata": {},
   "outputs": [
    {
     "name": "stdout",
     "output_type": "stream",
     "text": [
      "[['I', 'saw', 'a', 'man', 'with', 'a', 'telescope', 'PAD', 'PAD', 'PAD'],\n",
      " ['book', 'me', 'a', 'flight', 'PAD', 'PAD', 'PAD', 'PAD', 'PAD', 'PAD'],\n",
      " ['I', 'want', 'to', 'see', 'the', 'flights', 'from', 'Milan', 'to', 'Ibiza']]\n"
     ]
    }
   ],
   "source": [
    "# split them by white space\n",
    "from pprint import pprint\n",
    "\n",
    "sequences = ['I saw a man with a telescope',\n",
    "             'book me a flight',\n",
    "             'I want to see the flights from Milan to Ibiza']\n",
    "splitted = [seq.split() for seq in sequences]\n",
    "max_len = max([len(seq) for seq in splitted])\n",
    "padded_seq = []\n",
    "for seq in splitted:\n",
    "    diff = max_len - len(seq)\n",
    "    if diff != 0:\n",
    "        # Depending on the side of the addition we can get left or right padding\n",
    "        padded_seq.append(seq + ['PAD'] * diff)\n",
    "    else:\n",
    "        padded_seq.append(seq)\n",
    "pprint(padded_seq)"
   ]
  },
  {
   "cell_type": "code",
   "execution_count": 10,
   "metadata": {},
   "outputs": [],
   "source": [
    "from torch.utils.data import DataLoader\n",
    "\n",
    "\n",
    "def collate_fn(data):\n",
    "    def merge(sequences):\n",
    "        '''\n",
    "        merge from batch * sent_len to batch * max_len \n",
    "        '''\n",
    "        lengths = [len(seq) for seq in sequences]\n",
    "        max_len = 1 if max(lengths) == 0 else max(lengths)\n",
    "        # Pad token is zero in our case\n",
    "        # So we create a matrix full of PAD_TOKEN (i.e. 0) with the shape\n",
    "        # batch_size X maximum length of a sequence\n",
    "        padded_seqs = torch.LongTensor(\n",
    "            len(sequences), max_len).fill_(PAD_TOKEN)\n",
    "        for i, seq in enumerate(sequences):\n",
    "            end = lengths[i]\n",
    "            # We copy each sequence into the matrix so that the padding are the empty elements of the matrix\n",
    "            padded_seqs[i, :end] = seq\n",
    "        # print(padded_seqs)\n",
    "        # We remove these tensors from the computational graph\n",
    "        padded_seqs = padded_seqs.detach()\n",
    "        return padded_seqs, lengths\n",
    "    # Sort data by seq lengths\n",
    "    data.sort(key=lambda x: len(x['utterance']), reverse=True)\n",
    "    new_item = {}\n",
    "    for key in data[0].keys():\n",
    "        new_item[key] = [d[key] for d in data]\n",
    "\n",
    "    # We just need one length for packed pad seq, since len(utt) == len(slots)\n",
    "    src_utt, _ = merge(new_item['utterance'])\n",
    "    y_slots, y_lengths = merge(new_item[\"slots\"])\n",
    "    intent = torch.LongTensor(new_item[\"intent\"])\n",
    "\n",
    "    src_utt = src_utt.to(DEVICE)  # We load the Tensor on our selected device\n",
    "    y_slots = y_slots.to(DEVICE)\n",
    "    intent = intent.to(DEVICE)\n",
    "    y_lengths = torch.LongTensor(y_lengths).to(DEVICE)\n",
    "\n",
    "    new_item[\"utterances\"] = src_utt\n",
    "    new_item[\"intents\"] = intent\n",
    "    new_item[\"y_slots\"] = y_slots\n",
    "    new_item[\"slots_len\"] = y_lengths\n",
    "    # the resulting matrix has dimension batch*max_token_sequence_of_the_batch\n",
    "    return new_item\n",
    "\n",
    "\n"
   ]
  },
  {
   "cell_type": "code",
   "execution_count": 11,
   "metadata": {},
   "outputs": [],
   "source": [
    "# Create our datasets\n",
    "train_dataset_stock = IntentsAndSlots(train_raw, lang)\n",
    "dev_dataset_stock = IntentsAndSlots(dev_raw, lang)\n",
    "test_dataset_stock = IntentsAndSlots(test_raw, lang)\n",
    "\n",
    "\n",
    "# Dataloader instantiations\n",
    "train_loader_stock = DataLoader(train_dataset_stock, batch_size=128,\n",
    "                                collate_fn=collate_fn,  shuffle=True)\n",
    "dev_loader_stock = DataLoader(\n",
    "    dev_dataset_stock, batch_size=64, collate_fn=collate_fn)\n",
    "test_loader_stock = DataLoader(\n",
    "    test_dataset_stock, batch_size=64, collate_fn=collate_fn)"
   ]
  },
  {
   "cell_type": "code",
   "execution_count": 12,
   "metadata": {},
   "outputs": [],
   "source": [
    "import torch\n",
    "import torch.utils.data as data\n",
    "from transformers import BertTokenizer, BertModel\n",
    "\n",
    "# we are defining a data loader\n",
    "\n",
    "\n",
    "class IntentsAndSlots_BERTized (data.Dataset):\n",
    "    # Mandatory methods are __init__, __len__ and __getitem__\n",
    "    def __init__(self, dataset, unk='unk'):\n",
    "        tokenizer = BertTokenizer.from_pretrained(\n",
    "            \"bert-base-uncased\")\n",
    "        self.utterances = []\n",
    "        self.intents = []\n",
    "        self.slots = []\n",
    "        self.unk = unk\n",
    "\n",
    "        for x in dataset:\n",
    "            self.utterances.append(x['utterance'])\n",
    "            self.slots.append(x['slots'])\n",
    "            self.intents.append(x['intent'])\n",
    "        whole_utt = tokenizer(\n",
    "            self.utterances, return_tensors=\"pt\", padding=True)\n",
    "        self.utt_ids = whole_utt[\"input_ids\"].tolist()\n",
    "        self.attention_masks = whole_utt[\"attention_mask\"].tolist()\n",
    "        \n",
    "        self.slot_ids = tokenizer(\n",
    "            self.slots, return_tensors=\"pt\", padding=True)[\"input_ids\"].tolist()\n",
    "        self.intents = tokenizer(\n",
    "            self.slots, return_tensors=\"pt\", padding=True)[\"input_ids\"].tolist()\n",
    "\n",
    "    def __len__(self):\n",
    "        return len(self.utterances)\n",
    "\n",
    "    def __getitem__(self, idx):  # it will be called for each element of the batch\n",
    "        utt = torch.Tensor(self.utt_ids[idx])\n",
    "        slots =  torch.Tensor(self.slot_ids[idx])\n",
    "        attention_mask = torch.Tensor(self.attention_masks)\n",
    "        intent = self.intents[idx]\n",
    "        sample = {'utterance': utt, 'slots': slots,\n",
    "                  'intent': intent, \"attention_mask\": attention_mask}\n",
    "\n",
    "\n",
    "        return sample"
   ]
  },
  {
   "cell_type": "code",
   "execution_count": 13,
   "metadata": {},
   "outputs": [],
   "source": [
    "# Bert tokenized Dataset\n",
    "\n",
    "\n",
    "train_dataset_bert = IntentsAndSlots_BERTized(train_raw)\n",
    "dev_dataset_bert = IntentsAndSlots_BERTized(dev_raw)\n",
    "test_dataset_bert = IntentsAndSlots_BERTized(test_raw)\n",
    "\n",
    "\n",
    "# Dataloader instantiations\n",
    "train_loader_bert = DataLoader(train_dataset_bert, batch_size=128,\n",
    "                               collate_fn=collate_fn,  shuffle=True)\n",
    "dev_loader_bert = DataLoader(\n",
    "    dev_dataset_bert, batch_size=64, collate_fn=collate_fn)\n",
    "test_loader_bert = DataLoader(\n",
    "    test_dataset_bert, batch_size=64, collate_fn=collate_fn)"
   ]
  },
  {
   "cell_type": "code",
   "execution_count": 14,
   "metadata": {},
   "outputs": [],
   "source": [
    "import torch.nn as nn\n",
    "\n",
    "\n",
    "def init_weights(mat):\n",
    "    for m in mat.modules():\n",
    "        if type(m) in [nn.GRU, nn.LSTM, nn.RNN]:\n",
    "            for name, param in m.named_parameters():\n",
    "                if 'weight_ih' in name:\n",
    "                    for idx in range(4):\n",
    "                        mul = param.shape[0]//4\n",
    "                        torch.nn.init.xavier_uniform_(\n",
    "                            param[idx*mul:(idx+1)*mul])\n",
    "                elif 'weight_hh' in name:\n",
    "                    for idx in range(4):\n",
    "                        mul = param.shape[0]//4\n",
    "                        torch.nn.init.orthogonal_(param[idx*mul:(idx+1)*mul])\n",
    "                elif 'bias' in name:\n",
    "                    param.data.fill_(0)\n",
    "        else:\n",
    "            if type(m) in [nn.Linear]:\n",
    "                torch.nn.init.uniform_(m.weight, -0.01, 0.01)\n",
    "                if m.bias != None:\n",
    "                    m.bias.data.fill_(0.01)"
   ]
  },
  {
   "cell_type": "code",
   "execution_count": 15,
   "metadata": {},
   "outputs": [],
   "source": [
    "from torch.utils.tensorboard import SummaryWriter\n",
    "\n",
    "\n",
    "def log_values(writer, step, f1, acc, loss, prefix):\n",
    "    if f1 != None:\n",
    "        writer.add_scalar(f\"{prefix}/f1\", f1, step)\n",
    "        writer.add_scalar(f\"{prefix}/acc\", acc, step)\n",
    "    writer.add_scalar(f\"{prefix}/loss\", loss, step)"
   ]
  },
  {
   "cell_type": "code",
   "execution_count": 16,
   "metadata": {},
   "outputs": [],
   "source": [
    "from conll import evaluate  # evaluates at chunk level\n",
    "from sklearn.metrics import classification_report\n",
    "\n",
    "\n",
    "def train_loop(data, optimizer, criterion_slots, criterion_intents, model, clip=5):\n",
    "    model.train()\n",
    "    loss_array = []\n",
    "    for sample in data:\n",
    "        optimizer.zero_grad()  # Zeroing the gradient\n",
    "        slots, intent = model(sample['utterances'], sample['slots_len'])\n",
    "        loss_intent = criterion_intents(intent, sample['intents'])\n",
    "        loss_slot = criterion_slots(slots, sample['y_slots'])\n",
    "        loss = loss_intent + loss_slot  # In joint training we sum the losses.\n",
    "        # Is there another way to do that?\n",
    "        # an example is to have an hyper parameter such that loss = alpha loss_intent + alpha-1 loss_slot\n",
    "        loss_array.append(loss.item())\n",
    "        loss.backward()  # Compute the gradient, deleting the computational graph\n",
    "        # clip the gradient to avoid exploding gradients\n",
    "        torch.nn.utils.clip_grad_norm_(model.parameters(), clip)\n",
    "        optimizer.step()  # Update the weights\n",
    "    return loss_array\n",
    "\n",
    "\n",
    "def eval_loop(data, criterion_slots, criterion_intents, model, lang):\n",
    "    model.eval()\n",
    "    loss_array = []\n",
    "\n",
    "    ref_intents = []\n",
    "    hyp_intents = []\n",
    "\n",
    "    ref_slots = []\n",
    "    hyp_slots = []\n",
    "    # softmax = nn.Softmax(dim=1) # Use Softmax if you need the actual probability\n",
    "    with torch.no_grad():  # It used to avoid the creation of computational graph\n",
    "        for sample in data:\n",
    "            slots, intents = model(sample['utterances'], sample['slots_len'])\n",
    "            loss_intent = criterion_intents(intents, sample['intents'])\n",
    "            loss_slot = criterion_slots(slots, sample['y_slots'])\n",
    "            loss = loss_intent + loss_slot\n",
    "            loss_array.append(loss.item())\n",
    "            # Intent inference\n",
    "            # Get the highest probable class\n",
    "            out_intents = [lang.id2intent[x]\n",
    "                           for x in torch.argmax(intents, dim=1).tolist()]\n",
    "            gt_intents = [lang.id2intent[x]\n",
    "                          for x in sample['intents'].tolist()]\n",
    "            ref_intents.extend(gt_intents)\n",
    "            hyp_intents.extend(out_intents)\n",
    "\n",
    "            # Slot inference\n",
    "            output_slots = torch.argmax(slots, dim=1)\n",
    "            for id_seq, seq in enumerate(output_slots):\n",
    "                length = sample['slots_len'].tolist()[id_seq]\n",
    "                utt_ids = sample['utterance'][id_seq][:length].tolist()\n",
    "                gt_ids = sample['y_slots'][id_seq].tolist()\n",
    "                gt_slots = [lang.id2slot[elem] for elem in gt_ids[:length]]\n",
    "                utterance = [lang.id2word[elem] for elem in utt_ids]\n",
    "                to_decode = seq[:length].tolist()\n",
    "                ref_slots.append([(utterance[id_el], elem)\n",
    "                                 for id_el, elem in enumerate(gt_slots)])\n",
    "                tmp_seq = []\n",
    "                for id_el, elem in enumerate(to_decode):\n",
    "                    tmp_seq.append((utterance[id_el], lang.id2slot[elem]))\n",
    "                hyp_slots.append(tmp_seq)\n",
    "    try:\n",
    "        results = evaluate(ref_slots, hyp_slots)\n",
    "    except Exception as ex:\n",
    "        # Sometimes the model predicts a class that is not in REF\n",
    "        print(\"Warning:\", ex)\n",
    "        ref_s = set([x[1] for x in ref_slots])\n",
    "        hyp_s = set([x[1] for x in hyp_slots])\n",
    "        print(hyp_s.difference(ref_s))\n",
    "        results = {\"total\": {\"f\": 0}}\n",
    "\n",
    "    report_intent = classification_report(ref_intents, hyp_intents,\n",
    "                                          zero_division=False, output_dict=True)\n",
    "    return results, report_intent, loss_array"
   ]
  },
  {
   "cell_type": "code",
   "execution_count": 17,
   "metadata": {},
   "outputs": [],
   "source": [
    "import matplotlib.pyplot as plt\n",
    "from tqdm import tqdm\n",
    "def train_model(param_string,exp_name,\n",
    "                n_epochs, patience_set, model,optimizer,model_type):\n",
    "    losses_train = []\n",
    "    losses_dev = []\n",
    "    sampled_epochs = []\n",
    "    best_f1 = 0\n",
    "    patience = patience_set\n",
    "    writer = SummaryWriter(log_dir=f\"runs/{param_string}\")\n",
    "    criterion_slots = nn.CrossEntropyLoss(ignore_index=PAD_TOKEN)\n",
    "    criterion_intents = nn.CrossEntropyLoss()\n",
    "    if model_type == \"BERT\":\n",
    "        train_loader = train_loader_bert\n",
    "        dev_loader = dev_loader_bert\n",
    "        test_loader = test_loader_bert\n",
    "    else: \n",
    "        train_loader = train_loader_stock\n",
    "        dev_loader = dev_loader_stock\n",
    "        test_loader = test_loader_stock\n",
    "\n",
    "    for x in tqdm(range(1, n_epochs)):\n",
    "        loss = train_loop(train_loader, optimizer, criterion_slots,\n",
    "                          criterion_intents, model)\n",
    "        if x % 5 == 0:  # We check the performance every 5 epochs\n",
    "            sampled_epochs.append(x)\n",
    "            losses_train.append(np.asarray(loss).mean())\n",
    "            results_dev, intent_res, loss_dev = eval_loop(dev_loader, criterion_slots,\n",
    "                                                          criterion_intents, model, lang)\n",
    "            losses_dev.append(np.asarray(loss_dev).mean())\n",
    "\n",
    "            f1 = results_dev['total']['f']\n",
    "            log_values(writer, x,  f1,\n",
    "                       intent_res['accuracy'], np.asarray(loss_dev).mean(), exp_name)\n",
    "            # For decreasing the patience you can also use the average between slot f1 and intent accuracy\n",
    "            if f1 > best_f1:\n",
    "                best_f1 = f1\n",
    "                # Here you should save the model\n",
    "                patience = patience_set\n",
    "            else:\n",
    "                patience -= 1\n",
    "            if patience <= 0:  # Early stopping with patience\n",
    "                break  # Not nice but it keeps the code clean\n",
    "        else:\n",
    "            log_values(writer, x, None, None,\n",
    "                       np.asarray(loss).mean(), exp_name)\n",
    "\n",
    "\n",
    "    results_test, intent_test, _ = eval_loop(test_loader, criterion_slots,\n",
    "                                             criterion_intents, model, lang)\n",
    "\n",
    "\n",
    "    print('Slot F1: ', results_test['total']['f'])\n",
    "    print('Intent Accuracy:', intent_test['accuracy'])\n",
    "    return intent_test['accuracy'],model"
   ]
  },
  {
   "cell_type": "code",
   "execution_count": 18,
   "metadata": {},
   "outputs": [],
   "source": [
    "import itertools\n",
    "\n",
    "\n",
    "def train_grid_search(lr_list, hid_size_list, emb_size_list, weight_decay_list, patience_list, emb_drop_list, out_drop_list, vocab_len,out_slot,out_int, model_type=\"None\",bidirectional=False, dropout=False, optimizer=None, n_epochs=100, exp_name=\"Pollo\"):\n",
    "    best_model = None\n",
    "    best_accuracy = 0\n",
    "    best_params = {}\n",
    "    optimizer_class = optimizer\n",
    "    model = None\n",
    "    # Iterate over all combinations of the parameter lists\n",
    "    for lr, hid_size, emb_size, weight_decay, patience, emb_drop in itertools.product(lr_list, hid_size_list, emb_size_list, weight_decay_list, patience_list, emb_drop_list):\n",
    "\n",
    "        print(\n",
    "            f\"Training with parameters: lr={lr}, hid_size={hid_size}, emb_size={emb_size}, weight_decay={weight_decay}, patience={patience}, emb_drop={emb_drop}\")\n",
    "\n",
    "        # Initialize the model with current parameters\n",
    "        model = MultiModel1(emb_size=emb_size, hid_size=hid_size, vocab_len = vocab_len, model_type=model_type, out_slot=out_slot,\n",
    "                           pad_index=PAD_TOKEN, dropout=dropout,out_int=out_int,\n",
    "                            emb_dropout=emb_drop, bidirectional=bidirectional).to(DEVICE)\n",
    "\n",
    "        model.apply(init_weights)\n",
    "\n",
    "        # Set up the optimizer with current parameters\n",
    "        optimizer_obj = optimizer_class(model.parameters(), lr=lr,\n",
    "                                        weight_decay=weight_decay)\n",
    "\n",
    "        # Train the model\n",
    "        accuracy, model = train_model(exp_name+\"/\"+f\"LR={lr}, HS={hid_size}, ES={emb_size}, WD={weight_decay}, P={patience}, E_D={emb_drop},M_T={model_type},D={dropout}\", model=model,\n",
    "                                      optimizer=optimizer_obj,patience_set=patience,\n",
    "                                      n_epochs=n_epochs, exp_name=exp_name,model_type = model_type)\n",
    "\n",
    "        # Check if the current model is the best so far\n",
    "        if accuracy > best_accuracy:\n",
    "            best_accuracy = accuracy\n",
    "            best_model = model\n",
    "            best_params = {\n",
    "                'lr': lr,\n",
    "                'hid_size': hid_size,\n",
    "                'emb_size': emb_size,\n",
    "                'weight_decay': weight_decay,\n",
    "                'patience': patience,\n",
    "                'emb_drop': emb_drop,\n",
    "            }\n",
    "\n",
    "            torch.save({\n",
    "                'model_state_dict': model.state_dict(),\n",
    "                \"best_params\":best_params,\n",
    "                \"exp\":exp_name\n",
    "            }, \"models/\"+exp_name+\".model\")\n",
    "\n",
    "    print(f\"Best model parameters: {best_params}\")\n",
    "    print(f\"Best model accuracy: {best_accuracy}\")\n",
    "    return best_model, best_params"
   ]
  },
  {
   "cell_type": "code",
   "execution_count": 19,
   "metadata": {},
   "outputs": [],
   "source": [
    "from torch import optim\n",
    "\n",
    "out_slot = len(lang.slot2id)\n",
    "out_int = len(lang.intent2id)\n",
    "vocab_len = len(lang.word2id)"
   ]
  },
  {
   "cell_type": "code",
   "execution_count": 36,
   "metadata": {},
   "outputs": [
    {
     "name": "stdout",
     "output_type": "stream",
     "text": [
      "Training with parameters: lr=0.001, hid_size=200, emb_size=200, weight_decay=0.0001, patience=3, emb_drop=0.1, out_drop=0\n"
     ]
    },
    {
     "name": "stderr",
     "output_type": "stream",
     "text": [
      "  0%|          | 0/99 [00:00<?, ?it/s]"
     ]
    },
    {
     "name": "stderr",
     "output_type": "stream",
     "text": [
      " 95%|█████████▍| 94/99 [00:30<00:01,  3.07it/s]\n"
     ]
    },
    {
     "name": "stdout",
     "output_type": "stream",
     "text": [
      "Slot F1:  0.9120224325271643\n",
      "Intent Accuracy: 0.9272116461366181\n",
      "Training with parameters: lr=0.001, hid_size=200, emb_size=200, weight_decay=0.0001, patience=3, emb_drop=0.2, out_drop=0\n"
     ]
    },
    {
     "name": "stderr",
     "output_type": "stream",
     "text": [
      " 80%|███████▉  | 79/99 [00:25<00:06,  3.12it/s]\n"
     ]
    },
    {
     "name": "stdout",
     "output_type": "stream",
     "text": [
      "Slot F1:  0.9264679950625992\n",
      "Intent Accuracy: 0.9496080627099664\n",
      "Training with parameters: lr=0.001, hid_size=200, emb_size=200, weight_decay=0.0001, patience=3, emb_drop=0.3, out_drop=0\n"
     ]
    },
    {
     "name": "stderr",
     "output_type": "stream",
     "text": [
      " 90%|████████▉ | 89/99 [00:25<00:02,  3.55it/s]\n"
     ]
    },
    {
     "name": "stdout",
     "output_type": "stream",
     "text": [
      "Slot F1:  0.930570315267446\n",
      "Intent Accuracy: 0.9496080627099664\n",
      "Training with parameters: lr=0.001, hid_size=200, emb_size=200, weight_decay=0.001, patience=3, emb_drop=0.1, out_drop=0\n"
     ]
    },
    {
     "name": "stderr",
     "output_type": "stream",
     "text": [
      " 80%|███████▉  | 79/99 [00:22<00:05,  3.55it/s]\n"
     ]
    },
    {
     "name": "stdout",
     "output_type": "stream",
     "text": [
      "Slot F1:  0.8607640774941155\n",
      "Intent Accuracy: 0.9552071668533034\n",
      "Training with parameters: lr=0.001, hid_size=200, emb_size=200, weight_decay=0.001, patience=3, emb_drop=0.2, out_drop=0\n"
     ]
    },
    {
     "name": "stderr",
     "output_type": "stream",
     "text": [
      " 65%|██████▍   | 64/99 [00:17<00:09,  3.56it/s]\n"
     ]
    },
    {
     "name": "stdout",
     "output_type": "stream",
     "text": [
      "Slot F1:  0.8580738595220854\n",
      "Intent Accuracy: 0.9574468085106383\n",
      "Training with parameters: lr=0.001, hid_size=200, emb_size=200, weight_decay=0.001, patience=3, emb_drop=0.3, out_drop=0\n"
     ]
    },
    {
     "name": "stderr",
     "output_type": "stream",
     "text": [
      " 85%|████████▍ | 84/99 [00:23<00:04,  3.52it/s]\n"
     ]
    },
    {
     "name": "stdout",
     "output_type": "stream",
     "text": [
      "Slot F1:  0.8518115942028986\n",
      "Intent Accuracy: 0.9440089585666294\n",
      "Training with parameters: lr=0.001, hid_size=200, emb_size=300, weight_decay=0.0001, patience=3, emb_drop=0.1, out_drop=0\n"
     ]
    },
    {
     "name": "stderr",
     "output_type": "stream",
     "text": [
      " 80%|███████▉  | 79/99 [00:22<00:05,  3.54it/s]\n"
     ]
    },
    {
     "name": "stdout",
     "output_type": "stream",
     "text": [
      "Slot F1:  0.9179922234004949\n",
      "Intent Accuracy: 0.9451287793952967\n",
      "Training with parameters: lr=0.001, hid_size=200, emb_size=300, weight_decay=0.0001, patience=3, emb_drop=0.2, out_drop=0\n"
     ]
    },
    {
     "name": "stderr",
     "output_type": "stream",
     "text": [
      " 90%|████████▉ | 89/99 [00:24<00:02,  3.62it/s]\n"
     ]
    },
    {
     "name": "stdout",
     "output_type": "stream",
     "text": [
      "Slot F1:  0.9237557359689376\n",
      "Intent Accuracy: 0.9451287793952967\n",
      "Training with parameters: lr=0.001, hid_size=200, emb_size=300, weight_decay=0.0001, patience=3, emb_drop=0.3, out_drop=0\n"
     ]
    },
    {
     "name": "stderr",
     "output_type": "stream",
     "text": [
      "100%|██████████| 99/99 [00:28<00:00,  3.49it/s]\n"
     ]
    },
    {
     "name": "stdout",
     "output_type": "stream",
     "text": [
      "Slot F1:  0.9268464657147893\n",
      "Intent Accuracy: 0.9518477043673013\n",
      "Training with parameters: lr=0.001, hid_size=200, emb_size=300, weight_decay=0.001, patience=3, emb_drop=0.1, out_drop=0\n"
     ]
    },
    {
     "name": "stderr",
     "output_type": "stream",
     "text": [
      " 80%|███████▉  | 79/99 [00:22<00:05,  3.48it/s]\n"
     ]
    },
    {
     "name": "stdout",
     "output_type": "stream",
     "text": [
      "Slot F1:  0.8687160940325497\n",
      "Intent Accuracy: 0.9518477043673013\n",
      "Training with parameters: lr=0.001, hid_size=200, emb_size=300, weight_decay=0.001, patience=3, emb_drop=0.2, out_drop=0\n"
     ]
    },
    {
     "name": "stderr",
     "output_type": "stream",
     "text": [
      " 65%|██████▍   | 64/99 [00:18<00:10,  3.47it/s]\n"
     ]
    },
    {
     "name": "stdout",
     "output_type": "stream",
     "text": [
      "Slot F1:  0.8791327913279133\n",
      "Intent Accuracy: 0.9462486002239642\n",
      "Training with parameters: lr=0.001, hid_size=200, emb_size=300, weight_decay=0.001, patience=3, emb_drop=0.3, out_drop=0\n"
     ]
    },
    {
     "name": "stderr",
     "output_type": "stream",
     "text": [
      " 70%|██████▉   | 69/99 [00:19<00:08,  3.52it/s]\n"
     ]
    },
    {
     "name": "stdout",
     "output_type": "stream",
     "text": [
      "Slot F1:  0.8720888570404873\n",
      "Intent Accuracy: 0.9417693169092946\n",
      "Training with parameters: lr=0.001, hid_size=200, emb_size=500, weight_decay=0.0001, patience=3, emb_drop=0.1, out_drop=0\n"
     ]
    },
    {
     "name": "stderr",
     "output_type": "stream",
     "text": [
      "100%|██████████| 99/99 [00:29<00:00,  3.38it/s]\n"
     ]
    },
    {
     "name": "stdout",
     "output_type": "stream",
     "text": [
      "Slot F1:  0.9268121041520057\n",
      "Intent Accuracy: 0.9462486002239642\n",
      "Training with parameters: lr=0.001, hid_size=200, emb_size=500, weight_decay=0.0001, patience=3, emb_drop=0.2, out_drop=0\n"
     ]
    },
    {
     "name": "stderr",
     "output_type": "stream",
     "text": [
      " 85%|████████▍ | 84/99 [00:28<00:05,  2.99it/s]\n"
     ]
    },
    {
     "name": "stdout",
     "output_type": "stream",
     "text": [
      "Slot F1:  0.928319209039548\n",
      "Intent Accuracy: 0.9563269876819709\n",
      "Training with parameters: lr=0.001, hid_size=200, emb_size=500, weight_decay=0.0001, patience=3, emb_drop=0.3, out_drop=0\n"
     ]
    },
    {
     "name": "stderr",
     "output_type": "stream",
     "text": [
      " 70%|██████▉   | 69/99 [00:23<00:10,  2.92it/s]\n"
     ]
    },
    {
     "name": "stdout",
     "output_type": "stream",
     "text": [
      "Slot F1:  0.9252782193958665\n",
      "Intent Accuracy: 0.9596864501679732\n",
      "Training with parameters: lr=0.001, hid_size=200, emb_size=500, weight_decay=0.001, patience=3, emb_drop=0.1, out_drop=0\n"
     ]
    },
    {
     "name": "stderr",
     "output_type": "stream",
     "text": [
      " 49%|████▉     | 49/99 [00:17<00:18,  2.73it/s]\n"
     ]
    },
    {
     "name": "stdout",
     "output_type": "stream",
     "text": [
      "Slot F1:  0.8898804212029271\n",
      "Intent Accuracy: 0.9552071668533034\n",
      "Training with parameters: lr=0.001, hid_size=200, emb_size=500, weight_decay=0.001, patience=3, emb_drop=0.2, out_drop=0\n"
     ]
    },
    {
     "name": "stderr",
     "output_type": "stream",
     "text": [
      " 49%|████▉     | 49/99 [00:17<00:18,  2.77it/s]\n"
     ]
    },
    {
     "name": "stdout",
     "output_type": "stream",
     "text": [
      "Slot F1:  0.8789831722162548\n",
      "Intent Accuracy: 0.93505039193729\n",
      "Training with parameters: lr=0.001, hid_size=200, emb_size=500, weight_decay=0.001, patience=3, emb_drop=0.3, out_drop=0\n"
     ]
    },
    {
     "name": "stderr",
     "output_type": "stream",
     "text": [
      " 55%|█████▍    | 54/99 [00:20<00:16,  2.66it/s]\n"
     ]
    },
    {
     "name": "stdout",
     "output_type": "stream",
     "text": [
      "Slot F1:  0.8854445038303936\n",
      "Intent Accuracy: 0.9585666293393057\n",
      "Training with parameters: lr=0.001, hid_size=300, emb_size=200, weight_decay=0.0001, patience=3, emb_drop=0.1, out_drop=0\n"
     ]
    },
    {
     "name": "stderr",
     "output_type": "stream",
     "text": [
      " 65%|██████▍   | 64/99 [00:21<00:11,  3.03it/s]\n"
     ]
    },
    {
     "name": "stdout",
     "output_type": "stream",
     "text": [
      "Slot F1:  0.9236466231705166\n",
      "Intent Accuracy: 0.948488241881299\n",
      "Training with parameters: lr=0.001, hid_size=300, emb_size=200, weight_decay=0.0001, patience=3, emb_drop=0.2, out_drop=0\n"
     ]
    },
    {
     "name": "stderr",
     "output_type": "stream",
     "text": [
      " 60%|█████▉    | 59/99 [00:18<00:12,  3.17it/s]\n"
     ]
    },
    {
     "name": "stdout",
     "output_type": "stream",
     "text": [
      "Slot F1:  0.9286974938228026\n",
      "Intent Accuracy: 0.9552071668533034\n",
      "Training with parameters: lr=0.001, hid_size=300, emb_size=200, weight_decay=0.0001, patience=3, emb_drop=0.3, out_drop=0\n"
     ]
    },
    {
     "name": "stderr",
     "output_type": "stream",
     "text": [
      " 85%|████████▍ | 84/99 [00:26<00:04,  3.14it/s]\n"
     ]
    },
    {
     "name": "stdout",
     "output_type": "stream",
     "text": [
      "Slot F1:  0.9198163193217943\n",
      "Intent Accuracy: 0.9462486002239642\n",
      "Training with parameters: lr=0.001, hid_size=300, emb_size=200, weight_decay=0.001, patience=3, emb_drop=0.1, out_drop=0\n"
     ]
    },
    {
     "name": "stderr",
     "output_type": "stream",
     "text": [
      " 70%|██████▉   | 69/99 [00:27<00:11,  2.50it/s]\n"
     ]
    },
    {
     "name": "stdout",
     "output_type": "stream",
     "text": [
      "Slot F1:  0.8720532661508008\n",
      "Intent Accuracy: 0.948488241881299\n",
      "Training with parameters: lr=0.001, hid_size=300, emb_size=200, weight_decay=0.001, patience=3, emb_drop=0.2, out_drop=0\n"
     ]
    },
    {
     "name": "stderr",
     "output_type": "stream",
     "text": [
      " 90%|████████▉ | 89/99 [00:31<00:03,  2.84it/s]\n"
     ]
    },
    {
     "name": "stdout",
     "output_type": "stream",
     "text": [
      "Slot F1:  0.8769423111269868\n",
      "Intent Accuracy: 0.9552071668533034\n",
      "Training with parameters: lr=0.001, hid_size=300, emb_size=200, weight_decay=0.001, patience=3, emb_drop=0.3, out_drop=0\n"
     ]
    },
    {
     "name": "stderr",
     "output_type": "stream",
     "text": [
      " 55%|█████▍    | 54/99 [00:18<00:15,  2.86it/s]\n"
     ]
    },
    {
     "name": "stdout",
     "output_type": "stream",
     "text": [
      "Slot F1:  0.8717391304347828\n",
      "Intent Accuracy: 0.9361702127659575\n",
      "Training with parameters: lr=0.001, hid_size=300, emb_size=300, weight_decay=0.0001, patience=3, emb_drop=0.1, out_drop=0\n"
     ]
    },
    {
     "name": "stderr",
     "output_type": "stream",
     "text": [
      " 95%|█████████▍| 94/99 [00:34<00:01,  2.75it/s]\n"
     ]
    },
    {
     "name": "stdout",
     "output_type": "stream",
     "text": [
      "Slot F1:  0.9246356203341628\n",
      "Intent Accuracy: 0.9518477043673013\n",
      "Training with parameters: lr=0.001, hid_size=300, emb_size=300, weight_decay=0.0001, patience=3, emb_drop=0.2, out_drop=0\n"
     ]
    },
    {
     "name": "stderr",
     "output_type": "stream",
     "text": [
      " 55%|█████▍    | 54/99 [00:20<00:16,  2.70it/s]\n"
     ]
    },
    {
     "name": "stdout",
     "output_type": "stream",
     "text": [
      "Slot F1:  0.9167693119831075\n",
      "Intent Accuracy: 0.9496080627099664\n",
      "Training with parameters: lr=0.001, hid_size=300, emb_size=300, weight_decay=0.0001, patience=3, emb_drop=0.3, out_drop=0\n"
     ]
    },
    {
     "name": "stderr",
     "output_type": "stream",
     "text": [
      " 49%|████▉     | 49/99 [00:18<00:18,  2.70it/s]\n"
     ]
    },
    {
     "name": "stdout",
     "output_type": "stream",
     "text": [
      "Slot F1:  0.9196255078608019\n",
      "Intent Accuracy: 0.93505039193729\n",
      "Training with parameters: lr=0.001, hid_size=300, emb_size=300, weight_decay=0.001, patience=3, emb_drop=0.1, out_drop=0\n"
     ]
    },
    {
     "name": "stderr",
     "output_type": "stream",
     "text": [
      " 55%|█████▍    | 54/99 [00:20<00:17,  2.60it/s]\n"
     ]
    },
    {
     "name": "stdout",
     "output_type": "stream",
     "text": [
      "Slot F1:  0.8869659275283939\n",
      "Intent Accuracy: 0.9552071668533034\n",
      "Training with parameters: lr=0.001, hid_size=300, emb_size=300, weight_decay=0.001, patience=3, emb_drop=0.2, out_drop=0\n"
     ]
    },
    {
     "name": "stderr",
     "output_type": "stream",
     "text": [
      " 65%|██████▍   | 64/99 [00:23<00:12,  2.70it/s]\n"
     ]
    },
    {
     "name": "stdout",
     "output_type": "stream",
     "text": [
      "Slot F1:  0.8799126637554585\n",
      "Intent Accuracy: 0.9540873460246361\n",
      "Training with parameters: lr=0.001, hid_size=300, emb_size=300, weight_decay=0.001, patience=3, emb_drop=0.3, out_drop=0\n"
     ]
    },
    {
     "name": "stderr",
     "output_type": "stream",
     "text": [
      " 60%|█████▉    | 59/99 [00:22<00:15,  2.67it/s]\n"
     ]
    },
    {
     "name": "stdout",
     "output_type": "stream",
     "text": [
      "Slot F1:  0.8584837545126354\n",
      "Intent Accuracy: 0.9272116461366181\n",
      "Training with parameters: lr=0.001, hid_size=300, emb_size=500, weight_decay=0.0001, patience=3, emb_drop=0.1, out_drop=0\n"
     ]
    },
    {
     "name": "stderr",
     "output_type": "stream",
     "text": [
      " 65%|██████▍   | 64/99 [00:25<00:13,  2.52it/s]\n"
     ]
    },
    {
     "name": "stdout",
     "output_type": "stream",
     "text": [
      "Slot F1:  0.9283819628647216\n",
      "Intent Accuracy: 0.9473684210526315\n",
      "Training with parameters: lr=0.001, hid_size=300, emb_size=500, weight_decay=0.0001, patience=3, emb_drop=0.2, out_drop=0\n"
     ]
    },
    {
     "name": "stderr",
     "output_type": "stream",
     "text": [
      " 39%|███▉      | 39/99 [00:15<00:23,  2.51it/s]\n"
     ]
    },
    {
     "name": "stdout",
     "output_type": "stream",
     "text": [
      "Slot F1:  0.9225039900691611\n",
      "Intent Accuracy: 0.9428891377379619\n",
      "Training with parameters: lr=0.001, hid_size=300, emb_size=500, weight_decay=0.0001, patience=3, emb_drop=0.3, out_drop=0\n"
     ]
    },
    {
     "name": "stderr",
     "output_type": "stream",
     "text": [
      " 80%|███████▉  | 79/99 [00:31<00:07,  2.52it/s]\n"
     ]
    },
    {
     "name": "stdout",
     "output_type": "stream",
     "text": [
      "Slot F1:  0.9318743381574303\n",
      "Intent Accuracy: 0.9552071668533034\n",
      "Training with parameters: lr=0.001, hid_size=300, emb_size=500, weight_decay=0.001, patience=3, emb_drop=0.1, out_drop=0\n"
     ]
    },
    {
     "name": "stderr",
     "output_type": "stream",
     "text": [
      " 49%|████▉     | 49/99 [00:23<00:23,  2.11it/s]\n"
     ]
    },
    {
     "name": "stdout",
     "output_type": "stream",
     "text": [
      "Slot F1:  0.8961062264489502\n",
      "Intent Accuracy: 0.9473684210526315\n",
      "Training with parameters: lr=0.001, hid_size=300, emb_size=500, weight_decay=0.001, patience=3, emb_drop=0.2, out_drop=0\n"
     ]
    },
    {
     "name": "stderr",
     "output_type": "stream",
     "text": [
      " 44%|████▍     | 44/99 [00:21<00:26,  2.08it/s]\n"
     ]
    },
    {
     "name": "stdout",
     "output_type": "stream",
     "text": [
      "Slot F1:  0.8964407082811662\n",
      "Intent Accuracy: 0.9451287793952967\n",
      "Training with parameters: lr=0.001, hid_size=300, emb_size=500, weight_decay=0.001, patience=3, emb_drop=0.3, out_drop=0\n"
     ]
    },
    {
     "name": "stderr",
     "output_type": "stream",
     "text": [
      " 49%|████▉     | 49/99 [00:21<00:22,  2.25it/s]\n"
     ]
    },
    {
     "name": "stdout",
     "output_type": "stream",
     "text": [
      "Slot F1:  0.8955650929899857\n",
      "Intent Accuracy: 0.9462486002239642\n",
      "Training with parameters: lr=0.001, hid_size=500, emb_size=200, weight_decay=0.0001, patience=3, emb_drop=0.1, out_drop=0\n"
     ]
    },
    {
     "name": "stderr",
     "output_type": "stream",
     "text": [
      " 75%|███████▍  | 74/99 [00:29<00:10,  2.49it/s]\n"
     ]
    },
    {
     "name": "stdout",
     "output_type": "stream",
     "text": [
      "Slot F1:  0.9224229543039318\n",
      "Intent Accuracy: 0.9440089585666294\n",
      "Training with parameters: lr=0.001, hid_size=500, emb_size=200, weight_decay=0.0001, patience=3, emb_drop=0.2, out_drop=0\n"
     ]
    },
    {
     "name": "stderr",
     "output_type": "stream",
     "text": [
      " 49%|████▉     | 49/99 [00:20<00:20,  2.39it/s]\n"
     ]
    },
    {
     "name": "stdout",
     "output_type": "stream",
     "text": [
      "Slot F1:  0.9115309906410028\n",
      "Intent Accuracy: 0.9384098544232923\n",
      "Training with parameters: lr=0.001, hid_size=500, emb_size=200, weight_decay=0.0001, patience=3, emb_drop=0.3, out_drop=0\n"
     ]
    },
    {
     "name": "stderr",
     "output_type": "stream",
     "text": [
      " 44%|████▍     | 44/99 [00:16<00:20,  2.71it/s]\n"
     ]
    },
    {
     "name": "stdout",
     "output_type": "stream",
     "text": [
      "Slot F1:  0.911926280347333\n",
      "Intent Accuracy: 0.9462486002239642\n",
      "Training with parameters: lr=0.001, hid_size=500, emb_size=200, weight_decay=0.001, patience=3, emb_drop=0.1, out_drop=0\n"
     ]
    },
    {
     "name": "stderr",
     "output_type": "stream",
     "text": [
      " 44%|████▍     | 44/99 [00:18<00:23,  2.38it/s]\n"
     ]
    },
    {
     "name": "stdout",
     "output_type": "stream",
     "text": [
      "Slot F1:  0.8749106504646176\n",
      "Intent Accuracy: 0.9428891377379619\n",
      "Training with parameters: lr=0.001, hid_size=500, emb_size=200, weight_decay=0.001, patience=3, emb_drop=0.2, out_drop=0\n"
     ]
    },
    {
     "name": "stderr",
     "output_type": "stream",
     "text": [
      " 39%|███▉      | 39/99 [00:16<00:25,  2.35it/s]\n"
     ]
    },
    {
     "name": "stdout",
     "output_type": "stream",
     "text": [
      "Slot F1:  0.8697056712132089\n",
      "Intent Accuracy: 0.9462486002239642\n",
      "Training with parameters: lr=0.001, hid_size=500, emb_size=200, weight_decay=0.001, patience=3, emb_drop=0.3, out_drop=0\n"
     ]
    },
    {
     "name": "stderr",
     "output_type": "stream",
     "text": [
      " 39%|███▉      | 39/99 [00:15<00:24,  2.48it/s]\n"
     ]
    },
    {
     "name": "stdout",
     "output_type": "stream",
     "text": [
      "Slot F1:  0.873269818443286\n",
      "Intent Accuracy: 0.9328107502799552\n",
      "Training with parameters: lr=0.001, hid_size=500, emb_size=300, weight_decay=0.0001, patience=3, emb_drop=0.1, out_drop=0\n"
     ]
    },
    {
     "name": "stderr",
     "output_type": "stream",
     "text": [
      " 44%|████▍     | 44/99 [00:17<00:22,  2.45it/s]\n"
     ]
    },
    {
     "name": "stdout",
     "output_type": "stream",
     "text": [
      "Slot F1:  0.9210572999822602\n",
      "Intent Accuracy: 0.9462486002239642\n",
      "Training with parameters: lr=0.001, hid_size=500, emb_size=300, weight_decay=0.0001, patience=3, emb_drop=0.2, out_drop=0\n"
     ]
    },
    {
     "name": "stderr",
     "output_type": "stream",
     "text": [
      " 44%|████▍     | 44/99 [00:17<00:22,  2.48it/s]\n"
     ]
    },
    {
     "name": "stdout",
     "output_type": "stream",
     "text": [
      "Slot F1:  0.9235408905446157\n",
      "Intent Accuracy: 0.9496080627099664\n",
      "Training with parameters: lr=0.001, hid_size=500, emb_size=300, weight_decay=0.0001, patience=3, emb_drop=0.3, out_drop=0\n"
     ]
    },
    {
     "name": "stderr",
     "output_type": "stream",
     "text": [
      " 49%|████▉     | 49/99 [00:24<00:25,  1.97it/s]\n"
     ]
    },
    {
     "name": "stdout",
     "output_type": "stream",
     "text": [
      "Slot F1:  0.9167254763585039\n",
      "Intent Accuracy: 0.9507278835386338\n",
      "Training with parameters: lr=0.001, hid_size=500, emb_size=300, weight_decay=0.001, patience=3, emb_drop=0.1, out_drop=0\n"
     ]
    },
    {
     "name": "stderr",
     "output_type": "stream",
     "text": [
      " 55%|█████▍    | 54/99 [00:28<00:23,  1.92it/s]\n"
     ]
    },
    {
     "name": "stdout",
     "output_type": "stream",
     "text": [
      "Slot F1:  0.8798997673169858\n",
      "Intent Accuracy: 0.9294512877939529\n",
      "Training with parameters: lr=0.001, hid_size=500, emb_size=300, weight_decay=0.001, patience=3, emb_drop=0.2, out_drop=0\n"
     ]
    },
    {
     "name": "stderr",
     "output_type": "stream",
     "text": [
      " 60%|█████▉    | 59/99 [00:29<00:20,  1.98it/s]\n"
     ]
    },
    {
     "name": "stdout",
     "output_type": "stream",
     "text": [
      "Slot F1:  0.8811792198454071\n",
      "Intent Accuracy: 0.9529675251959686\n",
      "Training with parameters: lr=0.001, hid_size=500, emb_size=300, weight_decay=0.001, patience=3, emb_drop=0.3, out_drop=0\n"
     ]
    },
    {
     "name": "stderr",
     "output_type": "stream",
     "text": [
      " 34%|███▍      | 34/99 [00:17<00:33,  1.96it/s]\n"
     ]
    },
    {
     "name": "stdout",
     "output_type": "stream",
     "text": [
      "Slot F1:  0.88297302126139\n",
      "Intent Accuracy: 0.9451287793952967\n",
      "Training with parameters: lr=0.001, hid_size=500, emb_size=500, weight_decay=0.0001, patience=3, emb_drop=0.1, out_drop=0\n"
     ]
    },
    {
     "name": "stderr",
     "output_type": "stream",
     "text": [
      " 34%|███▍      | 34/99 [00:19<00:37,  1.75it/s]\n"
     ]
    },
    {
     "name": "stdout",
     "output_type": "stream",
     "text": [
      "Slot F1:  0.9247693399574166\n",
      "Intent Accuracy: 0.9428891377379619\n",
      "Training with parameters: lr=0.001, hid_size=500, emb_size=500, weight_decay=0.0001, patience=3, emb_drop=0.2, out_drop=0\n"
     ]
    },
    {
     "name": "stderr",
     "output_type": "stream",
     "text": [
      " 49%|████▉     | 49/99 [00:26<00:27,  1.84it/s]\n"
     ]
    },
    {
     "name": "stdout",
     "output_type": "stream",
     "text": [
      "Slot F1:  0.9277001944493548\n",
      "Intent Accuracy: 0.948488241881299\n",
      "Training with parameters: lr=0.001, hid_size=500, emb_size=500, weight_decay=0.0001, patience=3, emb_drop=0.3, out_drop=0\n"
     ]
    },
    {
     "name": "stderr",
     "output_type": "stream",
     "text": [
      " 44%|████▍     | 44/99 [00:23<00:29,  1.86it/s]\n"
     ]
    },
    {
     "name": "stdout",
     "output_type": "stream",
     "text": [
      "Slot F1:  0.9239476476830563\n",
      "Intent Accuracy: 0.9574468085106383\n",
      "Training with parameters: lr=0.001, hid_size=500, emb_size=500, weight_decay=0.001, patience=3, emb_drop=0.1, out_drop=0\n"
     ]
    },
    {
     "name": "stderr",
     "output_type": "stream",
     "text": [
      " 55%|█████▍    | 54/99 [00:28<00:23,  1.89it/s]\n"
     ]
    },
    {
     "name": "stdout",
     "output_type": "stream",
     "text": [
      "Slot F1:  0.8928507755393118\n",
      "Intent Accuracy: 0.9372900335946248\n",
      "Training with parameters: lr=0.001, hid_size=500, emb_size=500, weight_decay=0.001, patience=3, emb_drop=0.2, out_drop=0\n"
     ]
    },
    {
     "name": "stderr",
     "output_type": "stream",
     "text": [
      " 44%|████▍     | 44/99 [00:21<00:26,  2.09it/s]\n"
     ]
    },
    {
     "name": "stdout",
     "output_type": "stream",
     "text": [
      "Slot F1:  0.8944759206798867\n",
      "Intent Accuracy: 0.9451287793952967\n",
      "Training with parameters: lr=0.001, hid_size=500, emb_size=500, weight_decay=0.001, patience=3, emb_drop=0.3, out_drop=0\n"
     ]
    },
    {
     "name": "stderr",
     "output_type": "stream",
     "text": [
      " 55%|█████▍    | 54/99 [00:22<00:18,  2.43it/s]\n"
     ]
    },
    {
     "name": "stdout",
     "output_type": "stream",
     "text": [
      "Slot F1:  0.8927556818181819\n",
      "Intent Accuracy: 0.948488241881299\n",
      "Training with parameters: lr=0.0005, hid_size=200, emb_size=200, weight_decay=0.0001, patience=3, emb_drop=0.1, out_drop=0\n"
     ]
    },
    {
     "name": "stderr",
     "output_type": "stream",
     "text": [
      "100%|██████████| 99/99 [00:32<00:00,  3.04it/s]\n"
     ]
    },
    {
     "name": "stdout",
     "output_type": "stream",
     "text": [
      "Slot F1:  0.9146170063246664\n",
      "Intent Accuracy: 0.9462486002239642\n",
      "Training with parameters: lr=0.0005, hid_size=200, emb_size=200, weight_decay=0.0001, patience=3, emb_drop=0.2, out_drop=0\n"
     ]
    },
    {
     "name": "stderr",
     "output_type": "stream",
     "text": [
      "100%|██████████| 99/99 [00:32<00:00,  3.04it/s]\n"
     ]
    },
    {
     "name": "stdout",
     "output_type": "stream",
     "text": [
      "Slot F1:  0.9221535745807591\n",
      "Intent Accuracy: 0.948488241881299\n",
      "Training with parameters: lr=0.0005, hid_size=200, emb_size=200, weight_decay=0.0001, patience=3, emb_drop=0.3, out_drop=0\n"
     ]
    },
    {
     "name": "stderr",
     "output_type": "stream",
     "text": [
      "100%|██████████| 99/99 [00:32<00:00,  3.06it/s]\n"
     ]
    },
    {
     "name": "stdout",
     "output_type": "stream",
     "text": [
      "Slot F1:  0.9181657848324515\n",
      "Intent Accuracy: 0.9428891377379619\n",
      "Training with parameters: lr=0.0005, hid_size=200, emb_size=200, weight_decay=0.001, patience=3, emb_drop=0.1, out_drop=0\n"
     ]
    },
    {
     "name": "stderr",
     "output_type": "stream",
     "text": [
      "100%|██████████| 99/99 [00:32<00:00,  3.06it/s]\n"
     ]
    },
    {
     "name": "stdout",
     "output_type": "stream",
     "text": [
      "Slot F1:  0.8621247528312063\n",
      "Intent Accuracy: 0.9451287793952967\n",
      "Training with parameters: lr=0.0005, hid_size=200, emb_size=200, weight_decay=0.001, patience=3, emb_drop=0.2, out_drop=0\n"
     ]
    },
    {
     "name": "stderr",
     "output_type": "stream",
     "text": [
      "100%|██████████| 99/99 [00:31<00:00,  3.10it/s]\n"
     ]
    },
    {
     "name": "stdout",
     "output_type": "stream",
     "text": [
      "Slot F1:  0.8620815138282386\n",
      "Intent Accuracy: 0.9462486002239642\n",
      "Training with parameters: lr=0.0005, hid_size=200, emb_size=200, weight_decay=0.001, patience=3, emb_drop=0.3, out_drop=0\n"
     ]
    },
    {
     "name": "stderr",
     "output_type": "stream",
     "text": [
      " 95%|█████████▍| 94/99 [00:31<00:01,  2.94it/s]\n"
     ]
    },
    {
     "name": "stdout",
     "output_type": "stream",
     "text": [
      "Slot F1:  0.8615384615384615\n",
      "Intent Accuracy: 0.9462486002239642\n",
      "Training with parameters: lr=0.0005, hid_size=200, emb_size=300, weight_decay=0.0001, patience=3, emb_drop=0.1, out_drop=0\n"
     ]
    },
    {
     "name": "stderr",
     "output_type": "stream",
     "text": [
      "100%|██████████| 99/99 [00:33<00:00,  2.96it/s]\n"
     ]
    },
    {
     "name": "stdout",
     "output_type": "stream",
     "text": [
      "Slot F1:  0.9201345847352577\n",
      "Intent Accuracy: 0.9384098544232923\n",
      "Training with parameters: lr=0.0005, hid_size=200, emb_size=300, weight_decay=0.0001, patience=3, emb_drop=0.2, out_drop=0\n"
     ]
    },
    {
     "name": "stderr",
     "output_type": "stream",
     "text": [
      "100%|██████████| 99/99 [00:31<00:00,  3.14it/s]\n"
     ]
    },
    {
     "name": "stdout",
     "output_type": "stream",
     "text": [
      "Slot F1:  0.9235107507930912\n",
      "Intent Accuracy: 0.948488241881299\n",
      "Training with parameters: lr=0.0005, hid_size=200, emb_size=300, weight_decay=0.0001, patience=3, emb_drop=0.3, out_drop=0\n"
     ]
    },
    {
     "name": "stderr",
     "output_type": "stream",
     "text": [
      "100%|██████████| 99/99 [00:31<00:00,  3.19it/s]\n"
     ]
    },
    {
     "name": "stdout",
     "output_type": "stream",
     "text": [
      "Slot F1:  0.9203194321206744\n",
      "Intent Accuracy: 0.9428891377379619\n",
      "Training with parameters: lr=0.0005, hid_size=200, emb_size=300, weight_decay=0.001, patience=3, emb_drop=0.1, out_drop=0\n"
     ]
    },
    {
     "name": "stderr",
     "output_type": "stream",
     "text": [
      " 90%|████████▉ | 89/99 [00:27<00:03,  3.20it/s]\n"
     ]
    },
    {
     "name": "stdout",
     "output_type": "stream",
     "text": [
      "Slot F1:  0.877643231519971\n",
      "Intent Accuracy: 0.9428891377379619\n",
      "Training with parameters: lr=0.0005, hid_size=200, emb_size=300, weight_decay=0.001, patience=3, emb_drop=0.2, out_drop=0\n"
     ]
    },
    {
     "name": "stderr",
     "output_type": "stream",
     "text": [
      "  5%|▌         | 5/99 [00:01<00:31,  2.96it/s]"
     ]
    },
    {
     "name": "stdout",
     "output_type": "stream",
     "text": [
      "Warning: None\n",
      "{('continental', 'O'), ('nonstop', 'O'), ('time', 'O'), ('midwest', 'O'), ('cheapest', 'O'), ('august', 'O'), ('friday', 'B-toloc.city_name'), ('trip', 'O'), ('afternoon', 'O'), ('united', 'O'), ('twa', 'O'), ('limousine', 'O'), ('seventh', 'O'), ('francisco', 'I-toloc.city_name'), ('delta', 'O'), ('earliest', 'O'), ('evening', 'O'), ('class', 'O'), ('pittsburgh', 'O'), ('northwest', 'O'), ('las', 'O')}\n"
     ]
    },
    {
     "name": "stderr",
     "output_type": "stream",
     "text": [
      "100%|██████████| 99/99 [00:31<00:00,  3.16it/s]\n"
     ]
    },
    {
     "name": "stdout",
     "output_type": "stream",
     "text": [
      "Slot F1:  0.8744402650904531\n",
      "Intent Accuracy: 0.9428891377379619\n",
      "Training with parameters: lr=0.0005, hid_size=200, emb_size=300, weight_decay=0.001, patience=3, emb_drop=0.3, out_drop=0\n"
     ]
    },
    {
     "name": "stderr",
     "output_type": "stream",
     "text": [
      " 75%|███████▍  | 74/99 [00:24<00:08,  3.07it/s]\n"
     ]
    },
    {
     "name": "stdout",
     "output_type": "stream",
     "text": [
      "Slot F1:  0.8845669007743563\n",
      "Intent Accuracy: 0.9473684210526315\n",
      "Training with parameters: lr=0.0005, hid_size=200, emb_size=500, weight_decay=0.0001, patience=3, emb_drop=0.1, out_drop=0\n"
     ]
    },
    {
     "name": "stderr",
     "output_type": "stream",
     "text": [
      " 85%|████████▍ | 84/99 [00:27<00:04,  3.10it/s]\n"
     ]
    },
    {
     "name": "stdout",
     "output_type": "stream",
     "text": [
      "Slot F1:  0.9213602550478215\n",
      "Intent Accuracy: 0.9518477043673013\n",
      "Training with parameters: lr=0.0005, hid_size=200, emb_size=500, weight_decay=0.0001, patience=3, emb_drop=0.2, out_drop=0\n"
     ]
    },
    {
     "name": "stderr",
     "output_type": "stream",
     "text": [
      " 95%|█████████▍| 94/99 [00:30<00:01,  3.11it/s]\n"
     ]
    },
    {
     "name": "stdout",
     "output_type": "stream",
     "text": [
      "Slot F1:  0.9256110520722636\n",
      "Intent Accuracy: 0.9428891377379619\n",
      "Training with parameters: lr=0.0005, hid_size=200, emb_size=500, weight_decay=0.0001, patience=3, emb_drop=0.3, out_drop=0\n"
     ]
    },
    {
     "name": "stderr",
     "output_type": "stream",
     "text": [
      "100%|██████████| 99/99 [00:31<00:00,  3.11it/s]\n"
     ]
    },
    {
     "name": "stdout",
     "output_type": "stream",
     "text": [
      "Slot F1:  0.9285334279127504\n",
      "Intent Accuracy: 0.9406494960806271\n",
      "Training with parameters: lr=0.0005, hid_size=200, emb_size=500, weight_decay=0.001, patience=3, emb_drop=0.1, out_drop=0\n"
     ]
    },
    {
     "name": "stderr",
     "output_type": "stream",
     "text": [
      " 60%|█████▉    | 59/99 [00:19<00:13,  3.04it/s]\n"
     ]
    },
    {
     "name": "stdout",
     "output_type": "stream",
     "text": [
      "Slot F1:  0.8923517821959521\n",
      "Intent Accuracy: 0.9428891377379619\n",
      "Training with parameters: lr=0.0005, hid_size=200, emb_size=500, weight_decay=0.001, patience=3, emb_drop=0.2, out_drop=0\n"
     ]
    },
    {
     "name": "stderr",
     "output_type": "stream",
     "text": [
      " 65%|██████▍   | 64/99 [00:20<00:11,  3.06it/s]\n"
     ]
    },
    {
     "name": "stdout",
     "output_type": "stream",
     "text": [
      "Slot F1:  0.8935027742974764\n",
      "Intent Accuracy: 0.9518477043673013\n",
      "Training with parameters: lr=0.0005, hid_size=200, emb_size=500, weight_decay=0.001, patience=3, emb_drop=0.3, out_drop=0\n"
     ]
    },
    {
     "name": "stderr",
     "output_type": "stream",
     "text": [
      " 80%|███████▉  | 79/99 [00:25<00:06,  3.08it/s]\n"
     ]
    },
    {
     "name": "stdout",
     "output_type": "stream",
     "text": [
      "Slot F1:  0.8979445933869526\n",
      "Intent Accuracy: 0.9473684210526315\n",
      "Training with parameters: lr=0.0005, hid_size=300, emb_size=200, weight_decay=0.0001, patience=3, emb_drop=0.1, out_drop=0\n"
     ]
    },
    {
     "name": "stderr",
     "output_type": "stream",
     "text": [
      " 85%|████████▍ | 84/99 [00:28<00:05,  2.93it/s]\n"
     ]
    },
    {
     "name": "stdout",
     "output_type": "stream",
     "text": [
      "Slot F1:  0.9172878949236778\n",
      "Intent Accuracy: 0.9451287793952967\n",
      "Training with parameters: lr=0.0005, hid_size=300, emb_size=200, weight_decay=0.0001, patience=3, emb_drop=0.2, out_drop=0\n"
     ]
    },
    {
     "name": "stderr",
     "output_type": "stream",
     "text": [
      "100%|██████████| 99/99 [00:31<00:00,  3.19it/s]\n"
     ]
    },
    {
     "name": "stdout",
     "output_type": "stream",
     "text": [
      "Slot F1:  0.9154035953471977\n",
      "Intent Accuracy: 0.9507278835386338\n",
      "Training with parameters: lr=0.0005, hid_size=300, emb_size=200, weight_decay=0.0001, patience=3, emb_drop=0.3, out_drop=0\n"
     ]
    },
    {
     "name": "stderr",
     "output_type": "stream",
     "text": [
      " 80%|███████▉  | 79/99 [00:23<00:06,  3.33it/s]\n"
     ]
    },
    {
     "name": "stdout",
     "output_type": "stream",
     "text": [
      "Slot F1:  0.911926280347333\n",
      "Intent Accuracy: 0.9361702127659575\n",
      "Training with parameters: lr=0.0005, hid_size=300, emb_size=200, weight_decay=0.001, patience=3, emb_drop=0.1, out_drop=0\n"
     ]
    },
    {
     "name": "stderr",
     "output_type": "stream",
     "text": [
      " 90%|████████▉ | 89/99 [00:26<00:02,  3.38it/s]\n"
     ]
    },
    {
     "name": "stdout",
     "output_type": "stream",
     "text": [
      "Slot F1:  0.8719811149446158\n",
      "Intent Accuracy: 0.93505039193729\n",
      "Training with parameters: lr=0.0005, hid_size=300, emb_size=200, weight_decay=0.001, patience=3, emb_drop=0.2, out_drop=0\n"
     ]
    },
    {
     "name": "stderr",
     "output_type": "stream",
     "text": [
      "100%|██████████| 99/99 [00:28<00:00,  3.43it/s]\n"
     ]
    },
    {
     "name": "stdout",
     "output_type": "stream",
     "text": [
      "Slot F1:  0.8772248456229569\n",
      "Intent Accuracy: 0.948488241881299\n",
      "Training with parameters: lr=0.0005, hid_size=300, emb_size=200, weight_decay=0.001, patience=3, emb_drop=0.3, out_drop=0\n"
     ]
    },
    {
     "name": "stderr",
     "output_type": "stream",
     "text": [
      " 85%|████████▍ | 84/99 [00:24<00:04,  3.41it/s]\n"
     ]
    },
    {
     "name": "stdout",
     "output_type": "stream",
     "text": [
      "Slot F1:  0.863905325443787\n",
      "Intent Accuracy: 0.9428891377379619\n",
      "Training with parameters: lr=0.0005, hid_size=300, emb_size=300, weight_decay=0.0001, patience=3, emb_drop=0.1, out_drop=0\n"
     ]
    },
    {
     "name": "stderr",
     "output_type": "stream",
     "text": [
      "100%|██████████| 99/99 [00:33<00:00,  2.93it/s]\n"
     ]
    },
    {
     "name": "stdout",
     "output_type": "stream",
     "text": [
      "Slot F1:  0.9202344999111743\n",
      "Intent Accuracy: 0.948488241881299\n",
      "Training with parameters: lr=0.0005, hid_size=300, emb_size=300, weight_decay=0.0001, patience=3, emb_drop=0.2, out_drop=0\n"
     ]
    },
    {
     "name": "stderr",
     "output_type": "stream",
     "text": [
      " 70%|██████▉   | 69/99 [00:25<00:11,  2.73it/s]\n"
     ]
    },
    {
     "name": "stdout",
     "output_type": "stream",
     "text": [
      "Slot F1:  0.9182837813779599\n",
      "Intent Accuracy: 0.93505039193729\n",
      "Training with parameters: lr=0.0005, hid_size=300, emb_size=300, weight_decay=0.0001, patience=3, emb_drop=0.3, out_drop=0\n"
     ]
    },
    {
     "name": "stderr",
     "output_type": "stream",
     "text": [
      " 90%|████████▉ | 89/99 [00:30<00:03,  2.88it/s]\n"
     ]
    },
    {
     "name": "stdout",
     "output_type": "stream",
     "text": [
      "Slot F1:  0.9176262178919397\n",
      "Intent Accuracy: 0.9428891377379619\n",
      "Training with parameters: lr=0.0005, hid_size=300, emb_size=300, weight_decay=0.001, patience=3, emb_drop=0.1, out_drop=0\n"
     ]
    },
    {
     "name": "stderr",
     "output_type": "stream",
     "text": [
      " 85%|████████▍ | 84/99 [00:28<00:05,  2.91it/s]\n"
     ]
    },
    {
     "name": "stdout",
     "output_type": "stream",
     "text": [
      "Slot F1:  0.887410071942446\n",
      "Intent Accuracy: 0.9428891377379619\n",
      "Training with parameters: lr=0.0005, hid_size=300, emb_size=300, weight_decay=0.001, patience=3, emb_drop=0.2, out_drop=0\n"
     ]
    },
    {
     "name": "stderr",
     "output_type": "stream",
     "text": [
      " 80%|███████▉  | 79/99 [00:27<00:07,  2.85it/s]\n"
     ]
    },
    {
     "name": "stdout",
     "output_type": "stream",
     "text": [
      "Slot F1:  0.8810162819824655\n",
      "Intent Accuracy: 0.9451287793952967\n",
      "Training with parameters: lr=0.0005, hid_size=300, emb_size=300, weight_decay=0.001, patience=3, emb_drop=0.3, out_drop=0\n"
     ]
    },
    {
     "name": "stderr",
     "output_type": "stream",
     "text": [
      " 80%|███████▉  | 79/99 [00:27<00:06,  2.88it/s]\n"
     ]
    },
    {
     "name": "stdout",
     "output_type": "stream",
     "text": [
      "Slot F1:  0.88997113997114\n",
      "Intent Accuracy: 0.9496080627099664\n",
      "Training with parameters: lr=0.0005, hid_size=300, emb_size=500, weight_decay=0.0001, patience=3, emb_drop=0.1, out_drop=0\n"
     ]
    },
    {
     "name": "stderr",
     "output_type": "stream",
     "text": [
      " 90%|████████▉ | 89/99 [00:30<00:03,  2.88it/s]\n"
     ]
    },
    {
     "name": "stdout",
     "output_type": "stream",
     "text": [
      "Slot F1:  0.926031294452347\n",
      "Intent Accuracy: 0.9462486002239642\n",
      "Training with parameters: lr=0.0005, hid_size=300, emb_size=500, weight_decay=0.0001, patience=3, emb_drop=0.2, out_drop=0\n"
     ]
    },
    {
     "name": "stderr",
     "output_type": "stream",
     "text": [
      " 75%|███████▍  | 74/99 [00:25<00:08,  2.86it/s]\n"
     ]
    },
    {
     "name": "stdout",
     "output_type": "stream",
     "text": [
      "Slot F1:  0.9244680851063829\n",
      "Intent Accuracy: 0.9529675251959686\n",
      "Training with parameters: lr=0.0005, hid_size=300, emb_size=500, weight_decay=0.0001, patience=3, emb_drop=0.3, out_drop=0\n"
     ]
    },
    {
     "name": "stderr",
     "output_type": "stream",
     "text": [
      " 75%|███████▍  | 74/99 [00:26<00:09,  2.76it/s]\n"
     ]
    },
    {
     "name": "stdout",
     "output_type": "stream",
     "text": [
      "Slot F1:  0.9237541820743088\n",
      "Intent Accuracy: 0.9574468085106383\n",
      "Training with parameters: lr=0.0005, hid_size=300, emb_size=500, weight_decay=0.001, patience=3, emb_drop=0.1, out_drop=0\n"
     ]
    },
    {
     "name": "stderr",
     "output_type": "stream",
     "text": [
      " 85%|████████▍ | 84/99 [00:29<00:05,  2.88it/s]\n"
     ]
    },
    {
     "name": "stdout",
     "output_type": "stream",
     "text": [
      "Slot F1:  0.8984725965858043\n",
      "Intent Accuracy: 0.9552071668533034\n",
      "Training with parameters: lr=0.0005, hid_size=300, emb_size=500, weight_decay=0.001, patience=3, emb_drop=0.2, out_drop=0\n"
     ]
    },
    {
     "name": "stderr",
     "output_type": "stream",
     "text": [
      " 60%|█████▉    | 59/99 [00:20<00:13,  2.87it/s]\n"
     ]
    },
    {
     "name": "stdout",
     "output_type": "stream",
     "text": [
      "Slot F1:  0.9018558172733763\n",
      "Intent Accuracy: 0.948488241881299\n",
      "Training with parameters: lr=0.0005, hid_size=300, emb_size=500, weight_decay=0.001, patience=3, emb_drop=0.3, out_drop=0\n"
     ]
    },
    {
     "name": "stderr",
     "output_type": "stream",
     "text": [
      " 65%|██████▍   | 64/99 [00:22<00:12,  2.84it/s]\n"
     ]
    },
    {
     "name": "stdout",
     "output_type": "stream",
     "text": [
      "Slot F1:  0.8944454366851224\n",
      "Intent Accuracy: 0.9440089585666294\n",
      "Training with parameters: lr=0.0005, hid_size=500, emb_size=200, weight_decay=0.0001, patience=3, emb_drop=0.1, out_drop=0\n"
     ]
    },
    {
     "name": "stderr",
     "output_type": "stream",
     "text": [
      " 90%|████████▉ | 89/99 [00:33<00:03,  2.66it/s]\n"
     ]
    },
    {
     "name": "stdout",
     "output_type": "stream",
     "text": [
      "Slot F1:  0.9157857646229739\n",
      "Intent Accuracy: 0.9507278835386338\n",
      "Training with parameters: lr=0.0005, hid_size=500, emb_size=200, weight_decay=0.0001, patience=3, emb_drop=0.2, out_drop=0\n"
     ]
    },
    {
     "name": "stderr",
     "output_type": "stream",
     "text": [
      "100%|██████████| 99/99 [00:36<00:00,  2.72it/s]\n"
     ]
    },
    {
     "name": "stdout",
     "output_type": "stream",
     "text": [
      "Slot F1:  0.9251148004238785\n",
      "Intent Accuracy: 0.9518477043673013\n",
      "Training with parameters: lr=0.0005, hid_size=500, emb_size=200, weight_decay=0.0001, patience=3, emb_drop=0.3, out_drop=0\n"
     ]
    },
    {
     "name": "stderr",
     "output_type": "stream",
     "text": [
      " 90%|████████▉ | 89/99 [00:33<00:03,  2.68it/s]\n"
     ]
    },
    {
     "name": "stdout",
     "output_type": "stream",
     "text": [
      "Slot F1:  0.9207252044081051\n",
      "Intent Accuracy: 0.948488241881299\n",
      "Training with parameters: lr=0.0005, hid_size=500, emb_size=200, weight_decay=0.001, patience=3, emb_drop=0.1, out_drop=0\n"
     ]
    },
    {
     "name": "stderr",
     "output_type": "stream",
     "text": [
      " 55%|█████▍    | 54/99 [00:20<00:17,  2.64it/s]\n"
     ]
    },
    {
     "name": "stdout",
     "output_type": "stream",
     "text": [
      "Slot F1:  0.8769367764915404\n",
      "Intent Accuracy: 0.9462486002239642\n",
      "Training with parameters: lr=0.0005, hid_size=500, emb_size=200, weight_decay=0.001, patience=3, emb_drop=0.2, out_drop=0\n"
     ]
    },
    {
     "name": "stderr",
     "output_type": "stream",
     "text": [
      " 90%|████████▉ | 89/99 [00:33<00:03,  2.67it/s]\n"
     ]
    },
    {
     "name": "stdout",
     "output_type": "stream",
     "text": [
      "Slot F1:  0.8696277647905053\n",
      "Intent Accuracy: 0.9406494960806271\n",
      "Training with parameters: lr=0.0005, hid_size=500, emb_size=200, weight_decay=0.001, patience=3, emb_drop=0.3, out_drop=0\n"
     ]
    },
    {
     "name": "stderr",
     "output_type": "stream",
     "text": [
      "  5%|▌         | 5/99 [00:01<00:37,  2.53it/s]"
     ]
    },
    {
     "name": "stdout",
     "output_type": "stream",
     "text": [
      "Warning: None\n",
      "{('continental', 'O'), ('august', 'O'), ('washington', 'B-fromloc.state_code'), ('delta', 'O'), ('pittsburgh', 'B-fromloc.city_name'), ('sunday', 'O'), ('limousine', 'O'), ('nonstop', 'O'), ('time', 'O'), ('evening', 'O'), ('midwest', 'O'), ('friday', 'O'), ('francisco', 'I-toloc.city_name'), ('afternoon', 'O'), ('united', 'O'), ('twa', 'O'), ('northwest', 'O')}\n"
     ]
    },
    {
     "name": "stderr",
     "output_type": "stream",
     "text": [
      " 70%|██████▉   | 69/99 [00:26<00:11,  2.64it/s]\n"
     ]
    },
    {
     "name": "stdout",
     "output_type": "stream",
     "text": [
      "Slot F1:  0.8747300215982722\n",
      "Intent Accuracy: 0.9384098544232923\n",
      "Training with parameters: lr=0.0005, hid_size=500, emb_size=300, weight_decay=0.0001, patience=3, emb_drop=0.1, out_drop=0\n"
     ]
    },
    {
     "name": "stderr",
     "output_type": "stream",
     "text": [
      " 60%|█████▉    | 59/99 [00:23<00:15,  2.52it/s]\n"
     ]
    },
    {
     "name": "stdout",
     "output_type": "stream",
     "text": [
      "Slot F1:  0.9229944613185636\n",
      "Intent Accuracy: 0.9406494960806271\n",
      "Training with parameters: lr=0.0005, hid_size=500, emb_size=300, weight_decay=0.0001, patience=3, emb_drop=0.2, out_drop=0\n"
     ]
    },
    {
     "name": "stderr",
     "output_type": "stream",
     "text": [
      " 60%|█████▉    | 59/99 [00:22<00:15,  2.63it/s]\n"
     ]
    },
    {
     "name": "stdout",
     "output_type": "stream",
     "text": [
      "Slot F1:  0.9162210338680926\n",
      "Intent Accuracy: 0.9428891377379619\n",
      "Training with parameters: lr=0.0005, hid_size=500, emb_size=300, weight_decay=0.0001, patience=3, emb_drop=0.3, out_drop=0\n"
     ]
    },
    {
     "name": "stderr",
     "output_type": "stream",
     "text": [
      " 70%|██████▉   | 69/99 [00:23<00:10,  2.88it/s]\n"
     ]
    },
    {
     "name": "stdout",
     "output_type": "stream",
     "text": [
      "Slot F1:  0.8985964912280702\n",
      "Intent Accuracy: 0.9339305711086227\n",
      "Training with parameters: lr=0.0005, hid_size=500, emb_size=300, weight_decay=0.001, patience=3, emb_drop=0.1, out_drop=0\n"
     ]
    },
    {
     "name": "stderr",
     "output_type": "stream",
     "text": [
      " 90%|████████▉ | 89/99 [00:28<00:03,  3.17it/s]\n"
     ]
    },
    {
     "name": "stdout",
     "output_type": "stream",
     "text": [
      "Slot F1:  0.8849241748438894\n",
      "Intent Accuracy: 0.9529675251959686\n",
      "Training with parameters: lr=0.0005, hid_size=500, emb_size=300, weight_decay=0.001, patience=3, emb_drop=0.2, out_drop=0\n"
     ]
    },
    {
     "name": "stderr",
     "output_type": "stream",
     "text": [
      " 80%|███████▉  | 79/99 [00:25<00:06,  3.12it/s]\n"
     ]
    },
    {
     "name": "stdout",
     "output_type": "stream",
     "text": [
      "Slot F1:  0.8838122434410138\n",
      "Intent Accuracy: 0.9395296752519597\n",
      "Training with parameters: lr=0.0005, hid_size=500, emb_size=300, weight_decay=0.001, patience=3, emb_drop=0.3, out_drop=0\n"
     ]
    },
    {
     "name": "stderr",
     "output_type": "stream",
     "text": [
      " 70%|██████▉   | 69/99 [00:22<00:09,  3.12it/s]\n"
     ]
    },
    {
     "name": "stdout",
     "output_type": "stream",
     "text": [
      "Slot F1:  0.8833363293187129\n",
      "Intent Accuracy: 0.9395296752519597\n",
      "Training with parameters: lr=0.0005, hid_size=500, emb_size=500, weight_decay=0.0001, patience=3, emb_drop=0.1, out_drop=0\n"
     ]
    },
    {
     "name": "stderr",
     "output_type": "stream",
     "text": [
      " 49%|████▉     | 49/99 [00:16<00:17,  2.92it/s]\n"
     ]
    },
    {
     "name": "stdout",
     "output_type": "stream",
     "text": [
      "Slot F1:  0.9154228855721391\n",
      "Intent Accuracy: 0.9316909294512878\n",
      "Training with parameters: lr=0.0005, hid_size=500, emb_size=500, weight_decay=0.0001, patience=3, emb_drop=0.2, out_drop=0\n"
     ]
    },
    {
     "name": "stderr",
     "output_type": "stream",
     "text": [
      " 44%|████▍     | 44/99 [00:14<00:18,  2.97it/s]\n"
     ]
    },
    {
     "name": "stdout",
     "output_type": "stream",
     "text": [
      "Slot F1:  0.9201209749154955\n",
      "Intent Accuracy: 0.9451287793952967\n",
      "Training with parameters: lr=0.0005, hid_size=500, emb_size=500, weight_decay=0.0001, patience=3, emb_drop=0.3, out_drop=0\n"
     ]
    },
    {
     "name": "stderr",
     "output_type": "stream",
     "text": [
      " 70%|██████▉   | 69/99 [00:23<00:10,  2.97it/s]\n"
     ]
    },
    {
     "name": "stdout",
     "output_type": "stream",
     "text": [
      "Slot F1:  0.9262746491383904\n",
      "Intent Accuracy: 0.9451287793952967\n",
      "Training with parameters: lr=0.0005, hid_size=500, emb_size=500, weight_decay=0.001, patience=3, emb_drop=0.1, out_drop=0\n"
     ]
    },
    {
     "name": "stderr",
     "output_type": "stream",
     "text": [
      " 70%|██████▉   | 69/99 [00:23<00:10,  2.97it/s]\n"
     ]
    },
    {
     "name": "stdout",
     "output_type": "stream",
     "text": [
      "Slot F1:  0.8910609561044962\n",
      "Intent Accuracy: 0.9473684210526315\n",
      "Training with parameters: lr=0.0005, hid_size=500, emb_size=500, weight_decay=0.001, patience=3, emb_drop=0.2, out_drop=0\n"
     ]
    },
    {
     "name": "stderr",
     "output_type": "stream",
     "text": [
      " 75%|███████▍  | 74/99 [00:25<00:08,  2.94it/s]\n"
     ]
    },
    {
     "name": "stdout",
     "output_type": "stream",
     "text": [
      "Slot F1:  0.8996055934026532\n",
      "Intent Accuracy: 0.9428891377379619\n",
      "Training with parameters: lr=0.0005, hid_size=500, emb_size=500, weight_decay=0.001, patience=3, emb_drop=0.3, out_drop=0\n"
     ]
    },
    {
     "name": "stderr",
     "output_type": "stream",
     "text": [
      " 75%|███████▍  | 74/99 [00:24<00:08,  3.01it/s]\n"
     ]
    },
    {
     "name": "stdout",
     "output_type": "stream",
     "text": [
      "Slot F1:  0.9034445832589685\n",
      "Intent Accuracy: 0.9440089585666294\n",
      "Training with parameters: lr=0.0001, hid_size=200, emb_size=200, weight_decay=0.0001, patience=3, emb_drop=0.1, out_drop=0\n"
     ]
    },
    {
     "name": "stderr",
     "output_type": "stream",
     "text": [
      "100%|██████████| 99/99 [00:27<00:00,  3.59it/s]\n"
     ]
    },
    {
     "name": "stdout",
     "output_type": "stream",
     "text": [
      "Slot F1:  0.846139938528295\n",
      "Intent Accuracy: 0.9204927211646137\n",
      "Training with parameters: lr=0.0001, hid_size=200, emb_size=200, weight_decay=0.0001, patience=3, emb_drop=0.2, out_drop=0\n"
     ]
    },
    {
     "name": "stderr",
     "output_type": "stream",
     "text": [
      "100%|██████████| 99/99 [00:27<00:00,  3.67it/s]\n"
     ]
    },
    {
     "name": "stdout",
     "output_type": "stream",
     "text": [
      "Slot F1:  0.8607227165425823\n",
      "Intent Accuracy: 0.9014557670772676\n",
      "Training with parameters: lr=0.0001, hid_size=200, emb_size=200, weight_decay=0.0001, patience=3, emb_drop=0.3, out_drop=0\n"
     ]
    },
    {
     "name": "stderr",
     "output_type": "stream",
     "text": [
      " 15%|█▌        | 15/99 [00:04<00:23,  3.54it/s]"
     ]
    },
    {
     "name": "stdout",
     "output_type": "stream",
     "text": [
      "Warning: None\n",
      "{('continental', 'O'), ('atlanta', 'O'), ('nonstop', 'O'), ('time', 'O'), ('midwest', 'O'), ('washington', 'O'), ('cheapest', 'O'), ('august', 'O'), ('trip', 'O'), ('new', 'O'), ('sunday', 'O'), ('friday', 'O'), ('afternoon', 'O'), ('united', 'O'), ('twa', 'O'), ('pittsburgh', 'B-fromloc.city_name'), ('limousine', 'O'), ('seventh', 'O'), ('francisco', 'I-toloc.city_name'), ('delta', 'O'), ('earliest', 'O'), ('evening', 'O'), ('northwest', 'O'), ('las', 'O')}\n"
     ]
    },
    {
     "name": "stderr",
     "output_type": "stream",
     "text": [
      " 20%|██        | 20/99 [00:05<00:22,  3.50it/s]"
     ]
    },
    {
     "name": "stdout",
     "output_type": "stream",
     "text": [
      "Warning: None\n",
      "{('continental', 'O'), ('nonstop', 'O'), ('time', 'O'), ('midwest', 'O'), ('cheapest', 'O'), ('august', 'O'), ('trip', 'O'), ('sunday', 'O'), ('friday', 'O'), ('afternoon', 'O'), ('united', 'O'), ('twa', 'O'), ('pittsburgh', 'B-fromloc.city_name'), ('limousine', 'O'), ('seventh', 'O'), ('francisco', 'I-toloc.city_name'), ('delta', 'O'), ('earliest', 'O'), ('evening', 'O'), ('northwest', 'O'), ('las', 'O')}\n"
     ]
    },
    {
     "name": "stderr",
     "output_type": "stream",
     "text": [
      "100%|██████████| 99/99 [00:27<00:00,  3.65it/s]\n"
     ]
    },
    {
     "name": "stdout",
     "output_type": "stream",
     "text": [
      "Slot F1:  0.8481884057971014\n",
      "Intent Accuracy: 0.9115341545352743\n",
      "Training with parameters: lr=0.0001, hid_size=200, emb_size=200, weight_decay=0.001, patience=3, emb_drop=0.1, out_drop=0\n"
     ]
    },
    {
     "name": "stderr",
     "output_type": "stream",
     "text": [
      "100%|██████████| 99/99 [00:27<00:00,  3.66it/s]\n"
     ]
    },
    {
     "name": "stdout",
     "output_type": "stream",
     "text": [
      "Slot F1:  0.8233771037543923\n",
      "Intent Accuracy: 0.9014557670772676\n",
      "Training with parameters: lr=0.0001, hid_size=200, emb_size=200, weight_decay=0.001, patience=3, emb_drop=0.2, out_drop=0\n"
     ]
    },
    {
     "name": "stderr",
     "output_type": "stream",
     "text": [
      "100%|██████████| 99/99 [00:27<00:00,  3.60it/s]\n"
     ]
    },
    {
     "name": "stdout",
     "output_type": "stream",
     "text": [
      "Slot F1:  0.80880432755083\n",
      "Intent Accuracy: 0.8947368421052632\n",
      "Training with parameters: lr=0.0001, hid_size=200, emb_size=200, weight_decay=0.001, patience=3, emb_drop=0.3, out_drop=0\n"
     ]
    },
    {
     "name": "stderr",
     "output_type": "stream",
     "text": [
      "100%|██████████| 99/99 [00:27<00:00,  3.64it/s]\n"
     ]
    },
    {
     "name": "stdout",
     "output_type": "stream",
     "text": [
      "Slot F1:  0.825677919203099\n",
      "Intent Accuracy: 0.9048152295632699\n",
      "Training with parameters: lr=0.0001, hid_size=200, emb_size=300, weight_decay=0.0001, patience=3, emb_drop=0.1, out_drop=0\n"
     ]
    },
    {
     "name": "stderr",
     "output_type": "stream",
     "text": [
      "100%|██████████| 99/99 [00:27<00:00,  3.57it/s]\n"
     ]
    },
    {
     "name": "stdout",
     "output_type": "stream",
     "text": [
      "Slot F1:  0.8709387901633461\n",
      "Intent Accuracy: 0.9148936170212766\n",
      "Training with parameters: lr=0.0001, hid_size=200, emb_size=300, weight_decay=0.0001, patience=3, emb_drop=0.2, out_drop=0\n"
     ]
    },
    {
     "name": "stderr",
     "output_type": "stream",
     "text": [
      "100%|██████████| 99/99 [00:27<00:00,  3.63it/s]\n"
     ]
    },
    {
     "name": "stdout",
     "output_type": "stream",
     "text": [
      "Slot F1:  0.8728965270318654\n",
      "Intent Accuracy: 0.921612541993281\n",
      "Training with parameters: lr=0.0001, hid_size=200, emb_size=300, weight_decay=0.0001, patience=3, emb_drop=0.3, out_drop=0\n"
     ]
    },
    {
     "name": "stderr",
     "output_type": "stream",
     "text": [
      "  5%|▌         | 5/99 [00:01<00:26,  3.54it/s]"
     ]
    },
    {
     "name": "stdout",
     "output_type": "stream",
     "text": [
      "Warning: None\n",
      "{('continental', 'O'), ('atlanta', 'O'), ('nonstop', 'O'), ('time', 'O'), ('midwest', 'O'), ('washington', 'O'), ('cheapest', 'O'), ('august', 'O'), ('trip', 'O'), ('new', 'O'), ('sunday', 'O'), ('friday', 'O'), ('afternoon', 'O'), ('united', 'O'), ('twa', 'O'), ('limousine', 'O'), ('seventh', 'O'), ('transport', 'I-fromloc.city_name'), ('delta', 'O'), ('earliest', 'O'), ('francisco', 'O'), ('evening', 'O'), ('class', 'O'), ('pittsburgh', 'O'), ('northwest', 'O'), ('las', 'O')}\n"
     ]
    },
    {
     "name": "stderr",
     "output_type": "stream",
     "text": [
      "100%|██████████| 99/99 [00:27<00:00,  3.65it/s]\n"
     ]
    },
    {
     "name": "stdout",
     "output_type": "stream",
     "text": [
      "Slot F1:  0.874087266251113\n",
      "Intent Accuracy: 0.9283314669652856\n",
      "Training with parameters: lr=0.0001, hid_size=200, emb_size=300, weight_decay=0.001, patience=3, emb_drop=0.1, out_drop=0\n"
     ]
    },
    {
     "name": "stderr",
     "output_type": "stream",
     "text": [
      "100%|██████████| 99/99 [00:27<00:00,  3.65it/s]\n"
     ]
    },
    {
     "name": "stdout",
     "output_type": "stream",
     "text": [
      "Slot F1:  0.8485625343343711\n",
      "Intent Accuracy: 0.9249720044792833\n",
      "Training with parameters: lr=0.0001, hid_size=200, emb_size=300, weight_decay=0.001, patience=3, emb_drop=0.2, out_drop=0\n"
     ]
    },
    {
     "name": "stderr",
     "output_type": "stream",
     "text": [
      "  5%|▌         | 5/99 [00:01<00:26,  3.49it/s]"
     ]
    },
    {
     "name": "stdout",
     "output_type": "stream",
     "text": [
      "Warning: None\n",
      "{('continental', 'O'), ('atlanta', 'O'), ('nonstop', 'O'), ('time', 'O'), ('midwest', 'O'), ('arrange', 'I-fromloc.city_name'), ('cheapest', 'O'), ('august', 'O'), ('trip', 'O'), ('new', 'O'), ('sunday', 'O'), ('friday', 'O'), ('washington', 'I-fromloc.state_name'), ('afternoon', 'O'), ('united', 'O'), ('twa', 'O'), ('cities', 'I-meal_description'), ('transport', 'B-depart_time.period_of_day'), ('limousine', 'O'), ('seventh', 'O'), ('pittsburgh', 'B-toloc.city_name'), ('earliest', 'O'), ('francisco', 'O'), ('evening', 'O'), ('class', 'O'), ('northwest', 'O'), ('las', 'O')}\n"
     ]
    },
    {
     "name": "stderr",
     "output_type": "stream",
     "text": [
      "100%|██████████| 99/99 [00:27<00:00,  3.62it/s]\n"
     ]
    },
    {
     "name": "stdout",
     "output_type": "stream",
     "text": [
      "Slot F1:  0.845163663111438\n",
      "Intent Accuracy: 0.9182530795072789\n",
      "Training with parameters: lr=0.0001, hid_size=200, emb_size=300, weight_decay=0.001, patience=3, emb_drop=0.3, out_drop=0\n"
     ]
    },
    {
     "name": "stderr",
     "output_type": "stream",
     "text": [
      "100%|██████████| 99/99 [00:27<00:00,  3.64it/s]\n"
     ]
    },
    {
     "name": "stdout",
     "output_type": "stream",
     "text": [
      "Slot F1:  0.8469425119004028\n",
      "Intent Accuracy: 0.9238521836506159\n",
      "Training with parameters: lr=0.0001, hid_size=200, emb_size=500, weight_decay=0.0001, patience=3, emb_drop=0.1, out_drop=0\n"
     ]
    },
    {
     "name": "stderr",
     "output_type": "stream",
     "text": [
      "100%|██████████| 99/99 [00:27<00:00,  3.58it/s]\n"
     ]
    },
    {
     "name": "stdout",
     "output_type": "stream",
     "text": [
      "Slot F1:  0.8828541001064963\n",
      "Intent Accuracy: 0.9316909294512878\n",
      "Training with parameters: lr=0.0001, hid_size=200, emb_size=500, weight_decay=0.0001, patience=3, emb_drop=0.2, out_drop=0\n"
     ]
    },
    {
     "name": "stderr",
     "output_type": "stream",
     "text": [
      "100%|██████████| 99/99 [00:27<00:00,  3.62it/s]\n"
     ]
    },
    {
     "name": "stdout",
     "output_type": "stream",
     "text": [
      "Slot F1:  0.8914367610175564\n",
      "Intent Accuracy: 0.9305711086226204\n",
      "Training with parameters: lr=0.0001, hid_size=200, emb_size=500, weight_decay=0.0001, patience=3, emb_drop=0.3, out_drop=0\n"
     ]
    },
    {
     "name": "stderr",
     "output_type": "stream",
     "text": [
      "100%|██████████| 99/99 [00:27<00:00,  3.58it/s]\n"
     ]
    },
    {
     "name": "stdout",
     "output_type": "stream",
     "text": [
      "Slot F1:  0.8868127919511318\n",
      "Intent Accuracy: 0.9227323628219485\n",
      "Training with parameters: lr=0.0001, hid_size=200, emb_size=500, weight_decay=0.001, patience=3, emb_drop=0.1, out_drop=0\n"
     ]
    },
    {
     "name": "stderr",
     "output_type": "stream",
     "text": [
      "100%|██████████| 99/99 [00:27<00:00,  3.57it/s]\n"
     ]
    },
    {
     "name": "stdout",
     "output_type": "stream",
     "text": [
      "Slot F1:  0.8738461538461538\n",
      "Intent Accuracy: 0.9384098544232923\n",
      "Training with parameters: lr=0.0001, hid_size=200, emb_size=500, weight_decay=0.001, patience=3, emb_drop=0.2, out_drop=0\n"
     ]
    },
    {
     "name": "stderr",
     "output_type": "stream",
     "text": [
      " 20%|██        | 20/99 [00:05<00:22,  3.53it/s]"
     ]
    },
    {
     "name": "stdout",
     "output_type": "stream",
     "text": [
      "Warning: None\n",
      "{('continental', 'O'), ('august', 'O'), ('delta', 'O'), ('pittsburgh', 'B-fromloc.city_name'), ('earliest', 'O'), ('limousine', 'O'), ('nonstop', 'O'), ('time', 'O'), ('evening', 'O'), ('midwest', 'O'), ('friday', 'O'), ('seventh', 'B-depart_date.day_name'), ('francisco', 'I-toloc.city_name'), ('afternoon', 'O'), ('united', 'O'), ('twa', 'O'), ('northwest', 'O')}\n"
     ]
    },
    {
     "name": "stderr",
     "output_type": "stream",
     "text": [
      "100%|██████████| 99/99 [00:27<00:00,  3.60it/s]\n"
     ]
    },
    {
     "name": "stdout",
     "output_type": "stream",
     "text": [
      "Slot F1:  0.8796396396396396\n",
      "Intent Accuracy: 0.9283314669652856\n",
      "Training with parameters: lr=0.0001, hid_size=200, emb_size=500, weight_decay=0.001, patience=3, emb_drop=0.3, out_drop=0\n"
     ]
    },
    {
     "name": "stderr",
     "output_type": "stream",
     "text": [
      "100%|██████████| 99/99 [00:27<00:00,  3.54it/s]\n"
     ]
    },
    {
     "name": "stdout",
     "output_type": "stream",
     "text": [
      "Slot F1:  0.8722482858173946\n",
      "Intent Accuracy: 0.9294512877939529\n",
      "Training with parameters: lr=0.0001, hid_size=300, emb_size=200, weight_decay=0.0001, patience=3, emb_drop=0.1, out_drop=0\n"
     ]
    },
    {
     "name": "stderr",
     "output_type": "stream",
     "text": [
      "100%|██████████| 99/99 [00:29<00:00,  3.37it/s]\n"
     ]
    },
    {
     "name": "stdout",
     "output_type": "stream",
     "text": [
      "Slot F1:  0.8671679197994987\n",
      "Intent Accuracy: 0.9328107502799552\n",
      "Training with parameters: lr=0.0001, hid_size=300, emb_size=200, weight_decay=0.0001, patience=3, emb_drop=0.2, out_drop=0\n"
     ]
    },
    {
     "name": "stderr",
     "output_type": "stream",
     "text": [
      "100%|██████████| 99/99 [00:28<00:00,  3.44it/s]\n"
     ]
    },
    {
     "name": "stdout",
     "output_type": "stream",
     "text": [
      "Slot F1:  0.8700666786808434\n",
      "Intent Accuracy: 0.9316909294512878\n",
      "Training with parameters: lr=0.0001, hid_size=300, emb_size=200, weight_decay=0.0001, patience=3, emb_drop=0.3, out_drop=0\n"
     ]
    },
    {
     "name": "stderr",
     "output_type": "stream",
     "text": [
      "100%|██████████| 99/99 [00:28<00:00,  3.48it/s]\n"
     ]
    },
    {
     "name": "stdout",
     "output_type": "stream",
     "text": [
      "Slot F1:  0.8689111747851002\n",
      "Intent Accuracy: 0.9328107502799552\n",
      "Training with parameters: lr=0.0001, hid_size=300, emb_size=200, weight_decay=0.001, patience=3, emb_drop=0.1, out_drop=0\n"
     ]
    },
    {
     "name": "stderr",
     "output_type": "stream",
     "text": [
      "100%|██████████| 99/99 [00:28<00:00,  3.44it/s]\n"
     ]
    },
    {
     "name": "stdout",
     "output_type": "stream",
     "text": [
      "Slot F1:  0.8496254339484742\n",
      "Intent Accuracy: 0.9372900335946248\n",
      "Training with parameters: lr=0.0001, hid_size=300, emb_size=200, weight_decay=0.001, patience=3, emb_drop=0.2, out_drop=0\n"
     ]
    },
    {
     "name": "stderr",
     "output_type": "stream",
     "text": [
      "100%|██████████| 99/99 [00:28<00:00,  3.45it/s]\n"
     ]
    },
    {
     "name": "stdout",
     "output_type": "stream",
     "text": [
      "Slot F1:  0.8404040404040405\n",
      "Intent Accuracy: 0.9294512877939529\n",
      "Training with parameters: lr=0.0001, hid_size=300, emb_size=200, weight_decay=0.001, patience=3, emb_drop=0.3, out_drop=0\n"
     ]
    },
    {
     "name": "stderr",
     "output_type": "stream",
     "text": [
      "100%|██████████| 99/99 [00:28<00:00,  3.42it/s]\n"
     ]
    },
    {
     "name": "stdout",
     "output_type": "stream",
     "text": [
      "Slot F1:  0.8361768482847184\n",
      "Intent Accuracy: 0.93505039193729\n",
      "Training with parameters: lr=0.0001, hid_size=300, emb_size=300, weight_decay=0.0001, patience=3, emb_drop=0.1, out_drop=0\n"
     ]
    },
    {
     "name": "stderr",
     "output_type": "stream",
     "text": [
      "100%|██████████| 99/99 [00:29<00:00,  3.33it/s]\n"
     ]
    },
    {
     "name": "stdout",
     "output_type": "stream",
     "text": [
      "Slot F1:  0.8882959800782639\n",
      "Intent Accuracy: 0.9406494960806271\n",
      "Training with parameters: lr=0.0001, hid_size=300, emb_size=300, weight_decay=0.0001, patience=3, emb_drop=0.2, out_drop=0\n"
     ]
    },
    {
     "name": "stderr",
     "output_type": "stream",
     "text": [
      "100%|██████████| 99/99 [00:29<00:00,  3.36it/s]\n"
     ]
    },
    {
     "name": "stdout",
     "output_type": "stream",
     "text": [
      "Slot F1:  0.8788581623550401\n",
      "Intent Accuracy: 0.9316909294512878\n",
      "Training with parameters: lr=0.0001, hid_size=300, emb_size=300, weight_decay=0.0001, patience=3, emb_drop=0.3, out_drop=0\n"
     ]
    },
    {
     "name": "stderr",
     "output_type": "stream",
     "text": [
      "100%|██████████| 99/99 [00:29<00:00,  3.37it/s]\n"
     ]
    },
    {
     "name": "stdout",
     "output_type": "stream",
     "text": [
      "Slot F1:  0.8861350574712643\n",
      "Intent Accuracy: 0.9361702127659575\n",
      "Training with parameters: lr=0.0001, hid_size=300, emb_size=300, weight_decay=0.001, patience=3, emb_drop=0.1, out_drop=0\n"
     ]
    },
    {
     "name": "stderr",
     "output_type": "stream",
     "text": [
      "100%|██████████| 99/99 [00:28<00:00,  3.44it/s]\n"
     ]
    },
    {
     "name": "stdout",
     "output_type": "stream",
     "text": [
      "Slot F1:  0.8649142022635999\n",
      "Intent Accuracy: 0.9372900335946248\n",
      "Training with parameters: lr=0.0001, hid_size=300, emb_size=300, weight_decay=0.001, patience=3, emb_drop=0.2, out_drop=0\n"
     ]
    },
    {
     "name": "stderr",
     "output_type": "stream",
     "text": [
      "100%|██████████| 99/99 [00:28<00:00,  3.42it/s]\n"
     ]
    },
    {
     "name": "stdout",
     "output_type": "stream",
     "text": [
      "Slot F1:  0.8618063112078346\n",
      "Intent Accuracy: 0.9406494960806271\n",
      "Training with parameters: lr=0.0001, hid_size=300, emb_size=300, weight_decay=0.001, patience=3, emb_drop=0.3, out_drop=0\n"
     ]
    },
    {
     "name": "stderr",
     "output_type": "stream",
     "text": [
      "100%|██████████| 99/99 [00:28<00:00,  3.43it/s]\n"
     ]
    },
    {
     "name": "stdout",
     "output_type": "stream",
     "text": [
      "Slot F1:  0.8619626337747143\n",
      "Intent Accuracy: 0.93505039193729\n",
      "Training with parameters: lr=0.0001, hid_size=300, emb_size=500, weight_decay=0.0001, patience=3, emb_drop=0.1, out_drop=0\n"
     ]
    },
    {
     "name": "stderr",
     "output_type": "stream",
     "text": [
      "100%|██████████| 99/99 [00:30<00:00,  3.24it/s]\n"
     ]
    },
    {
     "name": "stdout",
     "output_type": "stream",
     "text": [
      "Slot F1:  0.9029264810849393\n",
      "Intent Accuracy: 0.9339305711086227\n",
      "Training with parameters: lr=0.0001, hid_size=300, emb_size=500, weight_decay=0.0001, patience=3, emb_drop=0.2, out_drop=0\n"
     ]
    },
    {
     "name": "stderr",
     "output_type": "stream",
     "text": [
      "100%|██████████| 99/99 [00:35<00:00,  2.78it/s]\n"
     ]
    },
    {
     "name": "stdout",
     "output_type": "stream",
     "text": [
      "Slot F1:  0.9012389380530973\n",
      "Intent Accuracy: 0.9328107502799552\n",
      "Training with parameters: lr=0.0001, hid_size=300, emb_size=500, weight_decay=0.0001, patience=3, emb_drop=0.3, out_drop=0\n"
     ]
    },
    {
     "name": "stderr",
     "output_type": "stream",
     "text": [
      "100%|██████████| 99/99 [00:35<00:00,  2.79it/s]\n"
     ]
    },
    {
     "name": "stdout",
     "output_type": "stream",
     "text": [
      "Slot F1:  0.9006433166547535\n",
      "Intent Accuracy: 0.9395296752519597\n",
      "Training with parameters: lr=0.0001, hid_size=300, emb_size=500, weight_decay=0.001, patience=3, emb_drop=0.1, out_drop=0\n"
     ]
    },
    {
     "name": "stderr",
     "output_type": "stream",
     "text": [
      "100%|██████████| 99/99 [00:36<00:00,  2.73it/s]\n"
     ]
    },
    {
     "name": "stdout",
     "output_type": "stream",
     "text": [
      "Slot F1:  0.8933046902971715\n",
      "Intent Accuracy: 0.9440089585666294\n",
      "Training with parameters: lr=0.0001, hid_size=300, emb_size=500, weight_decay=0.001, patience=3, emb_drop=0.2, out_drop=0\n"
     ]
    },
    {
     "name": "stderr",
     "output_type": "stream",
     "text": [
      "100%|██████████| 99/99 [00:36<00:00,  2.71it/s]\n"
     ]
    },
    {
     "name": "stdout",
     "output_type": "stream",
     "text": [
      "Slot F1:  0.8872531418312388\n",
      "Intent Accuracy: 0.9440089585666294\n",
      "Training with parameters: lr=0.0001, hid_size=300, emb_size=500, weight_decay=0.001, patience=3, emb_drop=0.3, out_drop=0\n"
     ]
    },
    {
     "name": "stderr",
     "output_type": "stream",
     "text": [
      "100%|██████████| 99/99 [00:35<00:00,  2.76it/s]\n"
     ]
    },
    {
     "name": "stdout",
     "output_type": "stream",
     "text": [
      "Slot F1:  0.8895255147717099\n",
      "Intent Accuracy: 0.9384098544232923\n",
      "Training with parameters: lr=0.0001, hid_size=500, emb_size=200, weight_decay=0.0001, patience=3, emb_drop=0.1, out_drop=0\n"
     ]
    },
    {
     "name": "stderr",
     "output_type": "stream",
     "text": [
      "100%|██████████| 99/99 [00:38<00:00,  2.55it/s]\n"
     ]
    },
    {
     "name": "stdout",
     "output_type": "stream",
     "text": [
      "Slot F1:  0.8875760830648048\n",
      "Intent Accuracy: 0.93505039193729\n",
      "Training with parameters: lr=0.0001, hid_size=500, emb_size=200, weight_decay=0.0001, patience=3, emb_drop=0.2, out_drop=0\n"
     ]
    },
    {
     "name": "stderr",
     "output_type": "stream",
     "text": [
      "100%|██████████| 99/99 [00:38<00:00,  2.60it/s]\n"
     ]
    },
    {
     "name": "stdout",
     "output_type": "stream",
     "text": [
      "Slot F1:  0.8836298932384341\n",
      "Intent Accuracy: 0.9417693169092946\n",
      "Training with parameters: lr=0.0001, hid_size=500, emb_size=200, weight_decay=0.0001, patience=3, emb_drop=0.3, out_drop=0\n"
     ]
    },
    {
     "name": "stderr",
     "output_type": "stream",
     "text": [
      "100%|██████████| 99/99 [00:38<00:00,  2.59it/s]\n"
     ]
    },
    {
     "name": "stdout",
     "output_type": "stream",
     "text": [
      "Slot F1:  0.8796710173431075\n",
      "Intent Accuracy: 0.93505039193729\n",
      "Training with parameters: lr=0.0001, hid_size=500, emb_size=200, weight_decay=0.001, patience=3, emb_drop=0.1, out_drop=0\n"
     ]
    },
    {
     "name": "stderr",
     "output_type": "stream",
     "text": [
      "100%|██████████| 99/99 [00:37<00:00,  2.63it/s]\n"
     ]
    },
    {
     "name": "stdout",
     "output_type": "stream",
     "text": [
      "Slot F1:  0.8570387907484974\n",
      "Intent Accuracy: 0.93505039193729\n",
      "Training with parameters: lr=0.0001, hid_size=500, emb_size=200, weight_decay=0.001, patience=3, emb_drop=0.2, out_drop=0\n"
     ]
    },
    {
     "name": "stderr",
     "output_type": "stream",
     "text": [
      "100%|██████████| 99/99 [00:38<00:00,  2.58it/s]\n"
     ]
    },
    {
     "name": "stdout",
     "output_type": "stream",
     "text": [
      "Slot F1:  0.8615441041628461\n",
      "Intent Accuracy: 0.9328107502799552\n",
      "Training with parameters: lr=0.0001, hid_size=500, emb_size=200, weight_decay=0.001, patience=3, emb_drop=0.3, out_drop=0\n"
     ]
    },
    {
     "name": "stderr",
     "output_type": "stream",
     "text": [
      "100%|██████████| 99/99 [00:38<00:00,  2.57it/s]\n"
     ]
    },
    {
     "name": "stdout",
     "output_type": "stream",
     "text": [
      "Slot F1:  0.8500633025863629\n",
      "Intent Accuracy: 0.9417693169092946\n",
      "Training with parameters: lr=0.0001, hid_size=500, emb_size=300, weight_decay=0.0001, patience=3, emb_drop=0.1, out_drop=0\n"
     ]
    },
    {
     "name": "stderr",
     "output_type": "stream",
     "text": [
      "100%|██████████| 99/99 [00:39<00:00,  2.52it/s]\n"
     ]
    },
    {
     "name": "stdout",
     "output_type": "stream",
     "text": [
      "Slot F1:  0.9026264070037521\n",
      "Intent Accuracy: 0.9440089585666294\n",
      "Training with parameters: lr=0.0001, hid_size=500, emb_size=300, weight_decay=0.0001, patience=3, emb_drop=0.2, out_drop=0\n"
     ]
    },
    {
     "name": "stderr",
     "output_type": "stream",
     "text": [
      "100%|██████████| 99/99 [00:41<00:00,  2.37it/s]\n"
     ]
    },
    {
     "name": "stdout",
     "output_type": "stream",
     "text": [
      "Slot F1:  0.8999464954521134\n",
      "Intent Accuracy: 0.9384098544232923\n",
      "Training with parameters: lr=0.0001, hid_size=500, emb_size=300, weight_decay=0.0001, patience=3, emb_drop=0.3, out_drop=0\n"
     ]
    },
    {
     "name": "stderr",
     "output_type": "stream",
     "text": [
      "100%|██████████| 99/99 [00:38<00:00,  2.54it/s]\n"
     ]
    },
    {
     "name": "stdout",
     "output_type": "stream",
     "text": [
      "Slot F1:  0.9041390431822255\n",
      "Intent Accuracy: 0.93505039193729\n",
      "Training with parameters: lr=0.0001, hid_size=500, emb_size=300, weight_decay=0.001, patience=3, emb_drop=0.1, out_drop=0\n"
     ]
    },
    {
     "name": "stderr",
     "output_type": "stream",
     "text": [
      "100%|██████████| 99/99 [00:38<00:00,  2.54it/s]\n"
     ]
    },
    {
     "name": "stdout",
     "output_type": "stream",
     "text": [
      "Slot F1:  0.8855237065080224\n",
      "Intent Accuracy: 0.9372900335946248\n",
      "Training with parameters: lr=0.0001, hid_size=500, emb_size=300, weight_decay=0.001, patience=3, emb_drop=0.2, out_drop=0\n"
     ]
    },
    {
     "name": "stderr",
     "output_type": "stream",
     "text": [
      " 10%|█         | 10/99 [00:04<00:39,  2.26it/s]"
     ]
    },
    {
     "name": "stdout",
     "output_type": "stream",
     "text": [
      "Warning: None\n",
      "{('continental', 'O'), ('august', 'O'), ('fares', 'I-class_type'), ('seventh', 'B-return_date.day_name'), ('delta', 'O'), ('pittsburgh', 'B-fromloc.city_name'), ('limousine', 'O'), ('nonstop', 'O'), ('time', 'O'), ('evening', 'O'), ('midwest', 'O'), ('washington', 'O'), ('friday', 'O'), ('francisco', 'I-toloc.city_name'), ('afternoon', 'O'), ('united', 'O'), ('twa', 'O'), ('northwest', 'O')}\n"
     ]
    },
    {
     "name": "stderr",
     "output_type": "stream",
     "text": [
      "100%|██████████| 99/99 [00:41<00:00,  2.38it/s]\n"
     ]
    },
    {
     "name": "stdout",
     "output_type": "stream",
     "text": [
      "Slot F1:  0.8793788371253162\n",
      "Intent Accuracy: 0.9417693169092946\n",
      "Training with parameters: lr=0.0001, hid_size=500, emb_size=300, weight_decay=0.001, patience=3, emb_drop=0.3, out_drop=0\n"
     ]
    },
    {
     "name": "stderr",
     "output_type": "stream",
     "text": [
      "100%|██████████| 99/99 [00:39<00:00,  2.51it/s]\n"
     ]
    },
    {
     "name": "stdout",
     "output_type": "stream",
     "text": [
      "Slot F1:  0.8790249226851009\n",
      "Intent Accuracy: 0.9440089585666294\n",
      "Training with parameters: lr=0.0001, hid_size=500, emb_size=500, weight_decay=0.0001, patience=3, emb_drop=0.1, out_drop=0\n"
     ]
    },
    {
     "name": "stderr",
     "output_type": "stream",
     "text": [
      "100%|██████████| 99/99 [00:36<00:00,  2.71it/s]\n"
     ]
    },
    {
     "name": "stdout",
     "output_type": "stream",
     "text": [
      "Slot F1:  0.9084105488239488\n",
      "Intent Accuracy: 0.9417693169092946\n",
      "Training with parameters: lr=0.0001, hid_size=500, emb_size=500, weight_decay=0.0001, patience=3, emb_drop=0.2, out_drop=0\n"
     ]
    },
    {
     "name": "stderr",
     "output_type": "stream",
     "text": [
      "100%|██████████| 99/99 [00:35<00:00,  2.75it/s]\n"
     ]
    },
    {
     "name": "stdout",
     "output_type": "stream",
     "text": [
      "Slot F1:  0.9132906894100923\n",
      "Intent Accuracy: 0.9451287793952967\n",
      "Training with parameters: lr=0.0001, hid_size=500, emb_size=500, weight_decay=0.0001, patience=3, emb_drop=0.3, out_drop=0\n"
     ]
    },
    {
     "name": "stderr",
     "output_type": "stream",
     "text": [
      "100%|██████████| 99/99 [00:36<00:00,  2.74it/s]\n"
     ]
    },
    {
     "name": "stdout",
     "output_type": "stream",
     "text": [
      "Slot F1:  0.9139497594869055\n",
      "Intent Accuracy: 0.9473684210526315\n",
      "Training with parameters: lr=0.0001, hid_size=500, emb_size=500, weight_decay=0.001, patience=3, emb_drop=0.1, out_drop=0\n"
     ]
    },
    {
     "name": "stderr",
     "output_type": "stream",
     "text": [
      "100%|██████████| 99/99 [00:36<00:00,  2.68it/s]\n"
     ]
    },
    {
     "name": "stdout",
     "output_type": "stream",
     "text": [
      "Slot F1:  0.903914590747331\n",
      "Intent Accuracy: 0.9496080627099664\n",
      "Training with parameters: lr=0.0001, hid_size=500, emb_size=500, weight_decay=0.001, patience=3, emb_drop=0.2, out_drop=0\n"
     ]
    },
    {
     "name": "stderr",
     "output_type": "stream",
     "text": [
      "100%|██████████| 99/99 [00:36<00:00,  2.69it/s]\n"
     ]
    },
    {
     "name": "stdout",
     "output_type": "stream",
     "text": [
      "Slot F1:  0.9024346898880398\n",
      "Intent Accuracy: 0.9406494960806271\n",
      "Training with parameters: lr=0.0001, hid_size=500, emb_size=500, weight_decay=0.001, patience=3, emb_drop=0.3, out_drop=0\n"
     ]
    },
    {
     "name": "stderr",
     "output_type": "stream",
     "text": [
      "100%|██████████| 99/99 [00:36<00:00,  2.71it/s]"
     ]
    },
    {
     "name": "stdout",
     "output_type": "stream",
     "text": [
      "Slot F1:  0.903884016466798\n",
      "Intent Accuracy: 0.9440089585666294\n",
      "Best model parameters: {'lr': 0.001, 'hid_size': 200, 'emb_size': 500, 'weight_decay': 0.0001, 'patience': 3, 'emb_drop': 0.3, 'out_drop': 0}\n",
      "Best model accuracy: 0.9596864501679732\n"
     ]
    },
    {
     "name": "stderr",
     "output_type": "stream",
     "text": [
      "\n"
     ]
    }
   ],
   "source": [
    "lr_list = [.001, .0005, .0001]\n",
    "hid_size_list = [200, 300, 500]\n",
    "emb_size_list = [200, 300, 500]\n",
    "weight_decay_list = [0.0001, 0.001]\n",
    "patience_list = [3]\n",
    "emb_drop_list = [.1, .2, .3]\n",
    "out_drop_list = [0]\n",
    "\n",
    "best_model, best_params = train_grid_search(\n",
    "    lr_list, hid_size_list, emb_size_list,\n",
    "    weight_decay_list, patience_list, emb_drop_list,\n",
    "    out_drop_list, vocab_len=vocab_len, out_slot=out_slot, out_int=out_int, exp_name=\"STOCK\", model_type=\"LSTM\", optimizer=optim.Adam, dropout=False, n_epochs=EPOCHS)"
   ]
  },
  {
   "cell_type": "code",
   "execution_count": 37,
   "metadata": {},
   "outputs": [
    {
     "name": "stdout",
     "output_type": "stream",
     "text": [
      "Training with parameters: lr=0.001, hid_size=200, emb_size=200, weight_decay=0.0001, patience=3, emb_drop=0.1, out_drop=0.1\n"
     ]
    },
    {
     "name": "stderr",
     "output_type": "stream",
     "text": [
      " 80%|███████▉  | 79/99 [00:26<00:06,  3.03it/s]\n"
     ]
    },
    {
     "name": "stdout",
     "output_type": "stream",
     "text": [
      "Slot F1:  0.9186416696144323\n",
      "Intent Accuracy: 0.9361702127659575\n",
      "Training with parameters: lr=0.001, hid_size=200, emb_size=200, weight_decay=0.0001, patience=3, emb_drop=0.1, out_drop=0.2\n"
     ]
    },
    {
     "name": "stderr",
     "output_type": "stream",
     "text": [
      " 85%|████████▍ | 84/99 [00:26<00:04,  3.19it/s]\n"
     ]
    },
    {
     "name": "stdout",
     "output_type": "stream",
     "text": [
      "Slot F1:  0.9279802782179961\n",
      "Intent Accuracy: 0.9507278835386338\n",
      "Training with parameters: lr=0.001, hid_size=200, emb_size=200, weight_decay=0.0001, patience=3, emb_drop=0.1, out_drop=0.3\n"
     ]
    },
    {
     "name": "stderr",
     "output_type": "stream",
     "text": [
      " 70%|██████▉   | 69/99 [00:21<00:09,  3.20it/s]\n"
     ]
    },
    {
     "name": "stdout",
     "output_type": "stream",
     "text": [
      "Slot F1:  0.9096978215038651\n",
      "Intent Accuracy: 0.9451287793952967\n",
      "Training with parameters: lr=0.001, hid_size=200, emb_size=200, weight_decay=0.0001, patience=3, emb_drop=0.2, out_drop=0.1\n"
     ]
    },
    {
     "name": "stderr",
     "output_type": "stream",
     "text": [
      " 85%|████████▍ | 84/99 [00:26<00:04,  3.18it/s]\n"
     ]
    },
    {
     "name": "stdout",
     "output_type": "stream",
     "text": [
      "Slot F1:  0.9003508771929825\n",
      "Intent Accuracy: 0.9059350503919373\n",
      "Training with parameters: lr=0.001, hid_size=200, emb_size=200, weight_decay=0.0001, patience=3, emb_drop=0.2, out_drop=0.2\n"
     ]
    },
    {
     "name": "stderr",
     "output_type": "stream",
     "text": [
      "100%|██████████| 99/99 [00:32<00:00,  3.06it/s]\n"
     ]
    },
    {
     "name": "stdout",
     "output_type": "stream",
     "text": [
      "Slot F1:  0.9284584285463175\n",
      "Intent Accuracy: 0.9574468085106383\n",
      "Training with parameters: lr=0.001, hid_size=200, emb_size=200, weight_decay=0.0001, patience=3, emb_drop=0.2, out_drop=0.3\n"
     ]
    },
    {
     "name": "stderr",
     "output_type": "stream",
     "text": [
      "100%|██████████| 99/99 [00:30<00:00,  3.28it/s]\n"
     ]
    },
    {
     "name": "stdout",
     "output_type": "stream",
     "text": [
      "Slot F1:  0.9264679950625992\n",
      "Intent Accuracy: 0.9451287793952967\n",
      "Training with parameters: lr=0.001, hid_size=200, emb_size=200, weight_decay=0.0001, patience=3, emb_drop=0.3, out_drop=0.1\n"
     ]
    },
    {
     "name": "stderr",
     "output_type": "stream",
     "text": [
      " 95%|█████████▍| 94/99 [00:28<00:01,  3.32it/s]\n"
     ]
    },
    {
     "name": "stdout",
     "output_type": "stream",
     "text": [
      "Slot F1:  0.9276746242263484\n",
      "Intent Accuracy: 0.9608062709966405\n",
      "Training with parameters: lr=0.001, hid_size=200, emb_size=200, weight_decay=0.0001, patience=3, emb_drop=0.3, out_drop=0.2\n"
     ]
    },
    {
     "name": "stderr",
     "output_type": "stream",
     "text": [
      " 70%|██████▉   | 69/99 [00:20<00:08,  3.43it/s]\n"
     ]
    },
    {
     "name": "stdout",
     "output_type": "stream",
     "text": [
      "Slot F1:  0.9154508701001933\n",
      "Intent Accuracy: 0.9384098544232923\n",
      "Training with parameters: lr=0.001, hid_size=200, emb_size=200, weight_decay=0.0001, patience=3, emb_drop=0.3, out_drop=0.3\n"
     ]
    },
    {
     "name": "stderr",
     "output_type": "stream",
     "text": [
      " 90%|████████▉ | 89/99 [00:26<00:02,  3.39it/s]\n"
     ]
    },
    {
     "name": "stdout",
     "output_type": "stream",
     "text": [
      "Slot F1:  0.9288231148696265\n",
      "Intent Accuracy: 0.9529675251959686\n",
      "Training with parameters: lr=0.001, hid_size=200, emb_size=200, weight_decay=0.001, patience=3, emb_drop=0.1, out_drop=0.1\n"
     ]
    },
    {
     "name": "stderr",
     "output_type": "stream",
     "text": [
      "  5%|▌         | 5/99 [00:01<00:27,  3.47it/s]"
     ]
    },
    {
     "name": "stdout",
     "output_type": "stream",
     "text": [
      "Warning: None\n",
      "{('august', 'O'), ('earliest', 'O'), ('pittsburgh', 'B-fromloc.city_name'), ('limousine', 'O'), ('nonstop', 'O'), ('time', 'O'), ('seventh', 'O'), ('evening', 'O'), ('midwest', 'O'), ('friday', 'O'), ('francisco', 'I-toloc.city_name'), ('afternoon', 'O'), ('united', 'O'), ('twa', 'O'), ('northwest', 'O')}\n"
     ]
    },
    {
     "name": "stderr",
     "output_type": "stream",
     "text": [
      " 75%|███████▍  | 74/99 [00:21<00:07,  3.40it/s]\n"
     ]
    },
    {
     "name": "stdout",
     "output_type": "stream",
     "text": [
      "Slot F1:  0.8620876149269876\n",
      "Intent Accuracy: 0.9496080627099664\n",
      "Training with parameters: lr=0.001, hid_size=200, emb_size=200, weight_decay=0.001, patience=3, emb_drop=0.1, out_drop=0.2\n"
     ]
    },
    {
     "name": "stderr",
     "output_type": "stream",
     "text": [
      " 75%|███████▍  | 74/99 [00:21<00:07,  3.37it/s]\n"
     ]
    },
    {
     "name": "stdout",
     "output_type": "stream",
     "text": [
      "Slot F1:  0.8626887131560028\n",
      "Intent Accuracy: 0.9473684210526315\n",
      "Training with parameters: lr=0.001, hid_size=200, emb_size=200, weight_decay=0.001, patience=3, emb_drop=0.1, out_drop=0.3\n"
     ]
    },
    {
     "name": "stderr",
     "output_type": "stream",
     "text": [
      "100%|██████████| 99/99 [00:29<00:00,  3.30it/s]\n"
     ]
    },
    {
     "name": "stdout",
     "output_type": "stream",
     "text": [
      "Slot F1:  0.869896570495373\n",
      "Intent Accuracy: 0.9440089585666294\n",
      "Training with parameters: lr=0.001, hid_size=200, emb_size=200, weight_decay=0.001, patience=3, emb_drop=0.2, out_drop=0.1\n"
     ]
    },
    {
     "name": "stderr",
     "output_type": "stream",
     "text": [
      " 85%|████████▍ | 84/99 [00:23<00:04,  3.58it/s]\n"
     ]
    },
    {
     "name": "stdout",
     "output_type": "stream",
     "text": [
      "Slot F1:  0.8579205225911813\n",
      "Intent Accuracy: 0.948488241881299\n",
      "Training with parameters: lr=0.001, hid_size=200, emb_size=200, weight_decay=0.001, patience=3, emb_drop=0.2, out_drop=0.2\n"
     ]
    },
    {
     "name": "stderr",
     "output_type": "stream",
     "text": [
      " 95%|█████████▍| 94/99 [00:26<00:01,  3.57it/s]\n"
     ]
    },
    {
     "name": "stdout",
     "output_type": "stream",
     "text": [
      "Slot F1:  0.8646697942980874\n",
      "Intent Accuracy: 0.948488241881299\n",
      "Training with parameters: lr=0.001, hid_size=200, emb_size=200, weight_decay=0.001, patience=3, emb_drop=0.2, out_drop=0.3\n"
     ]
    },
    {
     "name": "stderr",
     "output_type": "stream",
     "text": [
      "100%|██████████| 99/99 [00:27<00:00,  3.60it/s]\n"
     ]
    },
    {
     "name": "stdout",
     "output_type": "stream",
     "text": [
      "Slot F1:  0.8511026061600147\n",
      "Intent Accuracy: 0.9406494960806271\n",
      "Training with parameters: lr=0.001, hid_size=200, emb_size=200, weight_decay=0.001, patience=3, emb_drop=0.3, out_drop=0.1\n"
     ]
    },
    {
     "name": "stderr",
     "output_type": "stream",
     "text": [
      "100%|██████████| 99/99 [00:27<00:00,  3.62it/s]\n"
     ]
    },
    {
     "name": "stdout",
     "output_type": "stream",
     "text": [
      "Slot F1:  0.8684495843874233\n",
      "Intent Accuracy: 0.9574468085106383\n",
      "Training with parameters: lr=0.001, hid_size=200, emb_size=200, weight_decay=0.001, patience=3, emb_drop=0.3, out_drop=0.2\n"
     ]
    },
    {
     "name": "stderr",
     "output_type": "stream",
     "text": [
      " 80%|███████▉  | 79/99 [00:21<00:05,  3.60it/s]\n"
     ]
    },
    {
     "name": "stdout",
     "output_type": "stream",
     "text": [
      "Slot F1:  0.8545651389390113\n",
      "Intent Accuracy: 0.948488241881299\n",
      "Training with parameters: lr=0.001, hid_size=200, emb_size=200, weight_decay=0.001, patience=3, emb_drop=0.3, out_drop=0.3\n"
     ]
    },
    {
     "name": "stderr",
     "output_type": "stream",
     "text": [
      " 60%|█████▉    | 59/99 [00:16<00:11,  3.59it/s]\n"
     ]
    },
    {
     "name": "stdout",
     "output_type": "stream",
     "text": [
      "Slot F1:  0.8667267808836789\n",
      "Intent Accuracy: 0.9428891377379619\n",
      "Training with parameters: lr=0.001, hid_size=200, emb_size=300, weight_decay=0.0001, patience=3, emb_drop=0.1, out_drop=0.1\n"
     ]
    },
    {
     "name": "stderr",
     "output_type": "stream",
     "text": [
      " 60%|█████▉    | 59/99 [00:19<00:12,  3.09it/s]\n"
     ]
    },
    {
     "name": "stdout",
     "output_type": "stream",
     "text": [
      "Slot F1:  0.926293408929837\n",
      "Intent Accuracy: 0.9540873460246361\n",
      "Training with parameters: lr=0.001, hid_size=200, emb_size=300, weight_decay=0.0001, patience=3, emb_drop=0.1, out_drop=0.2\n"
     ]
    },
    {
     "name": "stderr",
     "output_type": "stream",
     "text": [
      "100%|██████████| 99/99 [00:32<00:00,  3.04it/s]\n"
     ]
    },
    {
     "name": "stdout",
     "output_type": "stream",
     "text": [
      "Slot F1:  0.931095406360424\n",
      "Intent Accuracy: 0.9507278835386338\n",
      "Training with parameters: lr=0.001, hid_size=200, emb_size=300, weight_decay=0.0001, patience=3, emb_drop=0.1, out_drop=0.3\n"
     ]
    },
    {
     "name": "stderr",
     "output_type": "stream",
     "text": [
      " 75%|███████▍  | 74/99 [00:21<00:07,  3.50it/s]\n"
     ]
    },
    {
     "name": "stdout",
     "output_type": "stream",
     "text": [
      "Slot F1:  0.9299610894941635\n",
      "Intent Accuracy: 0.9473684210526315\n",
      "Training with parameters: lr=0.001, hid_size=200, emb_size=300, weight_decay=0.0001, patience=3, emb_drop=0.2, out_drop=0.1\n"
     ]
    },
    {
     "name": "stderr",
     "output_type": "stream",
     "text": [
      " 75%|███████▍  | 74/99 [00:20<00:07,  3.55it/s]\n"
     ]
    },
    {
     "name": "stdout",
     "output_type": "stream",
     "text": [
      "Slot F1:  0.9244412912380277\n",
      "Intent Accuracy: 0.948488241881299\n",
      "Training with parameters: lr=0.001, hid_size=200, emb_size=300, weight_decay=0.0001, patience=3, emb_drop=0.2, out_drop=0.2\n"
     ]
    },
    {
     "name": "stderr",
     "output_type": "stream",
     "text": [
      " 95%|█████████▍| 94/99 [00:26<00:01,  3.56it/s]\n"
     ]
    },
    {
     "name": "stdout",
     "output_type": "stream",
     "text": [
      "Slot F1:  0.9280815895902937\n",
      "Intent Accuracy: 0.9507278835386338\n",
      "Training with parameters: lr=0.001, hid_size=200, emb_size=300, weight_decay=0.0001, patience=3, emb_drop=0.2, out_drop=0.3\n"
     ]
    },
    {
     "name": "stderr",
     "output_type": "stream",
     "text": [
      " 70%|██████▉   | 69/99 [00:19<00:08,  3.55it/s]\n"
     ]
    },
    {
     "name": "stdout",
     "output_type": "stream",
     "text": [
      "Slot F1:  0.9243013795542979\n",
      "Intent Accuracy: 0.9462486002239642\n",
      "Training with parameters: lr=0.001, hid_size=200, emb_size=300, weight_decay=0.0001, patience=3, emb_drop=0.3, out_drop=0.1\n"
     ]
    },
    {
     "name": "stderr",
     "output_type": "stream",
     "text": [
      " 85%|████████▍ | 84/99 [00:23<00:04,  3.56it/s]\n"
     ]
    },
    {
     "name": "stdout",
     "output_type": "stream",
     "text": [
      "Slot F1:  0.9236196860116423\n",
      "Intent Accuracy: 0.9462486002239642\n",
      "Training with parameters: lr=0.001, hid_size=200, emb_size=300, weight_decay=0.0001, patience=3, emb_drop=0.3, out_drop=0.2\n"
     ]
    },
    {
     "name": "stderr",
     "output_type": "stream",
     "text": [
      " 95%|█████████▍| 94/99 [00:26<00:01,  3.55it/s]\n"
     ]
    },
    {
     "name": "stdout",
     "output_type": "stream",
     "text": [
      "Slot F1:  0.9194029850746269\n",
      "Intent Accuracy: 0.9406494960806271\n",
      "Training with parameters: lr=0.001, hid_size=200, emb_size=300, weight_decay=0.0001, patience=3, emb_drop=0.3, out_drop=0.3\n"
     ]
    },
    {
     "name": "stderr",
     "output_type": "stream",
     "text": [
      " 70%|██████▉   | 69/99 [00:19<00:08,  3.54it/s]\n"
     ]
    },
    {
     "name": "stdout",
     "output_type": "stream",
     "text": [
      "Slot F1:  0.9264653641207815\n",
      "Intent Accuracy: 0.9462486002239642\n",
      "Training with parameters: lr=0.001, hid_size=200, emb_size=300, weight_decay=0.001, patience=3, emb_drop=0.1, out_drop=0.1\n"
     ]
    },
    {
     "name": "stderr",
     "output_type": "stream",
     "text": [
      " 70%|██████▉   | 69/99 [00:19<00:08,  3.55it/s]\n"
     ]
    },
    {
     "name": "stdout",
     "output_type": "stream",
     "text": [
      "Slot F1:  0.8675700090334237\n",
      "Intent Accuracy: 0.9384098544232923\n",
      "Training with parameters: lr=0.001, hid_size=200, emb_size=300, weight_decay=0.001, patience=3, emb_drop=0.1, out_drop=0.2\n"
     ]
    },
    {
     "name": "stderr",
     "output_type": "stream",
     "text": [
      " 60%|█████▉    | 59/99 [00:16<00:11,  3.52it/s]\n"
     ]
    },
    {
     "name": "stdout",
     "output_type": "stream",
     "text": [
      "Slot F1:  0.8708567288534685\n",
      "Intent Accuracy: 0.9563269876819709\n",
      "Training with parameters: lr=0.001, hid_size=200, emb_size=300, weight_decay=0.001, patience=3, emb_drop=0.1, out_drop=0.3\n"
     ]
    },
    {
     "name": "stderr",
     "output_type": "stream",
     "text": [
      " 60%|█████▉    | 59/99 [00:16<00:11,  3.61it/s]\n"
     ]
    },
    {
     "name": "stdout",
     "output_type": "stream",
     "text": [
      "Slot F1:  0.8718224131757966\n",
      "Intent Accuracy: 0.93505039193729\n",
      "Training with parameters: lr=0.001, hid_size=200, emb_size=300, weight_decay=0.001, patience=3, emb_drop=0.2, out_drop=0.1\n"
     ]
    },
    {
     "name": "stderr",
     "output_type": "stream",
     "text": [
      " 60%|█████▉    | 59/99 [00:16<00:11,  3.53it/s]\n"
     ]
    },
    {
     "name": "stdout",
     "output_type": "stream",
     "text": [
      "Slot F1:  0.8755194218608852\n",
      "Intent Accuracy: 0.9440089585666294\n",
      "Training with parameters: lr=0.001, hid_size=200, emb_size=300, weight_decay=0.001, patience=3, emb_drop=0.2, out_drop=0.2\n"
     ]
    },
    {
     "name": "stderr",
     "output_type": "stream",
     "text": [
      " 70%|██████▉   | 69/99 [00:21<00:09,  3.26it/s]\n"
     ]
    },
    {
     "name": "stdout",
     "output_type": "stream",
     "text": [
      "Slot F1:  0.8647963800904979\n",
      "Intent Accuracy: 0.9473684210526315\n",
      "Training with parameters: lr=0.001, hid_size=200, emb_size=300, weight_decay=0.001, patience=3, emb_drop=0.2, out_drop=0.3\n"
     ]
    },
    {
     "name": "stderr",
     "output_type": "stream",
     "text": [
      " 85%|████████▍ | 84/99 [00:33<00:05,  2.53it/s]\n"
     ]
    },
    {
     "name": "stdout",
     "output_type": "stream",
     "text": [
      "Slot F1:  0.8629642985935809\n",
      "Intent Accuracy: 0.9462486002239642\n",
      "Training with parameters: lr=0.001, hid_size=200, emb_size=300, weight_decay=0.001, patience=3, emb_drop=0.3, out_drop=0.1\n"
     ]
    },
    {
     "name": "stderr",
     "output_type": "stream",
     "text": [
      " 75%|███████▍  | 74/99 [00:24<00:08,  3.01it/s]\n"
     ]
    },
    {
     "name": "stdout",
     "output_type": "stream",
     "text": [
      "Slot F1:  0.8711833785004516\n",
      "Intent Accuracy: 0.9518477043673013\n",
      "Training with parameters: lr=0.001, hid_size=200, emb_size=300, weight_decay=0.001, patience=3, emb_drop=0.3, out_drop=0.2\n"
     ]
    },
    {
     "name": "stderr",
     "output_type": "stream",
     "text": [
      " 55%|█████▍    | 54/99 [00:15<00:12,  3.57it/s]\n"
     ]
    },
    {
     "name": "stdout",
     "output_type": "stream",
     "text": [
      "Slot F1:  0.8636281751035849\n",
      "Intent Accuracy: 0.9462486002239642\n",
      "Training with parameters: lr=0.001, hid_size=200, emb_size=300, weight_decay=0.001, patience=3, emb_drop=0.3, out_drop=0.3\n"
     ]
    },
    {
     "name": "stderr",
     "output_type": "stream",
     "text": [
      " 80%|███████▉  | 79/99 [00:23<00:05,  3.42it/s]\n"
     ]
    },
    {
     "name": "stdout",
     "output_type": "stream",
     "text": [
      "Slot F1:  0.8584854509307789\n",
      "Intent Accuracy: 0.9563269876819709\n",
      "Training with parameters: lr=0.001, hid_size=200, emb_size=500, weight_decay=0.0001, patience=3, emb_drop=0.1, out_drop=0.1\n"
     ]
    },
    {
     "name": "stderr",
     "output_type": "stream",
     "text": [
      " 60%|█████▉    | 59/99 [00:17<00:11,  3.38it/s]\n"
     ]
    },
    {
     "name": "stdout",
     "output_type": "stream",
     "text": [
      "Slot F1:  0.9277512806924572\n",
      "Intent Accuracy: 0.9473684210526315\n",
      "Training with parameters: lr=0.001, hid_size=200, emb_size=500, weight_decay=0.0001, patience=3, emb_drop=0.1, out_drop=0.2\n"
     ]
    },
    {
     "name": "stderr",
     "output_type": "stream",
     "text": [
      " 49%|████▉     | 49/99 [00:14<00:14,  3.47it/s]\n"
     ]
    },
    {
     "name": "stdout",
     "output_type": "stream",
     "text": [
      "Slot F1:  0.9227513227513228\n",
      "Intent Accuracy: 0.9496080627099664\n",
      "Training with parameters: lr=0.001, hid_size=200, emb_size=500, weight_decay=0.0001, patience=3, emb_drop=0.1, out_drop=0.3\n"
     ]
    },
    {
     "name": "stderr",
     "output_type": "stream",
     "text": [
      " 90%|████████▉ | 89/99 [00:25<00:02,  3.43it/s]\n"
     ]
    },
    {
     "name": "stdout",
     "output_type": "stream",
     "text": [
      "Slot F1:  0.9270098730606489\n",
      "Intent Accuracy: 0.9540873460246361\n",
      "Training with parameters: lr=0.001, hid_size=200, emb_size=500, weight_decay=0.0001, patience=3, emb_drop=0.2, out_drop=0.1\n"
     ]
    },
    {
     "name": "stderr",
     "output_type": "stream",
     "text": [
      "100%|██████████| 99/99 [00:27<00:00,  3.55it/s]\n"
     ]
    },
    {
     "name": "stdout",
     "output_type": "stream",
     "text": [
      "Slot F1:  0.9268119794435584\n",
      "Intent Accuracy: 0.9596864501679732\n",
      "Training with parameters: lr=0.001, hid_size=200, emb_size=500, weight_decay=0.0001, patience=3, emb_drop=0.2, out_drop=0.2\n"
     ]
    },
    {
     "name": "stderr",
     "output_type": "stream",
     "text": [
      " 70%|██████▉   | 69/99 [00:19<00:08,  3.52it/s]\n"
     ]
    },
    {
     "name": "stdout",
     "output_type": "stream",
     "text": [
      "Slot F1:  0.9267863428370292\n",
      "Intent Accuracy: 0.9440089585666294\n",
      "Training with parameters: lr=0.001, hid_size=200, emb_size=500, weight_decay=0.0001, patience=3, emb_drop=0.2, out_drop=0.3\n"
     ]
    },
    {
     "name": "stderr",
     "output_type": "stream",
     "text": [
      " 95%|█████████▍| 94/99 [00:26<00:01,  3.50it/s]\n"
     ]
    },
    {
     "name": "stdout",
     "output_type": "stream",
     "text": [
      "Slot F1:  0.9258997882851093\n",
      "Intent Accuracy: 0.9563269876819709\n",
      "Training with parameters: lr=0.001, hid_size=200, emb_size=500, weight_decay=0.0001, patience=3, emb_drop=0.3, out_drop=0.1\n"
     ]
    },
    {
     "name": "stderr",
     "output_type": "stream",
     "text": [
      " 60%|█████▉    | 59/99 [00:16<00:11,  3.51it/s]\n"
     ]
    },
    {
     "name": "stdout",
     "output_type": "stream",
     "text": [
      "Slot F1:  0.928345626975764\n",
      "Intent Accuracy: 0.948488241881299\n",
      "Training with parameters: lr=0.001, hid_size=200, emb_size=500, weight_decay=0.0001, patience=3, emb_drop=0.3, out_drop=0.2\n"
     ]
    },
    {
     "name": "stderr",
     "output_type": "stream",
     "text": [
      "100%|██████████| 99/99 [00:28<00:00,  3.51it/s]\n"
     ]
    },
    {
     "name": "stdout",
     "output_type": "stream",
     "text": [
      "Slot F1:  0.9298710475181063\n",
      "Intent Accuracy: 0.9608062709966405\n",
      "Training with parameters: lr=0.001, hid_size=200, emb_size=500, weight_decay=0.0001, patience=3, emb_drop=0.3, out_drop=0.3\n"
     ]
    },
    {
     "name": "stderr",
     "output_type": "stream",
     "text": [
      " 55%|█████▍    | 54/99 [00:15<00:13,  3.43it/s]\n"
     ]
    },
    {
     "name": "stdout",
     "output_type": "stream",
     "text": [
      "Slot F1:  0.9214512152166255\n",
      "Intent Accuracy: 0.9440089585666294\n",
      "Training with parameters: lr=0.001, hid_size=200, emb_size=500, weight_decay=0.001, patience=3, emb_drop=0.1, out_drop=0.1\n"
     ]
    },
    {
     "name": "stderr",
     "output_type": "stream",
     "text": [
      " 49%|████▉     | 49/99 [00:14<00:14,  3.47it/s]\n"
     ]
    },
    {
     "name": "stdout",
     "output_type": "stream",
     "text": [
      "Slot F1:  0.8846914912754092\n",
      "Intent Accuracy: 0.948488241881299\n",
      "Training with parameters: lr=0.001, hid_size=200, emb_size=500, weight_decay=0.001, patience=3, emb_drop=0.1, out_drop=0.2\n"
     ]
    },
    {
     "name": "stderr",
     "output_type": "stream",
     "text": [
      " 70%|██████▉   | 69/99 [00:19<00:08,  3.52it/s]\n"
     ]
    },
    {
     "name": "stdout",
     "output_type": "stream",
     "text": [
      "Slot F1:  0.876173285198556\n",
      "Intent Accuracy: 0.9540873460246361\n",
      "Training with parameters: lr=0.001, hid_size=200, emb_size=500, weight_decay=0.001, patience=3, emb_drop=0.1, out_drop=0.3\n"
     ]
    },
    {
     "name": "stderr",
     "output_type": "stream",
     "text": [
      " 60%|█████▉    | 59/99 [00:17<00:11,  3.46it/s]\n"
     ]
    },
    {
     "name": "stdout",
     "output_type": "stream",
     "text": [
      "Slot F1:  0.8843733141521309\n",
      "Intent Accuracy: 0.9540873460246361\n",
      "Training with parameters: lr=0.001, hid_size=200, emb_size=500, weight_decay=0.001, patience=3, emb_drop=0.2, out_drop=0.1\n"
     ]
    },
    {
     "name": "stderr",
     "output_type": "stream",
     "text": [
      " 39%|███▉      | 39/99 [00:11<00:17,  3.50it/s]\n"
     ]
    },
    {
     "name": "stdout",
     "output_type": "stream",
     "text": [
      "Slot F1:  0.8898106402164112\n",
      "Intent Accuracy: 0.9529675251959686\n",
      "Training with parameters: lr=0.001, hid_size=200, emb_size=500, weight_decay=0.001, patience=3, emb_drop=0.2, out_drop=0.2\n"
     ]
    },
    {
     "name": "stderr",
     "output_type": "stream",
     "text": [
      " 65%|██████▍   | 64/99 [00:18<00:09,  3.51it/s]\n"
     ]
    },
    {
     "name": "stdout",
     "output_type": "stream",
     "text": [
      "Slot F1:  0.879263670817542\n",
      "Intent Accuracy: 0.9496080627099664\n",
      "Training with parameters: lr=0.001, hid_size=200, emb_size=500, weight_decay=0.001, patience=3, emb_drop=0.2, out_drop=0.3\n"
     ]
    },
    {
     "name": "stderr",
     "output_type": "stream",
     "text": [
      " 60%|█████▉    | 59/99 [00:17<00:12,  3.31it/s]\n"
     ]
    },
    {
     "name": "stdout",
     "output_type": "stream",
     "text": [
      "Slot F1:  0.8885281385281386\n",
      "Intent Accuracy: 0.9496080627099664\n",
      "Training with parameters: lr=0.001, hid_size=200, emb_size=500, weight_decay=0.001, patience=3, emb_drop=0.3, out_drop=0.1\n"
     ]
    },
    {
     "name": "stderr",
     "output_type": "stream",
     "text": [
      " 60%|█████▉    | 59/99 [00:17<00:11,  3.43it/s]\n"
     ]
    },
    {
     "name": "stdout",
     "output_type": "stream",
     "text": [
      "Slot F1:  0.8812219227313566\n",
      "Intent Accuracy: 0.9406494960806271\n",
      "Training with parameters: lr=0.001, hid_size=200, emb_size=500, weight_decay=0.001, patience=3, emb_drop=0.3, out_drop=0.2\n"
     ]
    },
    {
     "name": "stderr",
     "output_type": "stream",
     "text": [
      " 44%|████▍     | 44/99 [00:13<00:17,  3.23it/s]\n"
     ]
    },
    {
     "name": "stdout",
     "output_type": "stream",
     "text": [
      "Slot F1:  0.8916229419214765\n",
      "Intent Accuracy: 0.9339305711086227\n",
      "Training with parameters: lr=0.001, hid_size=200, emb_size=500, weight_decay=0.001, patience=3, emb_drop=0.3, out_drop=0.3\n"
     ]
    },
    {
     "name": "stderr",
     "output_type": "stream",
     "text": [
      " 65%|██████▍   | 64/99 [00:19<00:10,  3.32it/s]\n"
     ]
    },
    {
     "name": "stdout",
     "output_type": "stream",
     "text": [
      "Slot F1:  0.8760151597184624\n",
      "Intent Accuracy: 0.93505039193729\n",
      "Training with parameters: lr=0.001, hid_size=300, emb_size=200, weight_decay=0.0001, patience=3, emb_drop=0.1, out_drop=0.1\n"
     ]
    },
    {
     "name": "stderr",
     "output_type": "stream",
     "text": [
      " 65%|██████▍   | 64/99 [00:20<00:11,  3.06it/s]\n"
     ]
    },
    {
     "name": "stdout",
     "output_type": "stream",
     "text": [
      "Slot F1:  0.9260176991150443\n",
      "Intent Accuracy: 0.9440089585666294\n",
      "Training with parameters: lr=0.001, hid_size=300, emb_size=200, weight_decay=0.0001, patience=3, emb_drop=0.1, out_drop=0.2\n"
     ]
    },
    {
     "name": "stderr",
     "output_type": "stream",
     "text": [
      " 70%|██████▉   | 69/99 [00:21<00:09,  3.21it/s]\n"
     ]
    },
    {
     "name": "stdout",
     "output_type": "stream",
     "text": [
      "Slot F1:  0.92603706972639\n",
      "Intent Accuracy: 0.9473684210526315\n",
      "Training with parameters: lr=0.001, hid_size=300, emb_size=200, weight_decay=0.0001, patience=3, emb_drop=0.1, out_drop=0.3\n"
     ]
    },
    {
     "name": "stderr",
     "output_type": "stream",
     "text": [
      " 65%|██████▍   | 64/99 [00:19<00:10,  3.23it/s]\n"
     ]
    },
    {
     "name": "stdout",
     "output_type": "stream",
     "text": [
      "Slot F1:  0.9238095238095239\n",
      "Intent Accuracy: 0.9417693169092946\n",
      "Training with parameters: lr=0.001, hid_size=300, emb_size=200, weight_decay=0.0001, patience=3, emb_drop=0.2, out_drop=0.1\n"
     ]
    },
    {
     "name": "stderr",
     "output_type": "stream",
     "text": [
      " 60%|█████▉    | 59/99 [00:18<00:12,  3.20it/s]\n"
     ]
    },
    {
     "name": "stdout",
     "output_type": "stream",
     "text": [
      "Slot F1:  0.9261153235760888\n",
      "Intent Accuracy: 0.948488241881299\n",
      "Training with parameters: lr=0.001, hid_size=300, emb_size=200, weight_decay=0.0001, patience=3, emb_drop=0.2, out_drop=0.2\n"
     ]
    },
    {
     "name": "stderr",
     "output_type": "stream",
     "text": [
      " 75%|███████▍  | 74/99 [00:24<00:08,  3.06it/s]\n"
     ]
    },
    {
     "name": "stdout",
     "output_type": "stream",
     "text": [
      "Slot F1:  0.9230498327170277\n",
      "Intent Accuracy: 0.948488241881299\n",
      "Training with parameters: lr=0.001, hid_size=300, emb_size=200, weight_decay=0.0001, patience=3, emb_drop=0.2, out_drop=0.3\n"
     ]
    },
    {
     "name": "stderr",
     "output_type": "stream",
     "text": [
      " 85%|████████▍ | 84/99 [00:26<00:04,  3.16it/s]\n"
     ]
    },
    {
     "name": "stdout",
     "output_type": "stream",
     "text": [
      "Slot F1:  0.9232939516840063\n",
      "Intent Accuracy: 0.9507278835386338\n",
      "Training with parameters: lr=0.001, hid_size=300, emb_size=200, weight_decay=0.0001, patience=3, emb_drop=0.3, out_drop=0.1\n"
     ]
    },
    {
     "name": "stderr",
     "output_type": "stream",
     "text": [
      "100%|██████████| 99/99 [00:31<00:00,  3.17it/s]\n"
     ]
    },
    {
     "name": "stdout",
     "output_type": "stream",
     "text": [
      "Slot F1:  0.932083480721613\n",
      "Intent Accuracy: 0.9428891377379619\n",
      "Training with parameters: lr=0.001, hid_size=300, emb_size=200, weight_decay=0.0001, patience=3, emb_drop=0.3, out_drop=0.2\n"
     ]
    },
    {
     "name": "stderr",
     "output_type": "stream",
     "text": [
      " 49%|████▉     | 49/99 [00:15<00:15,  3.18it/s]\n"
     ]
    },
    {
     "name": "stdout",
     "output_type": "stream",
     "text": [
      "Slot F1:  0.9144981412639405\n",
      "Intent Accuracy: 0.9451287793952967\n",
      "Training with parameters: lr=0.001, hid_size=300, emb_size=200, weight_decay=0.0001, patience=3, emb_drop=0.3, out_drop=0.3\n"
     ]
    },
    {
     "name": "stderr",
     "output_type": "stream",
     "text": [
      " 60%|█████▉    | 59/99 [00:22<00:15,  2.66it/s]\n"
     ]
    },
    {
     "name": "stdout",
     "output_type": "stream",
     "text": [
      "Slot F1:  0.9201977401129943\n",
      "Intent Accuracy: 0.9496080627099664\n",
      "Training with parameters: lr=0.001, hid_size=300, emb_size=200, weight_decay=0.001, patience=3, emb_drop=0.1, out_drop=0.1\n"
     ]
    },
    {
     "name": "stderr",
     "output_type": "stream",
     "text": [
      " 85%|████████▍ | 84/99 [00:31<00:05,  2.67it/s]\n"
     ]
    },
    {
     "name": "stdout",
     "output_type": "stream",
     "text": [
      "Slot F1:  0.8651482284887925\n",
      "Intent Accuracy: 0.9496080627099664\n",
      "Training with parameters: lr=0.001, hid_size=300, emb_size=200, weight_decay=0.001, patience=3, emb_drop=0.1, out_drop=0.2\n"
     ]
    },
    {
     "name": "stderr",
     "output_type": "stream",
     "text": [
      " 60%|█████▉    | 59/99 [00:21<00:14,  2.77it/s]\n"
     ]
    },
    {
     "name": "stdout",
     "output_type": "stream",
     "text": [
      "Slot F1:  0.8710488505747126\n",
      "Intent Accuracy: 0.9507278835386338\n",
      "Training with parameters: lr=0.001, hid_size=300, emb_size=200, weight_decay=0.001, patience=3, emb_drop=0.1, out_drop=0.3\n"
     ]
    },
    {
     "name": "stderr",
     "output_type": "stream",
     "text": [
      " 55%|█████▍    | 54/99 [00:23<00:19,  2.34it/s]\n"
     ]
    },
    {
     "name": "stdout",
     "output_type": "stream",
     "text": [
      "Slot F1:  0.8767720828789531\n",
      "Intent Accuracy: 0.9440089585666294\n",
      "Training with parameters: lr=0.001, hid_size=300, emb_size=200, weight_decay=0.001, patience=3, emb_drop=0.2, out_drop=0.1\n"
     ]
    },
    {
     "name": "stderr",
     "output_type": "stream",
     "text": [
      " 75%|███████▍  | 74/99 [00:26<00:08,  2.85it/s]\n"
     ]
    },
    {
     "name": "stdout",
     "output_type": "stream",
     "text": [
      "Slot F1:  0.8625269203158651\n",
      "Intent Accuracy: 0.93505039193729\n",
      "Training with parameters: lr=0.001, hid_size=300, emb_size=200, weight_decay=0.001, patience=3, emb_drop=0.2, out_drop=0.2\n"
     ]
    },
    {
     "name": "stderr",
     "output_type": "stream",
     "text": [
      " 70%|██████▉   | 69/99 [00:25<00:11,  2.71it/s]\n"
     ]
    },
    {
     "name": "stdout",
     "output_type": "stream",
     "text": [
      "Slot F1:  0.863104874977514\n",
      "Intent Accuracy: 0.9563269876819709\n",
      "Training with parameters: lr=0.001, hid_size=300, emb_size=200, weight_decay=0.001, patience=3, emb_drop=0.2, out_drop=0.3\n"
     ]
    },
    {
     "name": "stderr",
     "output_type": "stream",
     "text": [
      " 70%|██████▉   | 69/99 [00:24<00:10,  2.79it/s]\n"
     ]
    },
    {
     "name": "stdout",
     "output_type": "stream",
     "text": [
      "Slot F1:  0.8723906335088037\n",
      "Intent Accuracy: 0.9462486002239642\n",
      "Training with parameters: lr=0.001, hid_size=300, emb_size=200, weight_decay=0.001, patience=3, emb_drop=0.3, out_drop=0.1\n"
     ]
    },
    {
     "name": "stderr",
     "output_type": "stream",
     "text": [
      " 55%|█████▍    | 54/99 [00:18<00:15,  2.85it/s]\n"
     ]
    },
    {
     "name": "stdout",
     "output_type": "stream",
     "text": [
      "Slot F1:  0.8573994252873562\n",
      "Intent Accuracy: 0.9283314669652856\n",
      "Training with parameters: lr=0.001, hid_size=300, emb_size=200, weight_decay=0.001, patience=3, emb_drop=0.3, out_drop=0.2\n"
     ]
    },
    {
     "name": "stderr",
     "output_type": "stream",
     "text": [
      " 39%|███▉      | 39/99 [00:14<00:21,  2.76it/s]\n"
     ]
    },
    {
     "name": "stdout",
     "output_type": "stream",
     "text": [
      "Slot F1:  0.8768365681117359\n",
      "Intent Accuracy: 0.9384098544232923\n",
      "Training with parameters: lr=0.001, hid_size=300, emb_size=200, weight_decay=0.001, patience=3, emb_drop=0.3, out_drop=0.3\n"
     ]
    },
    {
     "name": "stderr",
     "output_type": "stream",
     "text": [
      " 49%|████▉     | 49/99 [00:17<00:17,  2.88it/s]\n"
     ]
    },
    {
     "name": "stdout",
     "output_type": "stream",
     "text": [
      "Slot F1:  0.8813865318649575\n",
      "Intent Accuracy: 0.9451287793952967\n",
      "Training with parameters: lr=0.001, hid_size=300, emb_size=300, weight_decay=0.0001, patience=3, emb_drop=0.1, out_drop=0.1\n"
     ]
    },
    {
     "name": "stderr",
     "output_type": "stream",
     "text": [
      " 85%|████████▍ | 84/99 [00:29<00:05,  2.89it/s]\n"
     ]
    },
    {
     "name": "stdout",
     "output_type": "stream",
     "text": [
      "Slot F1:  0.9275874249381842\n",
      "Intent Accuracy: 0.961926091825308\n",
      "Training with parameters: lr=0.001, hid_size=300, emb_size=300, weight_decay=0.0001, patience=3, emb_drop=0.1, out_drop=0.2\n"
     ]
    },
    {
     "name": "stderr",
     "output_type": "stream",
     "text": [
      " 80%|███████▉  | 79/99 [00:27<00:06,  2.86it/s]\n"
     ]
    },
    {
     "name": "stdout",
     "output_type": "stream",
     "text": [
      "Slot F1:  0.9178082191780823\n",
      "Intent Accuracy: 0.9507278835386338\n",
      "Training with parameters: lr=0.001, hid_size=300, emb_size=300, weight_decay=0.0001, patience=3, emb_drop=0.1, out_drop=0.3\n"
     ]
    },
    {
     "name": "stderr",
     "output_type": "stream",
     "text": [
      " 70%|██████▉   | 69/99 [00:23<00:10,  2.90it/s]\n"
     ]
    },
    {
     "name": "stdout",
     "output_type": "stream",
     "text": [
      "Slot F1:  0.9121933878421614\n",
      "Intent Accuracy: 0.9518477043673013\n",
      "Training with parameters: lr=0.001, hid_size=300, emb_size=300, weight_decay=0.0001, patience=3, emb_drop=0.2, out_drop=0.1\n"
     ]
    },
    {
     "name": "stderr",
     "output_type": "stream",
     "text": [
      " 85%|████████▍ | 84/99 [00:28<00:05,  2.93it/s]\n"
     ]
    },
    {
     "name": "stdout",
     "output_type": "stream",
     "text": [
      "Slot F1:  0.928395061728395\n",
      "Intent Accuracy: 0.9563269876819709\n",
      "Training with parameters: lr=0.001, hid_size=300, emb_size=300, weight_decay=0.0001, patience=3, emb_drop=0.2, out_drop=0.2\n"
     ]
    },
    {
     "name": "stderr",
     "output_type": "stream",
     "text": [
      " 95%|█████████▍| 94/99 [00:32<00:01,  2.91it/s]\n"
     ]
    },
    {
     "name": "stdout",
     "output_type": "stream",
     "text": [
      "Slot F1:  0.9255731922398589\n",
      "Intent Accuracy: 0.9540873460246361\n",
      "Training with parameters: lr=0.001, hid_size=300, emb_size=300, weight_decay=0.0001, patience=3, emb_drop=0.2, out_drop=0.3\n"
     ]
    },
    {
     "name": "stderr",
     "output_type": "stream",
     "text": [
      " 49%|████▉     | 49/99 [00:17<00:17,  2.83it/s]\n"
     ]
    },
    {
     "name": "stdout",
     "output_type": "stream",
     "text": [
      "Slot F1:  0.9176262178919397\n",
      "Intent Accuracy: 0.9552071668533034\n",
      "Training with parameters: lr=0.001, hid_size=300, emb_size=300, weight_decay=0.0001, patience=3, emb_drop=0.3, out_drop=0.1\n"
     ]
    },
    {
     "name": "stderr",
     "output_type": "stream",
     "text": [
      " 55%|█████▍    | 54/99 [00:20<00:16,  2.70it/s]\n"
     ]
    },
    {
     "name": "stdout",
     "output_type": "stream",
     "text": [
      "Slot F1:  0.9066478076379066\n",
      "Intent Accuracy: 0.9249720044792833\n",
      "Training with parameters: lr=0.001, hid_size=300, emb_size=300, weight_decay=0.0001, patience=3, emb_drop=0.3, out_drop=0.2\n"
     ]
    },
    {
     "name": "stderr",
     "output_type": "stream",
     "text": [
      " 75%|███████▍  | 74/99 [00:26<00:09,  2.76it/s]\n"
     ]
    },
    {
     "name": "stdout",
     "output_type": "stream",
     "text": [
      "Slot F1:  0.9254153411099328\n",
      "Intent Accuracy: 0.9563269876819709\n",
      "Training with parameters: lr=0.001, hid_size=300, emb_size=300, weight_decay=0.0001, patience=3, emb_drop=0.3, out_drop=0.3\n"
     ]
    },
    {
     "name": "stderr",
     "output_type": "stream",
     "text": [
      " 65%|██████▍   | 64/99 [00:23<00:12,  2.78it/s]\n"
     ]
    },
    {
     "name": "stdout",
     "output_type": "stream",
     "text": [
      "Slot F1:  0.9250353606789251\n",
      "Intent Accuracy: 0.9507278835386338\n",
      "Training with parameters: lr=0.001, hid_size=300, emb_size=300, weight_decay=0.001, patience=3, emb_drop=0.1, out_drop=0.1\n"
     ]
    },
    {
     "name": "stderr",
     "output_type": "stream",
     "text": [
      " 60%|█████▉    | 59/99 [00:20<00:14,  2.86it/s]\n"
     ]
    },
    {
     "name": "stdout",
     "output_type": "stream",
     "text": [
      "Slot F1:  0.8761014206078043\n",
      "Intent Accuracy: 0.9395296752519597\n",
      "Training with parameters: lr=0.001, hid_size=300, emb_size=300, weight_decay=0.001, patience=3, emb_drop=0.1, out_drop=0.2\n"
     ]
    },
    {
     "name": "stderr",
     "output_type": "stream",
     "text": [
      " 49%|████▉     | 49/99 [00:17<00:17,  2.85it/s]\n"
     ]
    },
    {
     "name": "stdout",
     "output_type": "stream",
     "text": [
      "Slot F1:  0.887969789606186\n",
      "Intent Accuracy: 0.9372900335946248\n",
      "Training with parameters: lr=0.001, hid_size=300, emb_size=300, weight_decay=0.001, patience=3, emb_drop=0.1, out_drop=0.3\n"
     ]
    },
    {
     "name": "stderr",
     "output_type": "stream",
     "text": [
      " 70%|██████▉   | 69/99 [00:23<00:10,  2.98it/s]\n"
     ]
    },
    {
     "name": "stdout",
     "output_type": "stream",
     "text": [
      "Slot F1:  0.866606334841629\n",
      "Intent Accuracy: 0.9496080627099664\n",
      "Training with parameters: lr=0.001, hid_size=300, emb_size=300, weight_decay=0.001, patience=3, emb_drop=0.2, out_drop=0.1\n"
     ]
    },
    {
     "name": "stderr",
     "output_type": "stream",
     "text": [
      " 55%|█████▍    | 54/99 [00:18<00:15,  2.93it/s]\n"
     ]
    },
    {
     "name": "stdout",
     "output_type": "stream",
     "text": [
      "Slot F1:  0.8715464657337638\n",
      "Intent Accuracy: 0.9193729003359462\n",
      "Training with parameters: lr=0.001, hid_size=300, emb_size=300, weight_decay=0.001, patience=3, emb_drop=0.2, out_drop=0.2\n"
     ]
    },
    {
     "name": "stderr",
     "output_type": "stream",
     "text": [
      " 60%|█████▉    | 59/99 [00:20<00:13,  2.90it/s]\n"
     ]
    },
    {
     "name": "stdout",
     "output_type": "stream",
     "text": [
      "Slot F1:  0.8743987172634955\n",
      "Intent Accuracy: 0.9462486002239642\n",
      "Training with parameters: lr=0.001, hid_size=300, emb_size=300, weight_decay=0.001, patience=3, emb_drop=0.2, out_drop=0.3\n"
     ]
    },
    {
     "name": "stderr",
     "output_type": "stream",
     "text": [
      " 65%|██████▍   | 64/99 [00:22<00:12,  2.90it/s]\n"
     ]
    },
    {
     "name": "stdout",
     "output_type": "stream",
     "text": [
      "Slot F1:  0.879812882331774\n",
      "Intent Accuracy: 0.948488241881299\n",
      "Training with parameters: lr=0.001, hid_size=300, emb_size=300, weight_decay=0.001, patience=3, emb_drop=0.3, out_drop=0.1\n"
     ]
    },
    {
     "name": "stderr",
     "output_type": "stream",
     "text": [
      " 44%|████▍     | 44/99 [00:15<00:19,  2.84it/s]\n"
     ]
    },
    {
     "name": "stdout",
     "output_type": "stream",
     "text": [
      "Slot F1:  0.8813681368136814\n",
      "Intent Accuracy: 0.9518477043673013\n",
      "Training with parameters: lr=0.001, hid_size=300, emb_size=300, weight_decay=0.001, patience=3, emb_drop=0.3, out_drop=0.2\n"
     ]
    },
    {
     "name": "stderr",
     "output_type": "stream",
     "text": [
      " 55%|█████▍    | 54/99 [00:17<00:14,  3.05it/s]\n"
     ]
    },
    {
     "name": "stdout",
     "output_type": "stream",
     "text": [
      "Slot F1:  0.8789350602626371\n",
      "Intent Accuracy: 0.9451287793952967\n",
      "Training with parameters: lr=0.001, hid_size=300, emb_size=300, weight_decay=0.001, patience=3, emb_drop=0.3, out_drop=0.3\n"
     ]
    },
    {
     "name": "stderr",
     "output_type": "stream",
     "text": [
      " 55%|█████▍    | 54/99 [00:17<00:14,  3.07it/s]\n"
     ]
    },
    {
     "name": "stdout",
     "output_type": "stream",
     "text": [
      "Slot F1:  0.8737547545734469\n",
      "Intent Accuracy: 0.9238521836506159\n",
      "Training with parameters: lr=0.001, hid_size=300, emb_size=500, weight_decay=0.0001, patience=3, emb_drop=0.1, out_drop=0.1\n"
     ]
    },
    {
     "name": "stderr",
     "output_type": "stream",
     "text": [
      " 55%|█████▍    | 54/99 [00:18<00:15,  2.97it/s]\n"
     ]
    },
    {
     "name": "stdout",
     "output_type": "stream",
     "text": [
      "Slot F1:  0.9257102523380978\n",
      "Intent Accuracy: 0.948488241881299\n",
      "Training with parameters: lr=0.001, hid_size=300, emb_size=500, weight_decay=0.0001, patience=3, emb_drop=0.1, out_drop=0.2\n"
     ]
    },
    {
     "name": "stderr",
     "output_type": "stream",
     "text": [
      " 49%|████▉     | 49/99 [00:18<00:18,  2.66it/s]\n"
     ]
    },
    {
     "name": "stdout",
     "output_type": "stream",
     "text": [
      "Slot F1:  0.9297469474429304\n",
      "Intent Accuracy: 0.9451287793952967\n",
      "Training with parameters: lr=0.001, hid_size=300, emb_size=500, weight_decay=0.0001, patience=3, emb_drop=0.1, out_drop=0.3\n"
     ]
    },
    {
     "name": "stderr",
     "output_type": "stream",
     "text": [
      " 49%|████▉     | 49/99 [00:18<00:18,  2.65it/s]\n"
     ]
    },
    {
     "name": "stdout",
     "output_type": "stream",
     "text": [
      "Slot F1:  0.925546930134086\n",
      "Intent Accuracy: 0.948488241881299\n",
      "Training with parameters: lr=0.001, hid_size=300, emb_size=500, weight_decay=0.0001, patience=3, emb_drop=0.2, out_drop=0.1\n"
     ]
    },
    {
     "name": "stderr",
     "output_type": "stream",
     "text": [
      " 80%|███████▉  | 79/99 [00:28<00:07,  2.74it/s]\n"
     ]
    },
    {
     "name": "stdout",
     "output_type": "stream",
     "text": [
      "Slot F1:  0.9288732394366197\n",
      "Intent Accuracy: 0.9585666293393057\n",
      "Training with parameters: lr=0.001, hid_size=300, emb_size=500, weight_decay=0.0001, patience=3, emb_drop=0.2, out_drop=0.2\n"
     ]
    },
    {
     "name": "stderr",
     "output_type": "stream",
     "text": [
      " 49%|████▉     | 49/99 [00:18<00:18,  2.67it/s]\n"
     ]
    },
    {
     "name": "stdout",
     "output_type": "stream",
     "text": [
      "Slot F1:  0.9214159292035398\n",
      "Intent Accuracy: 0.948488241881299\n",
      "Training with parameters: lr=0.001, hid_size=300, emb_size=500, weight_decay=0.0001, patience=3, emb_drop=0.2, out_drop=0.3\n"
     ]
    },
    {
     "name": "stderr",
     "output_type": "stream",
     "text": [
      " 39%|███▉      | 39/99 [00:15<00:23,  2.51it/s]\n"
     ]
    },
    {
     "name": "stdout",
     "output_type": "stream",
     "text": [
      "Slot F1:  0.9258666666666666\n",
      "Intent Accuracy: 0.948488241881299\n",
      "Training with parameters: lr=0.001, hid_size=300, emb_size=500, weight_decay=0.0001, patience=3, emb_drop=0.3, out_drop=0.1\n"
     ]
    },
    {
     "name": "stderr",
     "output_type": "stream",
     "text": [
      " 49%|████▉     | 49/99 [00:18<00:19,  2.62it/s]\n"
     ]
    },
    {
     "name": "stdout",
     "output_type": "stream",
     "text": [
      "Slot F1:  0.9268638214981407\n",
      "Intent Accuracy: 0.9518477043673013\n",
      "Training with parameters: lr=0.001, hid_size=300, emb_size=500, weight_decay=0.0001, patience=3, emb_drop=0.3, out_drop=0.2\n"
     ]
    },
    {
     "name": "stderr",
     "output_type": "stream",
     "text": [
      " 60%|█████▉    | 59/99 [00:22<00:15,  2.65it/s]\n"
     ]
    },
    {
     "name": "stdout",
     "output_type": "stream",
     "text": [
      "Slot F1:  0.9256373937677054\n",
      "Intent Accuracy: 0.9473684210526315\n",
      "Training with parameters: lr=0.001, hid_size=300, emb_size=500, weight_decay=0.0001, patience=3, emb_drop=0.3, out_drop=0.3\n"
     ]
    },
    {
     "name": "stderr",
     "output_type": "stream",
     "text": [
      "100%|██████████| 99/99 [00:35<00:00,  2.81it/s]\n"
     ]
    },
    {
     "name": "stdout",
     "output_type": "stream",
     "text": [
      "Slot F1:  0.9272151898734177\n",
      "Intent Accuracy: 0.9496080627099664\n",
      "Training with parameters: lr=0.001, hid_size=300, emb_size=500, weight_decay=0.001, patience=3, emb_drop=0.1, out_drop=0.1\n"
     ]
    },
    {
     "name": "stderr",
     "output_type": "stream",
     "text": [
      " 44%|████▍     | 44/99 [00:16<00:20,  2.70it/s]\n"
     ]
    },
    {
     "name": "stdout",
     "output_type": "stream",
     "text": [
      "Slot F1:  0.8911880128433821\n",
      "Intent Accuracy: 0.9462486002239642\n",
      "Training with parameters: lr=0.001, hid_size=300, emb_size=500, weight_decay=0.001, patience=3, emb_drop=0.1, out_drop=0.2\n"
     ]
    },
    {
     "name": "stderr",
     "output_type": "stream",
     "text": [
      " 49%|████▉     | 49/99 [00:19<00:19,  2.58it/s]\n"
     ]
    },
    {
     "name": "stdout",
     "output_type": "stream",
     "text": [
      "Slot F1:  0.894155961642844\n",
      "Intent Accuracy: 0.9529675251959686\n",
      "Training with parameters: lr=0.001, hid_size=300, emb_size=500, weight_decay=0.001, patience=3, emb_drop=0.1, out_drop=0.3\n"
     ]
    },
    {
     "name": "stderr",
     "output_type": "stream",
     "text": [
      " 39%|███▉      | 39/99 [00:16<00:24,  2.42it/s]\n"
     ]
    },
    {
     "name": "stdout",
     "output_type": "stream",
     "text": [
      "Slot F1:  0.8922912586790102\n",
      "Intent Accuracy: 0.9507278835386338\n",
      "Training with parameters: lr=0.001, hid_size=300, emb_size=500, weight_decay=0.001, patience=3, emb_drop=0.2, out_drop=0.1\n"
     ]
    },
    {
     "name": "stderr",
     "output_type": "stream",
     "text": [
      " 44%|████▍     | 44/99 [00:20<00:25,  2.15it/s]\n"
     ]
    },
    {
     "name": "stdout",
     "output_type": "stream",
     "text": [
      "Slot F1:  0.8968383017163506\n",
      "Intent Accuracy: 0.9372900335946248\n",
      "Training with parameters: lr=0.001, hid_size=300, emb_size=500, weight_decay=0.001, patience=3, emb_drop=0.2, out_drop=0.2\n"
     ]
    },
    {
     "name": "stderr",
     "output_type": "stream",
     "text": [
      " 60%|█████▉    | 59/99 [00:22<00:15,  2.65it/s]\n"
     ]
    },
    {
     "name": "stdout",
     "output_type": "stream",
     "text": [
      "Slot F1:  0.8947085201793722\n",
      "Intent Accuracy: 0.9574468085106383\n",
      "Training with parameters: lr=0.001, hid_size=300, emb_size=500, weight_decay=0.001, patience=3, emb_drop=0.2, out_drop=0.3\n"
     ]
    },
    {
     "name": "stderr",
     "output_type": "stream",
     "text": [
      " 55%|█████▍    | 54/99 [00:19<00:15,  2.83it/s]\n"
     ]
    },
    {
     "name": "stdout",
     "output_type": "stream",
     "text": [
      "Slot F1:  0.8855810616929698\n",
      "Intent Accuracy: 0.9596864501679732\n",
      "Training with parameters: lr=0.001, hid_size=300, emb_size=500, weight_decay=0.001, patience=3, emb_drop=0.3, out_drop=0.1\n"
     ]
    },
    {
     "name": "stderr",
     "output_type": "stream",
     "text": [
      " 55%|█████▍    | 54/99 [00:19<00:16,  2.77it/s]\n"
     ]
    },
    {
     "name": "stdout",
     "output_type": "stream",
     "text": [
      "Slot F1:  0.8906676368928506\n",
      "Intent Accuracy: 0.9395296752519597\n",
      "Training with parameters: lr=0.001, hid_size=300, emb_size=500, weight_decay=0.001, patience=3, emb_drop=0.3, out_drop=0.2\n"
     ]
    },
    {
     "name": "stderr",
     "output_type": "stream",
     "text": [
      " 49%|████▉     | 49/99 [00:16<00:17,  2.89it/s]\n"
     ]
    },
    {
     "name": "stdout",
     "output_type": "stream",
     "text": [
      "Slot F1:  0.8956615274291861\n",
      "Intent Accuracy: 0.9462486002239642\n",
      "Training with parameters: lr=0.001, hid_size=300, emb_size=500, weight_decay=0.001, patience=3, emb_drop=0.3, out_drop=0.3\n"
     ]
    },
    {
     "name": "stderr",
     "output_type": "stream",
     "text": [
      " 49%|████▉     | 49/99 [00:17<00:17,  2.82it/s]\n"
     ]
    },
    {
     "name": "stdout",
     "output_type": "stream",
     "text": [
      "Slot F1:  0.8901316976366589\n",
      "Intent Accuracy: 0.9451287793952967\n",
      "Training with parameters: lr=0.001, hid_size=500, emb_size=200, weight_decay=0.0001, patience=3, emb_drop=0.1, out_drop=0.1\n"
     ]
    },
    {
     "name": "stderr",
     "output_type": "stream",
     "text": [
      " 85%|████████▍ | 84/99 [00:31<00:05,  2.69it/s]\n"
     ]
    },
    {
     "name": "stdout",
     "output_type": "stream",
     "text": [
      "Slot F1:  0.9228601620288833\n",
      "Intent Accuracy: 0.9529675251959686\n",
      "Training with parameters: lr=0.001, hid_size=500, emb_size=200, weight_decay=0.0001, patience=3, emb_drop=0.1, out_drop=0.2\n"
     ]
    },
    {
     "name": "stderr",
     "output_type": "stream",
     "text": [
      " 65%|██████▍   | 64/99 [00:24<00:13,  2.63it/s]\n"
     ]
    },
    {
     "name": "stdout",
     "output_type": "stream",
     "text": [
      "Slot F1:  0.9022261798753338\n",
      "Intent Accuracy: 0.93505039193729\n",
      "Training with parameters: lr=0.001, hid_size=500, emb_size=200, weight_decay=0.0001, patience=3, emb_drop=0.1, out_drop=0.3\n"
     ]
    },
    {
     "name": "stderr",
     "output_type": "stream",
     "text": [
      " 55%|█████▍    | 54/99 [00:21<00:18,  2.49it/s]\n"
     ]
    },
    {
     "name": "stdout",
     "output_type": "stream",
     "text": [
      "Slot F1:  0.9259982253771074\n",
      "Intent Accuracy: 0.9395296752519597\n",
      "Training with parameters: lr=0.001, hid_size=500, emb_size=200, weight_decay=0.0001, patience=3, emb_drop=0.2, out_drop=0.1\n"
     ]
    },
    {
     "name": "stderr",
     "output_type": "stream",
     "text": [
      " 65%|██████▍   | 64/99 [00:25<00:13,  2.52it/s]\n"
     ]
    },
    {
     "name": "stdout",
     "output_type": "stream",
     "text": [
      "Slot F1:  0.920550847457627\n",
      "Intent Accuracy: 0.9518477043673013\n",
      "Training with parameters: lr=0.001, hid_size=500, emb_size=200, weight_decay=0.0001, patience=3, emb_drop=0.2, out_drop=0.2\n"
     ]
    },
    {
     "name": "stderr",
     "output_type": "stream",
     "text": [
      " 39%|███▉      | 39/99 [00:16<00:24,  2.43it/s]\n"
     ]
    },
    {
     "name": "stdout",
     "output_type": "stream",
     "text": [
      "Slot F1:  0.9076163610719322\n",
      "Intent Accuracy: 0.9462486002239642\n",
      "Training with parameters: lr=0.001, hid_size=500, emb_size=200, weight_decay=0.0001, patience=3, emb_drop=0.2, out_drop=0.3\n"
     ]
    },
    {
     "name": "stderr",
     "output_type": "stream",
     "text": [
      " 65%|██████▍   | 64/99 [00:26<00:14,  2.43it/s]\n"
     ]
    },
    {
     "name": "stdout",
     "output_type": "stream",
     "text": [
      "Slot F1:  0.9275106082036776\n",
      "Intent Accuracy: 0.9473684210526315\n",
      "Training with parameters: lr=0.001, hid_size=500, emb_size=200, weight_decay=0.0001, patience=3, emb_drop=0.3, out_drop=0.1\n"
     ]
    },
    {
     "name": "stderr",
     "output_type": "stream",
     "text": [
      " 65%|██████▍   | 64/99 [00:25<00:13,  2.55it/s]\n"
     ]
    },
    {
     "name": "stdout",
     "output_type": "stream",
     "text": [
      "Slot F1:  0.9217238346525946\n",
      "Intent Accuracy: 0.9518477043673013\n",
      "Training with parameters: lr=0.001, hid_size=500, emb_size=200, weight_decay=0.0001, patience=3, emb_drop=0.3, out_drop=0.2\n"
     ]
    },
    {
     "name": "stderr",
     "output_type": "stream",
     "text": [
      " 60%|█████▉    | 59/99 [00:22<00:15,  2.64it/s]\n"
     ]
    },
    {
     "name": "stdout",
     "output_type": "stream",
     "text": [
      "Slot F1:  0.9225874867444327\n",
      "Intent Accuracy: 0.9529675251959686\n",
      "Training with parameters: lr=0.001, hid_size=500, emb_size=200, weight_decay=0.0001, patience=3, emb_drop=0.3, out_drop=0.3\n"
     ]
    },
    {
     "name": "stderr",
     "output_type": "stream",
     "text": [
      " 65%|██████▍   | 64/99 [00:24<00:13,  2.66it/s]\n"
     ]
    },
    {
     "name": "stdout",
     "output_type": "stream",
     "text": [
      "Slot F1:  0.9121752959886905\n",
      "Intent Accuracy: 0.9417693169092946\n",
      "Training with parameters: lr=0.001, hid_size=500, emb_size=200, weight_decay=0.001, patience=3, emb_drop=0.1, out_drop=0.1\n"
     ]
    },
    {
     "name": "stderr",
     "output_type": "stream",
     "text": [
      " 49%|████▉     | 49/99 [00:18<00:19,  2.61it/s]\n"
     ]
    },
    {
     "name": "stdout",
     "output_type": "stream",
     "text": [
      "Slot F1:  0.8754062838569882\n",
      "Intent Accuracy: 0.9406494960806271\n",
      "Training with parameters: lr=0.001, hid_size=500, emb_size=200, weight_decay=0.001, patience=3, emb_drop=0.1, out_drop=0.2\n"
     ]
    },
    {
     "name": "stderr",
     "output_type": "stream",
     "text": [
      " 55%|█████▍    | 54/99 [00:20<00:17,  2.64it/s]\n"
     ]
    },
    {
     "name": "stdout",
     "output_type": "stream",
     "text": [
      "Slot F1:  0.8665335028145996\n",
      "Intent Accuracy: 0.9294512877939529\n",
      "Training with parameters: lr=0.001, hid_size=500, emb_size=200, weight_decay=0.001, patience=3, emb_drop=0.1, out_drop=0.3\n"
     ]
    },
    {
     "name": "stderr",
     "output_type": "stream",
     "text": [
      " 60%|█████▉    | 59/99 [00:22<00:15,  2.66it/s]\n"
     ]
    },
    {
     "name": "stdout",
     "output_type": "stream",
     "text": [
      "Slot F1:  0.8809780654440849\n",
      "Intent Accuracy: 0.9428891377379619\n",
      "Training with parameters: lr=0.001, hid_size=500, emb_size=200, weight_decay=0.001, patience=3, emb_drop=0.2, out_drop=0.1\n"
     ]
    },
    {
     "name": "stderr",
     "output_type": "stream",
     "text": [
      " 70%|██████▉   | 69/99 [00:26<00:11,  2.61it/s]\n"
     ]
    },
    {
     "name": "stdout",
     "output_type": "stream",
     "text": [
      "Slot F1:  0.8706431908012936\n",
      "Intent Accuracy: 0.9406494960806271\n",
      "Training with parameters: lr=0.001, hid_size=500, emb_size=200, weight_decay=0.001, patience=3, emb_drop=0.2, out_drop=0.2\n"
     ]
    },
    {
     "name": "stderr",
     "output_type": "stream",
     "text": [
      " 44%|████▍     | 44/99 [00:16<00:21,  2.60it/s]\n"
     ]
    },
    {
     "name": "stdout",
     "output_type": "stream",
     "text": [
      "Slot F1:  0.8595576335191513\n",
      "Intent Accuracy: 0.9260918253079508\n",
      "Training with parameters: lr=0.001, hid_size=500, emb_size=200, weight_decay=0.001, patience=3, emb_drop=0.2, out_drop=0.3\n"
     ]
    },
    {
     "name": "stderr",
     "output_type": "stream",
     "text": [
      " 60%|█████▉    | 59/99 [00:22<00:15,  2.60it/s]\n"
     ]
    },
    {
     "name": "stdout",
     "output_type": "stream",
     "text": [
      "Slot F1:  0.8853583679364506\n",
      "Intent Accuracy: 0.9540873460246361\n",
      "Training with parameters: lr=0.001, hid_size=500, emb_size=200, weight_decay=0.001, patience=3, emb_drop=0.3, out_drop=0.1\n"
     ]
    },
    {
     "name": "stderr",
     "output_type": "stream",
     "text": [
      " 55%|█████▍    | 54/99 [00:20<00:17,  2.62it/s]\n"
     ]
    },
    {
     "name": "stdout",
     "output_type": "stream",
     "text": [
      "Slot F1:  0.8733212341197822\n",
      "Intent Accuracy: 0.9395296752519597\n",
      "Training with parameters: lr=0.001, hid_size=500, emb_size=200, weight_decay=0.001, patience=3, emb_drop=0.3, out_drop=0.2\n"
     ]
    },
    {
     "name": "stderr",
     "output_type": "stream",
     "text": [
      " 60%|█████▉    | 59/99 [00:22<00:15,  2.60it/s]\n"
     ]
    },
    {
     "name": "stdout",
     "output_type": "stream",
     "text": [
      "Slot F1:  0.8828828828828827\n",
      "Intent Accuracy: 0.9540873460246361\n",
      "Training with parameters: lr=0.001, hid_size=500, emb_size=200, weight_decay=0.001, patience=3, emb_drop=0.3, out_drop=0.3\n"
     ]
    },
    {
     "name": "stderr",
     "output_type": "stream",
     "text": [
      " 60%|█████▉    | 59/99 [00:22<00:15,  2.60it/s]\n"
     ]
    },
    {
     "name": "stdout",
     "output_type": "stream",
     "text": [
      "Slot F1:  0.8516711833785006\n",
      "Intent Accuracy: 0.9126539753639418\n",
      "Training with parameters: lr=0.001, hid_size=500, emb_size=300, weight_decay=0.0001, patience=3, emb_drop=0.1, out_drop=0.1\n"
     ]
    },
    {
     "name": "stderr",
     "output_type": "stream",
     "text": [
      " 44%|████▍     | 44/99 [00:17<00:21,  2.50it/s]\n"
     ]
    },
    {
     "name": "stdout",
     "output_type": "stream",
     "text": [
      "Slot F1:  0.9274336283185841\n",
      "Intent Accuracy: 0.9384098544232923\n",
      "Training with parameters: lr=0.001, hid_size=500, emb_size=300, weight_decay=0.0001, patience=3, emb_drop=0.1, out_drop=0.2\n"
     ]
    },
    {
     "name": "stderr",
     "output_type": "stream",
     "text": [
      " 44%|████▍     | 44/99 [00:17<00:21,  2.55it/s]\n"
     ]
    },
    {
     "name": "stdout",
     "output_type": "stream",
     "text": [
      "Slot F1:  0.9150026506449902\n",
      "Intent Accuracy: 0.948488241881299\n",
      "Training with parameters: lr=0.001, hid_size=500, emb_size=300, weight_decay=0.0001, patience=3, emb_drop=0.1, out_drop=0.3\n"
     ]
    },
    {
     "name": "stderr",
     "output_type": "stream",
     "text": [
      " 39%|███▉      | 39/99 [00:15<00:23,  2.51it/s]\n"
     ]
    },
    {
     "name": "stdout",
     "output_type": "stream",
     "text": [
      "Slot F1:  0.9191293576358166\n",
      "Intent Accuracy: 0.9585666293393057\n",
      "Training with parameters: lr=0.001, hid_size=500, emb_size=300, weight_decay=0.0001, patience=3, emb_drop=0.2, out_drop=0.1\n"
     ]
    },
    {
     "name": "stderr",
     "output_type": "stream",
     "text": [
      " 60%|█████▉    | 59/99 [00:23<00:15,  2.55it/s]\n"
     ]
    },
    {
     "name": "stdout",
     "output_type": "stream",
     "text": [
      "Slot F1:  0.9303394625176803\n",
      "Intent Accuracy: 0.9518477043673013\n",
      "Training with parameters: lr=0.001, hid_size=500, emb_size=300, weight_decay=0.0001, patience=3, emb_drop=0.2, out_drop=0.2\n"
     ]
    },
    {
     "name": "stderr",
     "output_type": "stream",
     "text": [
      " 49%|████▉     | 49/99 [00:19<00:19,  2.56it/s]\n"
     ]
    },
    {
     "name": "stdout",
     "output_type": "stream",
     "text": [
      "Slot F1:  0.9232959601352554\n",
      "Intent Accuracy: 0.9518477043673013\n",
      "Training with parameters: lr=0.001, hid_size=500, emb_size=300, weight_decay=0.0001, patience=3, emb_drop=0.2, out_drop=0.3\n"
     ]
    },
    {
     "name": "stderr",
     "output_type": "stream",
     "text": [
      " 44%|████▍     | 44/99 [00:17<00:21,  2.57it/s]\n"
     ]
    },
    {
     "name": "stdout",
     "output_type": "stream",
     "text": [
      "Slot F1:  0.9256960453981203\n",
      "Intent Accuracy: 0.9496080627099664\n",
      "Training with parameters: lr=0.001, hid_size=500, emb_size=300, weight_decay=0.0001, patience=3, emb_drop=0.3, out_drop=0.1\n"
     ]
    },
    {
     "name": "stderr",
     "output_type": "stream",
     "text": [
      " 55%|█████▍    | 54/99 [00:20<00:17,  2.58it/s]\n"
     ]
    },
    {
     "name": "stdout",
     "output_type": "stream",
     "text": [
      "Slot F1:  0.9268985095812633\n",
      "Intent Accuracy: 0.9552071668533034\n",
      "Training with parameters: lr=0.001, hid_size=500, emb_size=300, weight_decay=0.0001, patience=3, emb_drop=0.3, out_drop=0.2\n"
     ]
    },
    {
     "name": "stderr",
     "output_type": "stream",
     "text": [
      " 85%|████████▍ | 84/99 [00:31<00:05,  2.65it/s]\n"
     ]
    },
    {
     "name": "stdout",
     "output_type": "stream",
     "text": [
      "Slot F1:  0.9272246696035241\n",
      "Intent Accuracy: 0.9608062709966405\n",
      "Training with parameters: lr=0.001, hid_size=500, emb_size=300, weight_decay=0.0001, patience=3, emb_drop=0.3, out_drop=0.3\n"
     ]
    },
    {
     "name": "stderr",
     "output_type": "stream",
     "text": [
      " 39%|███▉      | 39/99 [00:15<00:23,  2.50it/s]\n"
     ]
    },
    {
     "name": "stdout",
     "output_type": "stream",
     "text": [
      "Slot F1:  0.9173465768002839\n",
      "Intent Accuracy: 0.9316909294512878\n",
      "Training with parameters: lr=0.001, hid_size=500, emb_size=300, weight_decay=0.001, patience=3, emb_drop=0.1, out_drop=0.1\n"
     ]
    },
    {
     "name": "stderr",
     "output_type": "stream",
     "text": [
      " 49%|████▉     | 49/99 [00:18<00:19,  2.58it/s]\n"
     ]
    },
    {
     "name": "stdout",
     "output_type": "stream",
     "text": [
      "Slot F1:  0.8841802837134135\n",
      "Intent Accuracy: 0.9294512877939529\n",
      "Training with parameters: lr=0.001, hid_size=500, emb_size=300, weight_decay=0.001, patience=3, emb_drop=0.1, out_drop=0.2\n"
     ]
    },
    {
     "name": "stderr",
     "output_type": "stream",
     "text": [
      " 39%|███▉      | 39/99 [00:15<00:23,  2.52it/s]\n"
     ]
    },
    {
     "name": "stdout",
     "output_type": "stream",
     "text": [
      "Slot F1:  0.888089240734077\n",
      "Intent Accuracy: 0.9283314669652856\n",
      "Training with parameters: lr=0.001, hid_size=500, emb_size=300, weight_decay=0.001, patience=3, emb_drop=0.1, out_drop=0.3\n"
     ]
    },
    {
     "name": "stderr",
     "output_type": "stream",
     "text": [
      " 39%|███▉      | 39/99 [00:15<00:23,  2.55it/s]\n"
     ]
    },
    {
     "name": "stdout",
     "output_type": "stream",
     "text": [
      "Slot F1:  0.8894472361809045\n",
      "Intent Accuracy: 0.9451287793952967\n",
      "Training with parameters: lr=0.001, hid_size=500, emb_size=300, weight_decay=0.001, patience=3, emb_drop=0.2, out_drop=0.1\n"
     ]
    },
    {
     "name": "stderr",
     "output_type": "stream",
     "text": [
      " 34%|███▍      | 34/99 [00:13<00:25,  2.52it/s]\n"
     ]
    },
    {
     "name": "stdout",
     "output_type": "stream",
     "text": [
      "Slot F1:  0.8766974470396525\n",
      "Intent Accuracy: 0.9227323628219485\n",
      "Training with parameters: lr=0.001, hid_size=500, emb_size=300, weight_decay=0.001, patience=3, emb_drop=0.2, out_drop=0.2\n"
     ]
    },
    {
     "name": "stderr",
     "output_type": "stream",
     "text": [
      " 55%|█████▍    | 54/99 [00:21<00:17,  2.56it/s]\n"
     ]
    },
    {
     "name": "stdout",
     "output_type": "stream",
     "text": [
      "Slot F1:  0.8739676840215439\n",
      "Intent Accuracy: 0.9372900335946248\n",
      "Training with parameters: lr=0.001, hid_size=500, emb_size=300, weight_decay=0.001, patience=3, emb_drop=0.2, out_drop=0.3\n"
     ]
    },
    {
     "name": "stderr",
     "output_type": "stream",
     "text": [
      " 39%|███▉      | 39/99 [00:15<00:23,  2.50it/s]\n"
     ]
    },
    {
     "name": "stdout",
     "output_type": "stream",
     "text": [
      "Slot F1:  0.8861759425493717\n",
      "Intent Accuracy: 0.9428891377379619\n",
      "Training with parameters: lr=0.001, hid_size=500, emb_size=300, weight_decay=0.001, patience=3, emb_drop=0.3, out_drop=0.1\n"
     ]
    },
    {
     "name": "stderr",
     "output_type": "stream",
     "text": [
      " 55%|█████▍    | 54/99 [00:20<00:17,  2.63it/s]\n"
     ]
    },
    {
     "name": "stdout",
     "output_type": "stream",
     "text": [
      "Slot F1:  0.8831310019931147\n",
      "Intent Accuracy: 0.9316909294512878\n",
      "Training with parameters: lr=0.001, hid_size=500, emb_size=300, weight_decay=0.001, patience=3, emb_drop=0.3, out_drop=0.2\n"
     ]
    },
    {
     "name": "stderr",
     "output_type": "stream",
     "text": [
      " 49%|████▉     | 49/99 [00:19<00:19,  2.56it/s]\n"
     ]
    },
    {
     "name": "stdout",
     "output_type": "stream",
     "text": [
      "Slot F1:  0.8758682101513803\n",
      "Intent Accuracy: 0.9451287793952967\n",
      "Training with parameters: lr=0.001, hid_size=500, emb_size=300, weight_decay=0.001, patience=3, emb_drop=0.3, out_drop=0.3\n"
     ]
    },
    {
     "name": "stderr",
     "output_type": "stream",
     "text": [
      " 55%|█████▍    | 54/99 [00:20<00:17,  2.60it/s]\n"
     ]
    },
    {
     "name": "stdout",
     "output_type": "stream",
     "text": [
      "Slot F1:  0.8831590335376848\n",
      "Intent Accuracy: 0.948488241881299\n",
      "Training with parameters: lr=0.001, hid_size=500, emb_size=500, weight_decay=0.0001, patience=3, emb_drop=0.1, out_drop=0.1\n"
     ]
    },
    {
     "name": "stderr",
     "output_type": "stream",
     "text": [
      " 60%|█████▉    | 59/99 [00:23<00:15,  2.53it/s]\n"
     ]
    },
    {
     "name": "stdout",
     "output_type": "stream",
     "text": [
      "Slot F1:  0.9214956583377636\n",
      "Intent Accuracy: 0.9406494960806271\n",
      "Training with parameters: lr=0.001, hid_size=500, emb_size=500, weight_decay=0.0001, patience=3, emb_drop=0.1, out_drop=0.2\n"
     ]
    },
    {
     "name": "stderr",
     "output_type": "stream",
     "text": [
      " 39%|███▉      | 39/99 [00:15<00:24,  2.46it/s]\n"
     ]
    },
    {
     "name": "stdout",
     "output_type": "stream",
     "text": [
      "Slot F1:  0.9269422665716321\n",
      "Intent Accuracy: 0.9552071668533034\n",
      "Training with parameters: lr=0.001, hid_size=500, emb_size=500, weight_decay=0.0001, patience=3, emb_drop=0.1, out_drop=0.3\n"
     ]
    },
    {
     "name": "stderr",
     "output_type": "stream",
     "text": [
      " 44%|████▍     | 44/99 [00:17<00:21,  2.51it/s]\n"
     ]
    },
    {
     "name": "stdout",
     "output_type": "stream",
     "text": [
      "Slot F1:  0.9312599399187135\n",
      "Intent Accuracy: 0.9473684210526315\n",
      "Training with parameters: lr=0.001, hid_size=500, emb_size=500, weight_decay=0.0001, patience=3, emb_drop=0.2, out_drop=0.1\n"
     ]
    },
    {
     "name": "stderr",
     "output_type": "stream",
     "text": [
      " 44%|████▍     | 44/99 [00:17<00:22,  2.48it/s]\n"
     ]
    },
    {
     "name": "stdout",
     "output_type": "stream",
     "text": [
      "Slot F1:  0.9250398724082936\n",
      "Intent Accuracy: 0.9440089585666294\n",
      "Training with parameters: lr=0.001, hid_size=500, emb_size=500, weight_decay=0.0001, patience=3, emb_drop=0.2, out_drop=0.2\n"
     ]
    },
    {
     "name": "stderr",
     "output_type": "stream",
     "text": [
      " 70%|██████▉   | 69/99 [00:26<00:11,  2.58it/s]\n"
     ]
    },
    {
     "name": "stdout",
     "output_type": "stream",
     "text": [
      "Slot F1:  0.9247046376300476\n",
      "Intent Accuracy: 0.9540873460246361\n",
      "Training with parameters: lr=0.001, hid_size=500, emb_size=500, weight_decay=0.0001, patience=3, emb_drop=0.2, out_drop=0.3\n"
     ]
    },
    {
     "name": "stderr",
     "output_type": "stream",
     "text": [
      " 55%|█████▍    | 54/99 [00:21<00:17,  2.57it/s]\n"
     ]
    },
    {
     "name": "stdout",
     "output_type": "stream",
     "text": [
      "Slot F1:  0.9249514391665195\n",
      "Intent Accuracy: 0.948488241881299\n",
      "Training with parameters: lr=0.001, hid_size=500, emb_size=500, weight_decay=0.0001, patience=3, emb_drop=0.3, out_drop=0.1\n"
     ]
    },
    {
     "name": "stderr",
     "output_type": "stream",
     "text": [
      " 44%|████▍     | 44/99 [00:17<00:21,  2.52it/s]\n"
     ]
    },
    {
     "name": "stdout",
     "output_type": "stream",
     "text": [
      "Slot F1:  0.9163726182074806\n",
      "Intent Accuracy: 0.9294512877939529\n",
      "Training with parameters: lr=0.001, hid_size=500, emb_size=500, weight_decay=0.0001, patience=3, emb_drop=0.3, out_drop=0.2\n"
     ]
    },
    {
     "name": "stderr",
     "output_type": "stream",
     "text": [
      " 34%|███▍      | 34/99 [00:13<00:26,  2.49it/s]\n"
     ]
    },
    {
     "name": "stdout",
     "output_type": "stream",
     "text": [
      "Slot F1:  0.9244381525393736\n",
      "Intent Accuracy: 0.9540873460246361\n",
      "Training with parameters: lr=0.001, hid_size=500, emb_size=500, weight_decay=0.0001, patience=3, emb_drop=0.3, out_drop=0.3\n"
     ]
    },
    {
     "name": "stderr",
     "output_type": "stream",
     "text": [
      " 49%|████▉     | 49/99 [00:19<00:19,  2.52it/s]\n"
     ]
    },
    {
     "name": "stdout",
     "output_type": "stream",
     "text": [
      "Slot F1:  0.9240819209039549\n",
      "Intent Accuracy: 0.9496080627099664\n",
      "Training with parameters: lr=0.001, hid_size=500, emb_size=500, weight_decay=0.001, patience=3, emb_drop=0.1, out_drop=0.1\n"
     ]
    },
    {
     "name": "stderr",
     "output_type": "stream",
     "text": [
      " 49%|████▉     | 49/99 [00:19<00:19,  2.54it/s]\n"
     ]
    },
    {
     "name": "stdout",
     "output_type": "stream",
     "text": [
      "Slot F1:  0.900232018561485\n",
      "Intent Accuracy: 0.948488241881299\n",
      "Training with parameters: lr=0.001, hid_size=500, emb_size=500, weight_decay=0.001, patience=3, emb_drop=0.1, out_drop=0.2\n"
     ]
    },
    {
     "name": "stderr",
     "output_type": "stream",
     "text": [
      " 55%|█████▍    | 54/99 [00:21<00:17,  2.54it/s]\n"
     ]
    },
    {
     "name": "stdout",
     "output_type": "stream",
     "text": [
      "Slot F1:  0.8955866523143166\n",
      "Intent Accuracy: 0.9552071668533034\n",
      "Training with parameters: lr=0.001, hid_size=500, emb_size=500, weight_decay=0.001, patience=3, emb_drop=0.1, out_drop=0.3\n"
     ]
    },
    {
     "name": "stderr",
     "output_type": "stream",
     "text": [
      " 34%|███▍      | 34/99 [00:14<00:26,  2.43it/s]\n"
     ]
    },
    {
     "name": "stdout",
     "output_type": "stream",
     "text": [
      "Slot F1:  0.8976293103448276\n",
      "Intent Accuracy: 0.9518477043673013\n",
      "Training with parameters: lr=0.001, hid_size=500, emb_size=500, weight_decay=0.001, patience=3, emb_drop=0.2, out_drop=0.1\n"
     ]
    },
    {
     "name": "stderr",
     "output_type": "stream",
     "text": [
      " 44%|████▍     | 44/99 [00:17<00:21,  2.52it/s]\n"
     ]
    },
    {
     "name": "stdout",
     "output_type": "stream",
     "text": [
      "Slot F1:  0.8942857142857144\n",
      "Intent Accuracy: 0.9496080627099664\n",
      "Training with parameters: lr=0.001, hid_size=500, emb_size=500, weight_decay=0.001, patience=3, emb_drop=0.2, out_drop=0.2\n"
     ]
    },
    {
     "name": "stderr",
     "output_type": "stream",
     "text": [
      " 44%|████▍     | 44/99 [00:18<00:22,  2.41it/s]\n"
     ]
    },
    {
     "name": "stdout",
     "output_type": "stream",
     "text": [
      "Slot F1:  0.8963907344226971\n",
      "Intent Accuracy: 0.9529675251959686\n",
      "Training with parameters: lr=0.001, hid_size=500, emb_size=500, weight_decay=0.001, patience=3, emb_drop=0.2, out_drop=0.3\n"
     ]
    },
    {
     "name": "stderr",
     "output_type": "stream",
     "text": [
      " 39%|███▉      | 39/99 [00:15<00:24,  2.46it/s]\n"
     ]
    },
    {
     "name": "stdout",
     "output_type": "stream",
     "text": [
      "Slot F1:  0.892966360856269\n",
      "Intent Accuracy: 0.9305711086226204\n",
      "Training with parameters: lr=0.001, hid_size=500, emb_size=500, weight_decay=0.001, patience=3, emb_drop=0.3, out_drop=0.1\n"
     ]
    },
    {
     "name": "stderr",
     "output_type": "stream",
     "text": [
      " 55%|█████▍    | 54/99 [00:21<00:17,  2.51it/s]\n"
     ]
    },
    {
     "name": "stdout",
     "output_type": "stream",
     "text": [
      "Slot F1:  0.9000903342366757\n",
      "Intent Accuracy: 0.9529675251959686\n",
      "Training with parameters: lr=0.001, hid_size=500, emb_size=500, weight_decay=0.001, patience=3, emb_drop=0.3, out_drop=0.2\n"
     ]
    },
    {
     "name": "stderr",
     "output_type": "stream",
     "text": [
      " 44%|████▍     | 44/99 [00:17<00:21,  2.52it/s]\n"
     ]
    },
    {
     "name": "stdout",
     "output_type": "stream",
     "text": [
      "Slot F1:  0.8878222222222222\n",
      "Intent Accuracy: 0.93505039193729\n",
      "Training with parameters: lr=0.001, hid_size=500, emb_size=500, weight_decay=0.001, patience=3, emb_drop=0.3, out_drop=0.3\n"
     ]
    },
    {
     "name": "stderr",
     "output_type": "stream",
     "text": [
      " 44%|████▍     | 44/99 [00:18<00:22,  2.40it/s]\n"
     ]
    },
    {
     "name": "stdout",
     "output_type": "stream",
     "text": [
      "Slot F1:  0.8953613807982741\n",
      "Intent Accuracy: 0.9361702127659575\n",
      "Training with parameters: lr=0.0005, hid_size=200, emb_size=200, weight_decay=0.0001, patience=3, emb_drop=0.1, out_drop=0.1\n"
     ]
    },
    {
     "name": "stderr",
     "output_type": "stream",
     "text": [
      " 95%|█████████▍| 94/99 [00:30<00:01,  3.05it/s]\n"
     ]
    },
    {
     "name": "stdout",
     "output_type": "stream",
     "text": [
      "Slot F1:  0.9126110124333925\n",
      "Intent Accuracy: 0.9496080627099664\n",
      "Training with parameters: lr=0.0005, hid_size=200, emb_size=200, weight_decay=0.0001, patience=3, emb_drop=0.1, out_drop=0.2\n"
     ]
    },
    {
     "name": "stderr",
     "output_type": "stream",
     "text": [
      "100%|██████████| 99/99 [00:28<00:00,  3.50it/s]\n"
     ]
    },
    {
     "name": "stdout",
     "output_type": "stream",
     "text": [
      "Slot F1:  0.9222359372244754\n",
      "Intent Accuracy: 0.9496080627099664\n",
      "Training with parameters: lr=0.0005, hid_size=200, emb_size=200, weight_decay=0.0001, patience=3, emb_drop=0.1, out_drop=0.3\n"
     ]
    },
    {
     "name": "stderr",
     "output_type": "stream",
     "text": [
      " 85%|████████▍ | 84/99 [00:24<00:04,  3.49it/s]\n"
     ]
    },
    {
     "name": "stdout",
     "output_type": "stream",
     "text": [
      "Slot F1:  0.9151643690349948\n",
      "Intent Accuracy: 0.9473684210526315\n",
      "Training with parameters: lr=0.0005, hid_size=200, emb_size=200, weight_decay=0.0001, patience=3, emb_drop=0.2, out_drop=0.1\n"
     ]
    },
    {
     "name": "stderr",
     "output_type": "stream",
     "text": [
      "100%|██████████| 99/99 [00:28<00:00,  3.50it/s]\n"
     ]
    },
    {
     "name": "stdout",
     "output_type": "stream",
     "text": [
      "Slot F1:  0.8963328631875882\n",
      "Intent Accuracy: 0.9193729003359462\n",
      "Training with parameters: lr=0.0005, hid_size=200, emb_size=200, weight_decay=0.0001, patience=3, emb_drop=0.2, out_drop=0.2\n"
     ]
    },
    {
     "name": "stderr",
     "output_type": "stream",
     "text": [
      "100%|██████████| 99/99 [00:28<00:00,  3.46it/s]\n"
     ]
    },
    {
     "name": "stdout",
     "output_type": "stream",
     "text": [
      "Slot F1:  0.9150859776635349\n",
      "Intent Accuracy: 0.9440089585666294\n",
      "Training with parameters: lr=0.0005, hid_size=200, emb_size=200, weight_decay=0.0001, patience=3, emb_drop=0.2, out_drop=0.3\n"
     ]
    },
    {
     "name": "stderr",
     "output_type": "stream",
     "text": [
      "100%|██████████| 99/99 [00:27<00:00,  3.56it/s]\n"
     ]
    },
    {
     "name": "stdout",
     "output_type": "stream",
     "text": [
      "Slot F1:  0.9133415362981192\n",
      "Intent Accuracy: 0.9496080627099664\n",
      "Training with parameters: lr=0.0005, hid_size=200, emb_size=200, weight_decay=0.0001, patience=3, emb_drop=0.3, out_drop=0.1\n"
     ]
    },
    {
     "name": "stderr",
     "output_type": "stream",
     "text": [
      "100%|██████████| 99/99 [00:30<00:00,  3.25it/s]\n"
     ]
    },
    {
     "name": "stdout",
     "output_type": "stream",
     "text": [
      "Slot F1:  0.9238398866454126\n",
      "Intent Accuracy: 0.9496080627099664\n",
      "Training with parameters: lr=0.0005, hid_size=200, emb_size=200, weight_decay=0.0001, patience=3, emb_drop=0.3, out_drop=0.2\n"
     ]
    },
    {
     "name": "stderr",
     "output_type": "stream",
     "text": [
      " 37%|███▋      | 37/99 [00:11<00:18,  3.28it/s]"
     ]
    }
   ],
   "source": [
    "lr_list = [.001, .0005, .0001]\n",
    "hid_size_list = [200, 300, 500]\n",
    "emb_size_list = [200, 300, 500]\n",
    "weight_decay_list = [0.0001, 0.001]\n",
    "patience_list = [3]\n",
    "emb_drop_list = [.1, .2, .3]\n",
    "out_drop_list = [.1, .2, .3]\n",
    "\n",
    "best_model, best_params = train_grid_search(\n",
    "    lr_list, hid_size_list, emb_size_list,\n",
    "    weight_decay_list, patience_list, emb_drop_list,\n",
    "    out_drop_list, vocab_len=vocab_len, out_slot=out_slot, out_int=out_int, exp_name=\"DROP\", model_type=\"LSTM\", optimizer=optim.Adam, dropout=False, n_epochs=EPOCHS)"
   ]
  },
  {
   "cell_type": "code",
   "execution_count": 20,
   "metadata": {},
   "outputs": [
    {
     "name": "stdout",
     "output_type": "stream",
     "text": [
      "Training with parameters: lr=0.001, hid_size=200, emb_size=200, weight_decay=0.0001, patience=3, emb_drop=0.01, out_drop=0\n"
     ]
    },
    {
     "name": "stderr",
     "output_type": "stream",
     "text": [
      " 40%|███▉      | 79/199 [00:40<01:01,  1.96it/s]\n"
     ]
    },
    {
     "name": "stdout",
     "output_type": "stream",
     "text": [
      "Slot F1:  0.9438441098317095\n",
      "Intent Accuracy: 0.9529675251959686\n",
      "Training with parameters: lr=0.001, hid_size=200, emb_size=200, weight_decay=0.0001, patience=3, emb_drop=0.1, out_drop=0\n"
     ]
    },
    {
     "name": "stderr",
     "output_type": "stream",
     "text": [
      " 22%|██▏       | 44/199 [00:23<01:22,  1.88it/s]\n"
     ]
    },
    {
     "name": "stdout",
     "output_type": "stream",
     "text": [
      "Slot F1:  0.9330736543909349\n",
      "Intent Accuracy: 0.9339305711086227\n",
      "Training with parameters: lr=0.001, hid_size=200, emb_size=200, weight_decay=0.0001, patience=3, emb_drop=0.15, out_drop=0\n"
     ]
    },
    {
     "name": "stderr",
     "output_type": "stream",
     "text": [
      " 42%|████▏     | 84/199 [00:42<00:58,  1.96it/s]\n"
     ]
    },
    {
     "name": "stdout",
     "output_type": "stream",
     "text": [
      "Slot F1:  0.943382873319179\n",
      "Intent Accuracy: 0.9507278835386338\n",
      "Training with parameters: lr=0.001, hid_size=200, emb_size=200, weight_decay=0.001, patience=3, emb_drop=0.01, out_drop=0\n"
     ]
    },
    {
     "name": "stderr",
     "output_type": "stream",
     "text": [
      " 27%|██▋       | 54/199 [00:26<01:11,  2.02it/s]\n"
     ]
    },
    {
     "name": "stdout",
     "output_type": "stream",
     "text": [
      "Slot F1:  0.888096935138988\n",
      "Intent Accuracy: 0.9473684210526315\n",
      "Training with parameters: lr=0.001, hid_size=200, emb_size=200, weight_decay=0.001, patience=3, emb_drop=0.1, out_drop=0\n"
     ]
    },
    {
     "name": "stderr",
     "output_type": "stream",
     "text": [
      " 22%|██▏       | 44/199 [00:24<01:28,  1.76it/s]\n"
     ]
    },
    {
     "name": "stdout",
     "output_type": "stream",
     "text": [
      "Slot F1:  0.8979960281639285\n",
      "Intent Accuracy: 0.9417693169092946\n",
      "Training with parameters: lr=0.001, hid_size=200, emb_size=200, weight_decay=0.001, patience=3, emb_drop=0.15, out_drop=0\n"
     ]
    },
    {
     "name": "stderr",
     "output_type": "stream",
     "text": [
      " 22%|██▏       | 44/199 [00:23<01:23,  1.86it/s]\n"
     ]
    },
    {
     "name": "stdout",
     "output_type": "stream",
     "text": [
      "Slot F1:  0.8884911401467692\n",
      "Intent Accuracy: 0.9417693169092946\n",
      "Training with parameters: lr=0.001, hid_size=200, emb_size=300, weight_decay=0.0001, patience=3, emb_drop=0.01, out_drop=0\n"
     ]
    },
    {
     "name": "stderr",
     "output_type": "stream",
     "text": [
      " 30%|██▉       | 59/199 [00:30<01:12,  1.94it/s]\n"
     ]
    },
    {
     "name": "stdout",
     "output_type": "stream",
     "text": [
      "Slot F1:  0.9410717464838882\n",
      "Intent Accuracy: 0.9451287793952967\n",
      "Training with parameters: lr=0.001, hid_size=200, emb_size=300, weight_decay=0.0001, patience=3, emb_drop=0.1, out_drop=0\n"
     ]
    },
    {
     "name": "stderr",
     "output_type": "stream",
     "text": [
      " 32%|███▏      | 64/199 [00:31<01:06,  2.02it/s]\n"
     ]
    },
    {
     "name": "stdout",
     "output_type": "stream",
     "text": [
      "Slot F1:  0.9364631133074479\n",
      "Intent Accuracy: 0.9473684210526315\n",
      "Training with parameters: lr=0.001, hid_size=200, emb_size=300, weight_decay=0.0001, patience=3, emb_drop=0.15, out_drop=0\n"
     ]
    },
    {
     "name": "stderr",
     "output_type": "stream",
     "text": [
      " 22%|██▏       | 44/199 [00:20<01:11,  2.16it/s]\n"
     ]
    },
    {
     "name": "stdout",
     "output_type": "stream",
     "text": [
      "Slot F1:  0.9422804532577904\n",
      "Intent Accuracy: 0.9462486002239642\n",
      "Training with parameters: lr=0.001, hid_size=200, emb_size=300, weight_decay=0.001, patience=3, emb_drop=0.01, out_drop=0\n"
     ]
    },
    {
     "name": "stderr",
     "output_type": "stream",
     "text": [
      " 17%|█▋        | 34/199 [00:15<01:17,  2.13it/s]\n"
     ]
    },
    {
     "name": "stdout",
     "output_type": "stream",
     "text": [
      "Slot F1:  0.9055328233410425\n",
      "Intent Accuracy: 0.9260918253079508\n",
      "Training with parameters: lr=0.001, hid_size=200, emb_size=300, weight_decay=0.001, patience=3, emb_drop=0.1, out_drop=0\n"
     ]
    },
    {
     "name": "stderr",
     "output_type": "stream",
     "text": [
      " 22%|██▏       | 44/199 [00:21<01:13,  2.09it/s]\n"
     ]
    },
    {
     "name": "stdout",
     "output_type": "stream",
     "text": [
      "Slot F1:  0.9006622516556291\n",
      "Intent Accuracy: 0.948488241881299\n",
      "Training with parameters: lr=0.001, hid_size=200, emb_size=300, weight_decay=0.001, patience=3, emb_drop=0.15, out_drop=0\n"
     ]
    },
    {
     "name": "stderr",
     "output_type": "stream",
     "text": [
      " 20%|█▉        | 39/199 [00:17<01:11,  2.24it/s]\n"
     ]
    },
    {
     "name": "stdout",
     "output_type": "stream",
     "text": [
      "Slot F1:  0.9025567673878062\n",
      "Intent Accuracy: 0.9428891377379619\n",
      "Training with parameters: lr=0.001, hid_size=200, emb_size=500, weight_decay=0.0001, patience=3, emb_drop=0.01, out_drop=0\n"
     ]
    },
    {
     "name": "stderr",
     "output_type": "stream",
     "text": [
      " 20%|█▉        | 39/199 [00:18<01:14,  2.15it/s]\n"
     ]
    },
    {
     "name": "stdout",
     "output_type": "stream",
     "text": [
      "Slot F1:  0.9422804532577904\n",
      "Intent Accuracy: 0.9563269876819709\n",
      "Training with parameters: lr=0.001, hid_size=200, emb_size=500, weight_decay=0.0001, patience=3, emb_drop=0.1, out_drop=0\n"
     ]
    },
    {
     "name": "stderr",
     "output_type": "stream",
     "text": [
      " 27%|██▋       | 54/199 [00:25<01:07,  2.15it/s]\n"
     ]
    },
    {
     "name": "stdout",
     "output_type": "stream",
     "text": [
      "Slot F1:  0.9407801418439717\n",
      "Intent Accuracy: 0.9585666293393057\n",
      "Training with parameters: lr=0.001, hid_size=200, emb_size=500, weight_decay=0.0001, patience=3, emb_drop=0.15, out_drop=0\n"
     ]
    },
    {
     "name": "stderr",
     "output_type": "stream",
     "text": [
      " 30%|██▉       | 59/199 [00:27<01:06,  2.11it/s]\n"
     ]
    },
    {
     "name": "stdout",
     "output_type": "stream",
     "text": [
      "Slot F1:  0.9420520999468368\n",
      "Intent Accuracy: 0.9518477043673013\n",
      "Training with parameters: lr=0.001, hid_size=200, emb_size=500, weight_decay=0.001, patience=3, emb_drop=0.01, out_drop=0\n"
     ]
    },
    {
     "name": "stderr",
     "output_type": "stream",
     "text": [
      " 20%|█▉        | 39/199 [00:20<01:25,  1.87it/s]\n"
     ]
    },
    {
     "name": "stdout",
     "output_type": "stream",
     "text": [
      "Slot F1:  0.9123180688675897\n",
      "Intent Accuracy: 0.9552071668533034\n",
      "Training with parameters: lr=0.001, hid_size=200, emb_size=500, weight_decay=0.001, patience=3, emb_drop=0.1, out_drop=0\n"
     ]
    },
    {
     "name": "stderr",
     "output_type": "stream",
     "text": [
      " 25%|██▍       | 49/199 [00:24<01:15,  1.98it/s]\n"
     ]
    },
    {
     "name": "stdout",
     "output_type": "stream",
     "text": [
      "Slot F1:  0.9071797612684838\n",
      "Intent Accuracy: 0.9451287793952967\n",
      "Training with parameters: lr=0.001, hid_size=200, emb_size=500, weight_decay=0.001, patience=3, emb_drop=0.15, out_drop=0\n"
     ]
    },
    {
     "name": "stderr",
     "output_type": "stream",
     "text": [
      " 20%|█▉        | 39/199 [00:20<01:24,  1.89it/s]\n"
     ]
    },
    {
     "name": "stdout",
     "output_type": "stream",
     "text": [
      "Slot F1:  0.9110953058321479\n",
      "Intent Accuracy: 0.9518477043673013\n",
      "Training with parameters: lr=0.001, hid_size=300, emb_size=200, weight_decay=0.0001, patience=3, emb_drop=0.01, out_drop=0\n"
     ]
    },
    {
     "name": "stderr",
     "output_type": "stream",
     "text": [
      " 37%|███▋      | 74/199 [00:41<01:09,  1.80it/s]\n"
     ]
    },
    {
     "name": "stdout",
     "output_type": "stream",
     "text": [
      "Slot F1:  0.9351523742026931\n",
      "Intent Accuracy: 0.9473684210526315\n",
      "Training with parameters: lr=0.001, hid_size=300, emb_size=200, weight_decay=0.0001, patience=3, emb_drop=0.1, out_drop=0\n"
     ]
    },
    {
     "name": "stderr",
     "output_type": "stream",
     "text": [
      " 35%|███▍      | 69/199 [00:37<01:10,  1.85it/s]\n"
     ]
    },
    {
     "name": "stdout",
     "output_type": "stream",
     "text": [
      "Slot F1:  0.9326021581461171\n",
      "Intent Accuracy: 0.9395296752519597\n",
      "Training with parameters: lr=0.001, hid_size=300, emb_size=200, weight_decay=0.0001, patience=3, emb_drop=0.15, out_drop=0\n"
     ]
    },
    {
     "name": "stderr",
     "output_type": "stream",
     "text": [
      " 30%|██▉       | 59/199 [00:32<01:17,  1.80it/s]\n"
     ]
    },
    {
     "name": "stdout",
     "output_type": "stream",
     "text": [
      "Slot F1:  0.9360948840502744\n",
      "Intent Accuracy: 0.9406494960806271\n",
      "Training with parameters: lr=0.001, hid_size=300, emb_size=200, weight_decay=0.001, patience=3, emb_drop=0.01, out_drop=0\n"
     ]
    },
    {
     "name": "stderr",
     "output_type": "stream",
     "text": [
      " 20%|█▉        | 39/199 [00:19<01:21,  1.97it/s]\n"
     ]
    },
    {
     "name": "stdout",
     "output_type": "stream",
     "text": [
      "Slot F1:  0.8990530641415043\n",
      "Intent Accuracy: 0.9372900335946248\n",
      "Training with parameters: lr=0.001, hid_size=300, emb_size=200, weight_decay=0.001, patience=3, emb_drop=0.1, out_drop=0\n"
     ]
    },
    {
     "name": "stderr",
     "output_type": "stream",
     "text": [
      " 17%|█▋        | 34/199 [00:19<01:32,  1.79it/s]\n"
     ]
    },
    {
     "name": "stdout",
     "output_type": "stream",
     "text": [
      "Slot F1:  0.8935865281261196\n",
      "Intent Accuracy: 0.9473684210526315\n",
      "Training with parameters: lr=0.001, hid_size=300, emb_size=200, weight_decay=0.001, patience=3, emb_drop=0.15, out_drop=0\n"
     ]
    },
    {
     "name": "stderr",
     "output_type": "stream",
     "text": [
      " 20%|█▉        | 39/199 [00:20<01:24,  1.89it/s]\n"
     ]
    },
    {
     "name": "stdout",
     "output_type": "stream",
     "text": [
      "Slot F1:  0.9005142755807768\n",
      "Intent Accuracy: 0.9372900335946248\n",
      "Training with parameters: lr=0.001, hid_size=300, emb_size=300, weight_decay=0.0001, patience=3, emb_drop=0.01, out_drop=0\n"
     ]
    },
    {
     "name": "stderr",
     "output_type": "stream",
     "text": [
      " 42%|████▏     | 84/199 [00:44<01:01,  1.87it/s]\n"
     ]
    },
    {
     "name": "stdout",
     "output_type": "stream",
     "text": [
      "Slot F1:  0.9392167286904128\n",
      "Intent Accuracy: 0.9563269876819709\n",
      "Training with parameters: lr=0.001, hid_size=300, emb_size=300, weight_decay=0.0001, patience=3, emb_drop=0.1, out_drop=0\n"
     ]
    },
    {
     "name": "stderr",
     "output_type": "stream",
     "text": [
      " 30%|██▉       | 59/199 [00:33<01:18,  1.78it/s]\n"
     ]
    },
    {
     "name": "stdout",
     "output_type": "stream",
     "text": [
      "Slot F1:  0.9370106761565836\n",
      "Intent Accuracy: 0.9507278835386338\n",
      "Training with parameters: lr=0.001, hid_size=300, emb_size=300, weight_decay=0.0001, patience=3, emb_drop=0.15, out_drop=0\n"
     ]
    },
    {
     "name": "stderr",
     "output_type": "stream",
     "text": [
      " 15%|█▍        | 29/199 [00:17<01:41,  1.67it/s]\n"
     ]
    },
    {
     "name": "stdout",
     "output_type": "stream",
     "text": [
      "Slot F1:  0.930298217751897\n",
      "Intent Accuracy: 0.9417693169092946\n",
      "Training with parameters: lr=0.001, hid_size=300, emb_size=300, weight_decay=0.001, patience=3, emb_drop=0.01, out_drop=0\n"
     ]
    },
    {
     "name": "stderr",
     "output_type": "stream",
     "text": [
      " 20%|█▉        | 39/199 [00:20<01:25,  1.88it/s]\n"
     ]
    },
    {
     "name": "stdout",
     "output_type": "stream",
     "text": [
      "Slot F1:  0.8955384339724064\n",
      "Intent Accuracy: 0.9440089585666294\n",
      "Training with parameters: lr=0.001, hid_size=300, emb_size=300, weight_decay=0.001, patience=3, emb_drop=0.1, out_drop=0\n"
     ]
    },
    {
     "name": "stderr",
     "output_type": "stream",
     "text": [
      " 22%|██▏       | 44/199 [00:25<01:29,  1.73it/s]\n"
     ]
    },
    {
     "name": "stdout",
     "output_type": "stream",
     "text": [
      "Slot F1:  0.9017424106340939\n",
      "Intent Accuracy: 0.9372900335946248\n",
      "Training with parameters: lr=0.001, hid_size=300, emb_size=300, weight_decay=0.001, patience=3, emb_drop=0.15, out_drop=0\n"
     ]
    },
    {
     "name": "stderr",
     "output_type": "stream",
     "text": [
      " 20%|█▉        | 39/199 [00:20<01:26,  1.86it/s]\n"
     ]
    },
    {
     "name": "stdout",
     "output_type": "stream",
     "text": [
      "Slot F1:  0.9001808318264014\n",
      "Intent Accuracy: 0.9473684210526315\n",
      "Training with parameters: lr=0.001, hid_size=300, emb_size=500, weight_decay=0.0001, patience=3, emb_drop=0.01, out_drop=0\n"
     ]
    },
    {
     "name": "stderr",
     "output_type": "stream",
     "text": [
      " 20%|█▉        | 39/199 [00:22<01:33,  1.71it/s]\n"
     ]
    },
    {
     "name": "stdout",
     "output_type": "stream",
     "text": [
      "Slot F1:  0.9405712258293417\n",
      "Intent Accuracy: 0.9496080627099664\n",
      "Training with parameters: lr=0.001, hid_size=300, emb_size=500, weight_decay=0.0001, patience=3, emb_drop=0.1, out_drop=0\n"
     ]
    },
    {
     "name": "stderr",
     "output_type": "stream",
     "text": [
      " 22%|██▏       | 44/199 [00:26<01:32,  1.67it/s]\n"
     ]
    },
    {
     "name": "stdout",
     "output_type": "stream",
     "text": [
      "Slot F1:  0.9377888375399929\n",
      "Intent Accuracy: 0.9428891377379619\n",
      "Training with parameters: lr=0.001, hid_size=300, emb_size=500, weight_decay=0.0001, patience=3, emb_drop=0.15, out_drop=0\n"
     ]
    },
    {
     "name": "stderr",
     "output_type": "stream",
     "text": [
      " 20%|█▉        | 39/199 [00:21<01:27,  1.82it/s]\n"
     ]
    },
    {
     "name": "stdout",
     "output_type": "stream",
     "text": [
      "Slot F1:  0.9426504323275101\n",
      "Intent Accuracy: 0.9529675251959686\n",
      "Training with parameters: lr=0.001, hid_size=300, emb_size=500, weight_decay=0.001, patience=3, emb_drop=0.01, out_drop=0\n"
     ]
    },
    {
     "name": "stderr",
     "output_type": "stream",
     "text": [
      " 17%|█▋        | 34/199 [00:18<01:30,  1.83it/s]\n"
     ]
    },
    {
     "name": "stdout",
     "output_type": "stream",
     "text": [
      "Slot F1:  0.9216312056737588\n",
      "Intent Accuracy: 0.9417693169092946\n",
      "Training with parameters: lr=0.001, hid_size=300, emb_size=500, weight_decay=0.001, patience=3, emb_drop=0.1, out_drop=0\n"
     ]
    },
    {
     "name": "stderr",
     "output_type": "stream",
     "text": [
      " 17%|█▋        | 34/199 [00:18<01:29,  1.84it/s]\n"
     ]
    },
    {
     "name": "stdout",
     "output_type": "stream",
     "text": [
      "Slot F1:  0.9086021505376344\n",
      "Intent Accuracy: 0.9462486002239642\n",
      "Training with parameters: lr=0.001, hid_size=300, emb_size=500, weight_decay=0.001, patience=3, emb_drop=0.15, out_drop=0\n"
     ]
    },
    {
     "name": "stderr",
     "output_type": "stream",
     "text": [
      " 20%|█▉        | 39/199 [00:21<01:26,  1.85it/s]\n"
     ]
    },
    {
     "name": "stdout",
     "output_type": "stream",
     "text": [
      "Slot F1:  0.9144689950106913\n",
      "Intent Accuracy: 0.9462486002239642\n",
      "Training with parameters: lr=0.001, hid_size=500, emb_size=200, weight_decay=0.0001, patience=3, emb_drop=0.01, out_drop=0\n"
     ]
    },
    {
     "name": "stderr",
     "output_type": "stream",
     "text": [
      " 32%|███▏      | 64/199 [00:43<01:31,  1.48it/s]\n"
     ]
    },
    {
     "name": "stdout",
     "output_type": "stream",
     "text": [
      "Slot F1:  0.9314680361253763\n",
      "Intent Accuracy: 0.9451287793952967\n",
      "Training with parameters: lr=0.001, hid_size=500, emb_size=200, weight_decay=0.0001, patience=3, emb_drop=0.1, out_drop=0\n"
     ]
    },
    {
     "name": "stderr",
     "output_type": "stream",
     "text": [
      " 20%|█▉        | 39/199 [00:26<01:47,  1.49it/s]\n"
     ]
    },
    {
     "name": "stdout",
     "output_type": "stream",
     "text": [
      "Slot F1:  0.9310161376130519\n",
      "Intent Accuracy: 0.9384098544232923\n",
      "Training with parameters: lr=0.001, hid_size=500, emb_size=200, weight_decay=0.0001, patience=3, emb_drop=0.15, out_drop=0\n"
     ]
    },
    {
     "name": "stderr",
     "output_type": "stream",
     "text": [
      " 17%|█▋        | 34/199 [00:23<01:52,  1.46it/s]\n"
     ]
    },
    {
     "name": "stdout",
     "output_type": "stream",
     "text": [
      "Slot F1:  0.9306647605432452\n",
      "Intent Accuracy: 0.9451287793952967\n",
      "Training with parameters: lr=0.001, hid_size=500, emb_size=200, weight_decay=0.001, patience=3, emb_drop=0.01, out_drop=0\n"
     ]
    },
    {
     "name": "stderr",
     "output_type": "stream",
     "text": [
      " 17%|█▋        | 34/199 [00:23<01:54,  1.44it/s]\n"
     ]
    },
    {
     "name": "stdout",
     "output_type": "stream",
     "text": [
      "Slot F1:  0.8849114014676928\n",
      "Intent Accuracy: 0.9316909294512878\n",
      "Training with parameters: lr=0.001, hid_size=500, emb_size=200, weight_decay=0.001, patience=3, emb_drop=0.1, out_drop=0\n"
     ]
    },
    {
     "name": "stderr",
     "output_type": "stream",
     "text": [
      " 17%|█▋        | 34/199 [00:22<01:50,  1.50it/s]\n"
     ]
    },
    {
     "name": "stdout",
     "output_type": "stream",
     "text": [
      "Slot F1:  0.8941553813257306\n",
      "Intent Accuracy: 0.9473684210526315\n",
      "Training with parameters: lr=0.001, hid_size=500, emb_size=200, weight_decay=0.001, patience=3, emb_drop=0.15, out_drop=0\n"
     ]
    },
    {
     "name": "stderr",
     "output_type": "stream",
     "text": [
      " 22%|██▏       | 44/199 [00:30<01:47,  1.44it/s]\n"
     ]
    },
    {
     "name": "stdout",
     "output_type": "stream",
     "text": [
      "Slot F1:  0.8903179707038228\n",
      "Intent Accuracy: 0.9249720044792833\n",
      "Training with parameters: lr=0.001, hid_size=500, emb_size=300, weight_decay=0.0001, patience=3, emb_drop=0.01, out_drop=0\n"
     ]
    },
    {
     "name": "stderr",
     "output_type": "stream",
     "text": [
      " 30%|██▉       | 59/199 [00:41<01:38,  1.42it/s]\n"
     ]
    },
    {
     "name": "stdout",
     "output_type": "stream",
     "text": [
      "Slot F1:  0.9365248226950356\n",
      "Intent Accuracy: 0.9462486002239642\n",
      "Training with parameters: lr=0.001, hid_size=500, emb_size=300, weight_decay=0.0001, patience=3, emb_drop=0.1, out_drop=0\n"
     ]
    },
    {
     "name": "stderr",
     "output_type": "stream",
     "text": [
      " 17%|█▋        | 34/199 [00:24<01:57,  1.40it/s]\n"
     ]
    },
    {
     "name": "stdout",
     "output_type": "stream",
     "text": [
      "Slot F1:  0.9386307201135154\n",
      "Intent Accuracy: 0.948488241881299\n",
      "Training with parameters: lr=0.001, hid_size=500, emb_size=300, weight_decay=0.0001, patience=3, emb_drop=0.15, out_drop=0\n"
     ]
    },
    {
     "name": "stderr",
     "output_type": "stream",
     "text": [
      " 20%|█▉        | 39/199 [00:26<01:48,  1.47it/s]\n"
     ]
    },
    {
     "name": "stdout",
     "output_type": "stream",
     "text": [
      "Slot F1:  0.939571150097466\n",
      "Intent Accuracy: 0.9496080627099664\n",
      "Training with parameters: lr=0.001, hid_size=500, emb_size=300, weight_decay=0.001, patience=3, emb_drop=0.01, out_drop=0\n"
     ]
    },
    {
     "name": "stderr",
     "output_type": "stream",
     "text": [
      " 20%|█▉        | 39/199 [00:25<01:43,  1.55it/s]\n"
     ]
    },
    {
     "name": "stdout",
     "output_type": "stream",
     "text": [
      "Slot F1:  0.904226859283039\n",
      "Intent Accuracy: 0.9451287793952967\n",
      "Training with parameters: lr=0.001, hid_size=500, emb_size=300, weight_decay=0.001, patience=3, emb_drop=0.1, out_drop=0\n"
     ]
    },
    {
     "name": "stderr",
     "output_type": "stream",
     "text": [
      " 12%|█▏        | 24/199 [00:15<01:51,  1.57it/s]\n"
     ]
    },
    {
     "name": "stdout",
     "output_type": "stream",
     "text": [
      "Slot F1:  0.9008528784648188\n",
      "Intent Accuracy: 0.9428891377379619\n",
      "Training with parameters: lr=0.001, hid_size=500, emb_size=300, weight_decay=0.001, patience=3, emb_drop=0.15, out_drop=0\n"
     ]
    },
    {
     "name": "stderr",
     "output_type": "stream",
     "text": [
      " 20%|█▉        | 39/199 [00:25<01:43,  1.54it/s]\n"
     ]
    },
    {
     "name": "stdout",
     "output_type": "stream",
     "text": [
      "Slot F1:  0.8953945019635845\n",
      "Intent Accuracy: 0.9428891377379619\n",
      "Training with parameters: lr=0.001, hid_size=500, emb_size=500, weight_decay=0.0001, patience=3, emb_drop=0.01, out_drop=0\n"
     ]
    },
    {
     "name": "stderr",
     "output_type": "stream",
     "text": [
      " 17%|█▋        | 34/199 [00:23<01:56,  1.42it/s]\n"
     ]
    },
    {
     "name": "stdout",
     "output_type": "stream",
     "text": [
      "Slot F1:  0.9409888357256779\n",
      "Intent Accuracy: 0.9518477043673013\n",
      "Training with parameters: lr=0.001, hid_size=500, emb_size=500, weight_decay=0.0001, patience=3, emb_drop=0.1, out_drop=0\n"
     ]
    },
    {
     "name": "stderr",
     "output_type": "stream",
     "text": [
      " 27%|██▋       | 54/199 [00:35<01:36,  1.50it/s]\n"
     ]
    },
    {
     "name": "stdout",
     "output_type": "stream",
     "text": [
      "Slot F1:  0.9352212389380531\n",
      "Intent Accuracy: 0.948488241881299\n",
      "Training with parameters: lr=0.001, hid_size=500, emb_size=500, weight_decay=0.0001, patience=3, emb_drop=0.15, out_drop=0\n"
     ]
    },
    {
     "name": "stderr",
     "output_type": "stream",
     "text": [
      " 17%|█▋        | 34/199 [00:22<01:50,  1.50it/s]\n"
     ]
    },
    {
     "name": "stdout",
     "output_type": "stream",
     "text": [
      "Slot F1:  0.9423452190881675\n",
      "Intent Accuracy: 0.9518477043673013\n",
      "Training with parameters: lr=0.001, hid_size=500, emb_size=500, weight_decay=0.001, patience=3, emb_drop=0.01, out_drop=0\n"
     ]
    },
    {
     "name": "stderr",
     "output_type": "stream",
     "text": [
      " 12%|█▏        | 24/199 [00:16<02:02,  1.43it/s]\n"
     ]
    },
    {
     "name": "stdout",
     "output_type": "stream",
     "text": [
      "Slot F1:  0.9226959136741554\n",
      "Intent Accuracy: 0.9473684210526315\n",
      "Training with parameters: lr=0.001, hid_size=500, emb_size=500, weight_decay=0.001, patience=3, emb_drop=0.1, out_drop=0\n"
     ]
    },
    {
     "name": "stderr",
     "output_type": "stream",
     "text": [
      " 22%|██▏       | 44/199 [00:30<01:46,  1.46it/s]\n"
     ]
    },
    {
     "name": "stdout",
     "output_type": "stream",
     "text": [
      "Slot F1:  0.9113924050632911\n",
      "Intent Accuracy: 0.9384098544232923\n",
      "Training with parameters: lr=0.001, hid_size=500, emb_size=500, weight_decay=0.001, patience=3, emb_drop=0.15, out_drop=0\n"
     ]
    },
    {
     "name": "stderr",
     "output_type": "stream",
     "text": [
      " 20%|█▉        | 39/199 [00:26<01:49,  1.46it/s]\n"
     ]
    },
    {
     "name": "stdout",
     "output_type": "stream",
     "text": [
      "Slot F1:  0.9075330239200284\n",
      "Intent Accuracy: 0.9395296752519597\n",
      "Training with parameters: lr=0.0005, hid_size=200, emb_size=200, weight_decay=0.0001, patience=3, emb_drop=0.01, out_drop=0\n"
     ]
    },
    {
     "name": "stderr",
     "output_type": "stream",
     "text": [
      " 42%|████▏     | 84/199 [00:37<00:51,  2.21it/s]\n"
     ]
    },
    {
     "name": "stdout",
     "output_type": "stream",
     "text": [
      "Slot F1:  0.9322302411547263\n",
      "Intent Accuracy: 0.9406494960806271\n",
      "Training with parameters: lr=0.0005, hid_size=200, emb_size=200, weight_decay=0.0001, patience=3, emb_drop=0.1, out_drop=0\n"
     ]
    },
    {
     "name": "stderr",
     "output_type": "stream",
     "text": [
      " 50%|████▉     | 99/199 [00:44<00:44,  2.22it/s]\n"
     ]
    },
    {
     "name": "stdout",
     "output_type": "stream",
     "text": [
      "Slot F1:  0.9370232393116907\n",
      "Intent Accuracy: 0.9473684210526315\n",
      "Training with parameters: lr=0.0005, hid_size=200, emb_size=200, weight_decay=0.0001, patience=3, emb_drop=0.15, out_drop=0\n"
     ]
    },
    {
     "name": "stderr",
     "output_type": "stream",
     "text": [
      " 45%|████▍     | 89/199 [00:39<00:49,  2.23it/s]\n"
     ]
    },
    {
     "name": "stdout",
     "output_type": "stream",
     "text": [
      "Slot F1:  0.93359375\n",
      "Intent Accuracy: 0.9395296752519597\n",
      "Training with parameters: lr=0.0005, hid_size=200, emb_size=200, weight_decay=0.001, patience=3, emb_drop=0.01, out_drop=0\n"
     ]
    },
    {
     "name": "stderr",
     "output_type": "stream",
     "text": [
      " 35%|███▍      | 69/199 [00:30<00:57,  2.28it/s]\n"
     ]
    },
    {
     "name": "stdout",
     "output_type": "stream",
     "text": [
      "Slot F1:  0.8904428904428904\n",
      "Intent Accuracy: 0.9193729003359462\n",
      "Training with parameters: lr=0.0005, hid_size=200, emb_size=200, weight_decay=0.001, patience=3, emb_drop=0.1, out_drop=0\n"
     ]
    },
    {
     "name": "stderr",
     "output_type": "stream",
     "text": [
      " 30%|██▉       | 59/199 [00:26<01:03,  2.21it/s]\n"
     ]
    },
    {
     "name": "stdout",
     "output_type": "stream",
     "text": [
      "Slot F1:  0.9001613192328375\n",
      "Intent Accuracy: 0.9328107502799552\n",
      "Training with parameters: lr=0.0005, hid_size=200, emb_size=200, weight_decay=0.001, patience=3, emb_drop=0.15, out_drop=0\n"
     ]
    },
    {
     "name": "stderr",
     "output_type": "stream",
     "text": [
      " 42%|████▏     | 84/199 [00:37<00:51,  2.23it/s]\n"
     ]
    },
    {
     "name": "stdout",
     "output_type": "stream",
     "text": [
      "Slot F1:  0.8915272531030761\n",
      "Intent Accuracy: 0.9451287793952967\n",
      "Training with parameters: lr=0.0005, hid_size=200, emb_size=300, weight_decay=0.0001, patience=3, emb_drop=0.01, out_drop=0\n"
     ]
    },
    {
     "name": "stderr",
     "output_type": "stream",
     "text": [
      " 30%|██▉       | 59/199 [00:26<01:03,  2.19it/s]\n"
     ]
    },
    {
     "name": "stdout",
     "output_type": "stream",
     "text": [
      "Slot F1:  0.93657843311423\n",
      "Intent Accuracy: 0.9507278835386338\n",
      "Training with parameters: lr=0.0005, hid_size=200, emb_size=300, weight_decay=0.0001, patience=3, emb_drop=0.1, out_drop=0\n"
     ]
    },
    {
     "name": "stderr",
     "output_type": "stream",
     "text": [
      " 32%|███▏      | 64/199 [00:28<00:59,  2.28it/s]\n"
     ]
    },
    {
     "name": "stdout",
     "output_type": "stream",
     "text": [
      "Slot F1:  0.9337618282449562\n",
      "Intent Accuracy: 0.9395296752519597\n",
      "Training with parameters: lr=0.0005, hid_size=200, emb_size=300, weight_decay=0.0001, patience=3, emb_drop=0.15, out_drop=0\n"
     ]
    },
    {
     "name": "stderr",
     "output_type": "stream",
     "text": [
      " 37%|███▋      | 74/199 [00:31<00:53,  2.32it/s]\n"
     ]
    },
    {
     "name": "stdout",
     "output_type": "stream",
     "text": [
      "Slot F1:  0.932260947274352\n",
      "Intent Accuracy: 0.9372900335946248\n",
      "Training with parameters: lr=0.0005, hid_size=200, emb_size=300, weight_decay=0.001, patience=3, emb_drop=0.01, out_drop=0\n"
     ]
    },
    {
     "name": "stderr",
     "output_type": "stream",
     "text": [
      " 27%|██▋       | 54/199 [00:23<01:04,  2.25it/s]\n"
     ]
    },
    {
     "name": "stdout",
     "output_type": "stream",
     "text": [
      "Slot F1:  0.9080849544886667\n",
      "Intent Accuracy: 0.9428891377379619\n",
      "Training with parameters: lr=0.0005, hid_size=200, emb_size=300, weight_decay=0.001, patience=3, emb_drop=0.1, out_drop=0\n"
     ]
    },
    {
     "name": "stderr",
     "output_type": "stream",
     "text": [
      " 30%|██▉       | 59/199 [00:26<01:03,  2.22it/s]\n"
     ]
    },
    {
     "name": "stdout",
     "output_type": "stream",
     "text": [
      "Slot F1:  0.9113424264178033\n",
      "Intent Accuracy: 0.9440089585666294\n",
      "Training with parameters: lr=0.0005, hid_size=200, emb_size=300, weight_decay=0.001, patience=3, emb_drop=0.15, out_drop=0\n"
     ]
    },
    {
     "name": "stderr",
     "output_type": "stream",
     "text": [
      " 27%|██▋       | 54/199 [00:25<01:07,  2.13it/s]\n"
     ]
    },
    {
     "name": "stdout",
     "output_type": "stream",
     "text": [
      "Slot F1:  0.9004468275245756\n",
      "Intent Accuracy: 0.9406494960806271\n",
      "Training with parameters: lr=0.0005, hid_size=200, emb_size=500, weight_decay=0.0001, patience=3, emb_drop=0.01, out_drop=0\n"
     ]
    },
    {
     "name": "stderr",
     "output_type": "stream",
     "text": [
      " 27%|██▋       | 54/199 [00:26<01:11,  2.03it/s]\n"
     ]
    },
    {
     "name": "stdout",
     "output_type": "stream",
     "text": [
      "Slot F1:  0.9360485887817078\n",
      "Intent Accuracy: 0.9440089585666294\n",
      "Training with parameters: lr=0.0005, hid_size=200, emb_size=500, weight_decay=0.0001, patience=3, emb_drop=0.1, out_drop=0\n"
     ]
    },
    {
     "name": "stderr",
     "output_type": "stream",
     "text": [
      " 47%|████▋     | 94/199 [00:43<00:48,  2.17it/s]\n"
     ]
    },
    {
     "name": "stdout",
     "output_type": "stream",
     "text": [
      "Slot F1:  0.9424269264836138\n",
      "Intent Accuracy: 0.9462486002239642\n",
      "Training with parameters: lr=0.0005, hid_size=200, emb_size=500, weight_decay=0.0001, patience=3, emb_drop=0.15, out_drop=0\n"
     ]
    },
    {
     "name": "stderr",
     "output_type": "stream",
     "text": [
      " 25%|██▍       | 49/199 [00:22<01:09,  2.16it/s]\n"
     ]
    },
    {
     "name": "stdout",
     "output_type": "stream",
     "text": [
      "Slot F1:  0.9379968203497614\n",
      "Intent Accuracy: 0.9428891377379619\n",
      "Training with parameters: lr=0.0005, hid_size=200, emb_size=500, weight_decay=0.001, patience=3, emb_drop=0.01, out_drop=0\n"
     ]
    },
    {
     "name": "stderr",
     "output_type": "stream",
     "text": [
      " 30%|██▉       | 59/199 [00:26<01:02,  2.25it/s]\n"
     ]
    },
    {
     "name": "stdout",
     "output_type": "stream",
     "text": [
      "Slot F1:  0.9218136379864335\n",
      "Intent Accuracy: 0.9518477043673013\n",
      "Training with parameters: lr=0.0005, hid_size=200, emb_size=500, weight_decay=0.001, patience=3, emb_drop=0.1, out_drop=0\n"
     ]
    },
    {
     "name": "stderr",
     "output_type": "stream",
     "text": [
      " 32%|███▏      | 64/199 [00:28<00:59,  2.27it/s]\n"
     ]
    },
    {
     "name": "stdout",
     "output_type": "stream",
     "text": [
      "Slot F1:  0.9233243967828417\n",
      "Intent Accuracy: 0.9518477043673013\n",
      "Training with parameters: lr=0.0005, hid_size=200, emb_size=500, weight_decay=0.001, patience=3, emb_drop=0.15, out_drop=0\n"
     ]
    },
    {
     "name": "stderr",
     "output_type": "stream",
     "text": [
      " 27%|██▋       | 54/199 [00:25<01:07,  2.15it/s]\n"
     ]
    },
    {
     "name": "stdout",
     "output_type": "stream",
     "text": [
      "Slot F1:  0.9215931416324343\n",
      "Intent Accuracy: 0.9462486002239642\n",
      "Training with parameters: lr=0.0005, hid_size=300, emb_size=200, weight_decay=0.0001, patience=3, emb_drop=0.01, out_drop=0\n"
     ]
    },
    {
     "name": "stderr",
     "output_type": "stream",
     "text": [
      " 40%|███▉      | 79/199 [00:39<01:00,  1.98it/s]\n"
     ]
    },
    {
     "name": "stdout",
     "output_type": "stream",
     "text": [
      "Slot F1:  0.933191564770512\n",
      "Intent Accuracy: 0.9451287793952967\n",
      "Training with parameters: lr=0.0005, hid_size=300, emb_size=200, weight_decay=0.0001, patience=3, emb_drop=0.1, out_drop=0\n"
     ]
    },
    {
     "name": "stderr",
     "output_type": "stream",
     "text": [
      " 35%|███▍      | 69/199 [00:33<01:03,  2.05it/s]\n"
     ]
    },
    {
     "name": "stdout",
     "output_type": "stream",
     "text": [
      "Slot F1:  0.9264314837794718\n",
      "Intent Accuracy: 0.9440089585666294\n",
      "Training with parameters: lr=0.0005, hid_size=300, emb_size=200, weight_decay=0.0001, patience=3, emb_drop=0.15, out_drop=0\n"
     ]
    },
    {
     "name": "stderr",
     "output_type": "stream",
     "text": [
      " 37%|███▋      | 74/199 [00:37<01:02,  1.99it/s]\n"
     ]
    },
    {
     "name": "stdout",
     "output_type": "stream",
     "text": [
      "Slot F1:  0.9263157894736842\n",
      "Intent Accuracy: 0.9462486002239642\n",
      "Training with parameters: lr=0.0005, hid_size=300, emb_size=200, weight_decay=0.001, patience=3, emb_drop=0.01, out_drop=0\n"
     ]
    },
    {
     "name": "stderr",
     "output_type": "stream",
     "text": [
      " 42%|████▏     | 84/199 [00:39<00:53,  2.15it/s]\n"
     ]
    },
    {
     "name": "stdout",
     "output_type": "stream",
     "text": [
      "Slot F1:  0.9011345218800648\n",
      "Intent Accuracy: 0.9462486002239642\n",
      "Training with parameters: lr=0.0005, hid_size=300, emb_size=200, weight_decay=0.001, patience=3, emb_drop=0.1, out_drop=0\n"
     ]
    },
    {
     "name": "stderr",
     "output_type": "stream",
     "text": [
      " 25%|██▍       | 49/199 [00:23<01:13,  2.05it/s]\n"
     ]
    },
    {
     "name": "stdout",
     "output_type": "stream",
     "text": [
      "Slot F1:  0.9074240517706273\n",
      "Intent Accuracy: 0.9417693169092946\n",
      "Training with parameters: lr=0.0005, hid_size=300, emb_size=200, weight_decay=0.001, patience=3, emb_drop=0.15, out_drop=0\n"
     ]
    },
    {
     "name": "stderr",
     "output_type": "stream",
     "text": [
      " 35%|███▍      | 69/199 [00:31<01:00,  2.16it/s]\n"
     ]
    },
    {
     "name": "stdout",
     "output_type": "stream",
     "text": [
      "Slot F1:  0.8955866523143166\n",
      "Intent Accuracy: 0.9339305711086227\n",
      "Training with parameters: lr=0.0005, hid_size=300, emb_size=300, weight_decay=0.0001, patience=3, emb_drop=0.01, out_drop=0\n"
     ]
    },
    {
     "name": "stderr",
     "output_type": "stream",
     "text": [
      " 25%|██▍       | 49/199 [00:25<01:16,  1.95it/s]\n"
     ]
    },
    {
     "name": "stdout",
     "output_type": "stream",
     "text": [
      "Slot F1:  0.9285459092533047\n",
      "Intent Accuracy: 0.9406494960806271\n",
      "Training with parameters: lr=0.0005, hid_size=300, emb_size=300, weight_decay=0.0001, patience=3, emb_drop=0.1, out_drop=0\n"
     ]
    },
    {
     "name": "stderr",
     "output_type": "stream",
     "text": [
      " 35%|███▍      | 69/199 [00:31<01:00,  2.16it/s]\n"
     ]
    },
    {
     "name": "stdout",
     "output_type": "stream",
     "text": [
      "Slot F1:  0.9350880313000178\n",
      "Intent Accuracy: 0.948488241881299\n",
      "Training with parameters: lr=0.0005, hid_size=300, emb_size=300, weight_decay=0.0001, patience=3, emb_drop=0.15, out_drop=0\n"
     ]
    },
    {
     "name": "stderr",
     "output_type": "stream",
     "text": [
      " 55%|█████▍    | 109/199 [00:51<00:42,  2.13it/s]\n"
     ]
    },
    {
     "name": "stdout",
     "output_type": "stream",
     "text": [
      "Slot F1:  0.93541518807665\n",
      "Intent Accuracy: 0.9518477043673013\n",
      "Training with parameters: lr=0.0005, hid_size=300, emb_size=300, weight_decay=0.001, patience=3, emb_drop=0.01, out_drop=0\n"
     ]
    },
    {
     "name": "stderr",
     "output_type": "stream",
     "text": [
      " 30%|██▉       | 59/199 [00:28<01:08,  2.04it/s]\n"
     ]
    },
    {
     "name": "stdout",
     "output_type": "stream",
     "text": [
      "Slot F1:  0.8985714285714285\n",
      "Intent Accuracy: 0.9417693169092946\n",
      "Training with parameters: lr=0.0005, hid_size=300, emb_size=300, weight_decay=0.001, patience=3, emb_drop=0.1, out_drop=0\n"
     ]
    },
    {
     "name": "stderr",
     "output_type": "stream",
     "text": [
      " 30%|██▉       | 59/199 [00:28<01:07,  2.07it/s]\n"
     ]
    },
    {
     "name": "stdout",
     "output_type": "stream",
     "text": [
      "Slot F1:  0.9077005157389294\n",
      "Intent Accuracy: 0.9440089585666294\n",
      "Training with parameters: lr=0.0005, hid_size=300, emb_size=300, weight_decay=0.001, patience=3, emb_drop=0.15, out_drop=0\n"
     ]
    },
    {
     "name": "stderr",
     "output_type": "stream",
     "text": [
      " 22%|██▏       | 44/199 [00:21<01:14,  2.09it/s]\n"
     ]
    },
    {
     "name": "stdout",
     "output_type": "stream",
     "text": [
      "Slot F1:  0.9120114224522577\n",
      "Intent Accuracy: 0.9417693169092946\n",
      "Training with parameters: lr=0.0005, hid_size=300, emb_size=500, weight_decay=0.0001, patience=3, emb_drop=0.01, out_drop=0\n"
     ]
    },
    {
     "name": "stderr",
     "output_type": "stream",
     "text": [
      " 27%|██▋       | 54/199 [00:27<01:14,  1.93it/s]\n"
     ]
    },
    {
     "name": "stdout",
     "output_type": "stream",
     "text": [
      "Slot F1:  0.9464728819567529\n",
      "Intent Accuracy: 0.9518477043673013\n",
      "Training with parameters: lr=0.0005, hid_size=300, emb_size=500, weight_decay=0.0001, patience=3, emb_drop=0.1, out_drop=0\n"
     ]
    },
    {
     "name": "stderr",
     "output_type": "stream",
     "text": [
      " 32%|███▏      | 64/199 [00:32<01:08,  1.97it/s]\n"
     ]
    },
    {
     "name": "stdout",
     "output_type": "stream",
     "text": [
      "Slot F1:  0.9407578722647215\n",
      "Intent Accuracy: 0.9462486002239642\n",
      "Training with parameters: lr=0.0005, hid_size=300, emb_size=500, weight_decay=0.0001, patience=3, emb_drop=0.15, out_drop=0\n"
     ]
    },
    {
     "name": "stderr",
     "output_type": "stream",
     "text": [
      " 30%|██▉       | 59/199 [00:29<01:08,  2.03it/s]\n"
     ]
    },
    {
     "name": "stdout",
     "output_type": "stream",
     "text": [
      "Slot F1:  0.9385296722763508\n",
      "Intent Accuracy: 0.9496080627099664\n",
      "Training with parameters: lr=0.0005, hid_size=300, emb_size=500, weight_decay=0.001, patience=3, emb_drop=0.01, out_drop=0\n"
     ]
    },
    {
     "name": "stderr",
     "output_type": "stream",
     "text": [
      " 22%|██▏       | 44/199 [00:21<01:15,  2.05it/s]\n"
     ]
    },
    {
     "name": "stdout",
     "output_type": "stream",
     "text": [
      "Slot F1:  0.9252303330970943\n",
      "Intent Accuracy: 0.9428891377379619\n",
      "Training with parameters: lr=0.0005, hid_size=300, emb_size=500, weight_decay=0.001, patience=3, emb_drop=0.1, out_drop=0\n"
     ]
    },
    {
     "name": "stderr",
     "output_type": "stream",
     "text": [
      " 25%|██▍       | 49/199 [00:23<01:12,  2.08it/s]\n"
     ]
    },
    {
     "name": "stdout",
     "output_type": "stream",
     "text": [
      "Slot F1:  0.9223646723646723\n",
      "Intent Accuracy: 0.9462486002239642\n",
      "Training with parameters: lr=0.0005, hid_size=300, emb_size=500, weight_decay=0.001, patience=3, emb_drop=0.15, out_drop=0\n"
     ]
    },
    {
     "name": "stderr",
     "output_type": "stream",
     "text": [
      " 27%|██▋       | 54/199 [00:25<01:07,  2.14it/s]\n"
     ]
    },
    {
     "name": "stdout",
     "output_type": "stream",
     "text": [
      "Slot F1:  0.923544122901036\n",
      "Intent Accuracy: 0.948488241881299\n",
      "Training with parameters: lr=0.0005, hid_size=500, emb_size=200, weight_decay=0.0001, patience=3, emb_drop=0.01, out_drop=0\n"
     ]
    },
    {
     "name": "stderr",
     "output_type": "stream",
     "text": [
      " 35%|███▍      | 69/199 [00:43<01:22,  1.58it/s]\n"
     ]
    },
    {
     "name": "stdout",
     "output_type": "stream",
     "text": [
      "Slot F1:  0.9306614647987231\n",
      "Intent Accuracy: 0.9417693169092946\n",
      "Training with parameters: lr=0.0005, hid_size=500, emb_size=200, weight_decay=0.0001, patience=3, emb_drop=0.1, out_drop=0\n"
     ]
    },
    {
     "name": "stderr",
     "output_type": "stream",
     "text": [
      " 27%|██▋       | 54/199 [00:33<01:30,  1.60it/s]\n"
     ]
    },
    {
     "name": "stdout",
     "output_type": "stream",
     "text": [
      "Slot F1:  0.9261171443831226\n",
      "Intent Accuracy: 0.9417693169092946\n",
      "Training with parameters: lr=0.0005, hid_size=500, emb_size=200, weight_decay=0.0001, patience=3, emb_drop=0.15, out_drop=0\n"
     ]
    },
    {
     "name": "stderr",
     "output_type": "stream",
     "text": [
      " 20%|█▉        | 39/199 [00:24<01:40,  1.59it/s]\n"
     ]
    },
    {
     "name": "stdout",
     "output_type": "stream",
     "text": [
      "Slot F1:  0.9117079164472529\n",
      "Intent Accuracy: 0.916013437849944\n",
      "Training with parameters: lr=0.0005, hid_size=500, emb_size=200, weight_decay=0.001, patience=3, emb_drop=0.01, out_drop=0\n"
     ]
    },
    {
     "name": "stderr",
     "output_type": "stream",
     "text": [
      " 25%|██▍       | 49/199 [00:30<01:32,  1.62it/s]\n"
     ]
    },
    {
     "name": "stdout",
     "output_type": "stream",
     "text": [
      "Slot F1:  0.9044953962809171\n",
      "Intent Accuracy: 0.9428891377379619\n",
      "Training with parameters: lr=0.0005, hid_size=500, emb_size=200, weight_decay=0.001, patience=3, emb_drop=0.1, out_drop=0\n"
     ]
    },
    {
     "name": "stderr",
     "output_type": "stream",
     "text": [
      " 30%|██▉       | 59/199 [00:37<01:29,  1.56it/s]\n"
     ]
    },
    {
     "name": "stdout",
     "output_type": "stream",
     "text": [
      "Slot F1:  0.8925174950654944\n",
      "Intent Accuracy: 0.9451287793952967\n",
      "Training with parameters: lr=0.0005, hid_size=500, emb_size=200, weight_decay=0.001, patience=3, emb_drop=0.15, out_drop=0\n"
     ]
    },
    {
     "name": "stderr",
     "output_type": "stream",
     "text": [
      " 32%|███▏      | 64/199 [00:39<01:23,  1.62it/s]\n"
     ]
    },
    {
     "name": "stdout",
     "output_type": "stream",
     "text": [
      "Slot F1:  0.8959827833572455\n",
      "Intent Accuracy: 0.9417693169092946\n",
      "Training with parameters: lr=0.0005, hid_size=500, emb_size=300, weight_decay=0.0001, patience=3, emb_drop=0.01, out_drop=0\n"
     ]
    },
    {
     "name": "stderr",
     "output_type": "stream",
     "text": [
      " 32%|███▏      | 64/199 [00:41<01:28,  1.53it/s]\n"
     ]
    },
    {
     "name": "stdout",
     "output_type": "stream",
     "text": [
      "Slot F1:  0.9345396487493347\n",
      "Intent Accuracy: 0.948488241881299\n",
      "Training with parameters: lr=0.0005, hid_size=500, emb_size=300, weight_decay=0.0001, patience=3, emb_drop=0.1, out_drop=0\n"
     ]
    },
    {
     "name": "stderr",
     "output_type": "stream",
     "text": [
      " 20%|█▉        | 39/199 [00:26<01:47,  1.49it/s]\n"
     ]
    },
    {
     "name": "stdout",
     "output_type": "stream",
     "text": [
      "Slot F1:  0.9289015286171348\n",
      "Intent Accuracy: 0.9462486002239642\n",
      "Training with parameters: lr=0.0005, hid_size=500, emb_size=300, weight_decay=0.0001, patience=3, emb_drop=0.15, out_drop=0\n"
     ]
    },
    {
     "name": "stderr",
     "output_type": "stream",
     "text": [
      " 30%|██▉       | 59/199 [00:43<01:43,  1.35it/s]\n"
     ]
    },
    {
     "name": "stdout",
     "output_type": "stream",
     "text": [
      "Slot F1:  0.9277280858676208\n",
      "Intent Accuracy: 0.9316909294512878\n",
      "Training with parameters: lr=0.0005, hid_size=500, emb_size=300, weight_decay=0.001, patience=3, emb_drop=0.01, out_drop=0\n"
     ]
    },
    {
     "name": "stderr",
     "output_type": "stream",
     "text": [
      " 32%|███▏      | 64/199 [00:44<01:34,  1.43it/s]\n"
     ]
    },
    {
     "name": "stdout",
     "output_type": "stream",
     "text": [
      "Slot F1:  0.886484568996098\n",
      "Intent Accuracy: 0.9260918253079508\n",
      "Training with parameters: lr=0.0005, hid_size=500, emb_size=300, weight_decay=0.001, patience=3, emb_drop=0.1, out_drop=0\n"
     ]
    },
    {
     "name": "stderr",
     "output_type": "stream",
     "text": [
      " 17%|█▋        | 34/199 [00:23<01:52,  1.47it/s]\n"
     ]
    },
    {
     "name": "stdout",
     "output_type": "stream",
     "text": [
      "Slot F1:  0.9096716947648625\n",
      "Intent Accuracy: 0.948488241881299\n",
      "Training with parameters: lr=0.0005, hid_size=500, emb_size=300, weight_decay=0.001, patience=3, emb_drop=0.15, out_drop=0\n"
     ]
    },
    {
     "name": "stderr",
     "output_type": "stream",
     "text": [
      " 20%|█▉        | 39/199 [00:27<01:53,  1.41it/s]\n"
     ]
    },
    {
     "name": "stdout",
     "output_type": "stream",
     "text": [
      "Slot F1:  0.9114103472714385\n",
      "Intent Accuracy: 0.9440089585666294\n",
      "Training with parameters: lr=0.0005, hid_size=500, emb_size=500, weight_decay=0.0001, patience=3, emb_drop=0.01, out_drop=0\n"
     ]
    },
    {
     "name": "stderr",
     "output_type": "stream",
     "text": [
      " 22%|██▏       | 44/199 [00:32<01:54,  1.36it/s]\n"
     ]
    },
    {
     "name": "stdout",
     "output_type": "stream",
     "text": [
      "Slot F1:  0.9398016997167139\n",
      "Intent Accuracy: 0.9496080627099664\n",
      "Training with parameters: lr=0.0005, hid_size=500, emb_size=500, weight_decay=0.0001, patience=3, emb_drop=0.1, out_drop=0\n"
     ]
    },
    {
     "name": "stderr",
     "output_type": "stream",
     "text": [
      " 37%|███▋      | 74/199 [00:53<01:30,  1.38it/s]\n"
     ]
    },
    {
     "name": "stdout",
     "output_type": "stream",
     "text": [
      "Slot F1:  0.9392011311417463\n",
      "Intent Accuracy: 0.9518477043673013\n",
      "Training with parameters: lr=0.0005, hid_size=500, emb_size=500, weight_decay=0.0001, patience=3, emb_drop=0.15, out_drop=0\n"
     ]
    },
    {
     "name": "stderr",
     "output_type": "stream",
     "text": [
      " 22%|██▏       | 44/199 [00:32<01:52,  1.37it/s]\n"
     ]
    },
    {
     "name": "stdout",
     "output_type": "stream",
     "text": [
      "Slot F1:  0.9370106761565836\n",
      "Intent Accuracy: 0.9428891377379619\n",
      "Training with parameters: lr=0.0005, hid_size=500, emb_size=500, weight_decay=0.001, patience=3, emb_drop=0.01, out_drop=0\n"
     ]
    },
    {
     "name": "stderr",
     "output_type": "stream",
     "text": [
      " 27%|██▋       | 54/199 [00:39<01:45,  1.37it/s]\n"
     ]
    },
    {
     "name": "stdout",
     "output_type": "stream",
     "text": [
      "Slot F1:  0.9225289403383793\n",
      "Intent Accuracy: 0.9440089585666294\n",
      "Training with parameters: lr=0.0005, hid_size=500, emb_size=500, weight_decay=0.001, patience=3, emb_drop=0.1, out_drop=0\n"
     ]
    },
    {
     "name": "stderr",
     "output_type": "stream",
     "text": [
      " 22%|██▏       | 44/199 [00:32<01:55,  1.35it/s]\n"
     ]
    },
    {
     "name": "stdout",
     "output_type": "stream",
     "text": [
      "Slot F1:  0.917844997315196\n",
      "Intent Accuracy: 0.9462486002239642\n",
      "Training with parameters: lr=0.0005, hid_size=500, emb_size=500, weight_decay=0.001, patience=3, emb_drop=0.15, out_drop=0\n"
     ]
    },
    {
     "name": "stderr",
     "output_type": "stream",
     "text": [
      " 15%|█▍        | 29/199 [00:21<02:03,  1.37it/s]\n"
     ]
    },
    {
     "name": "stdout",
     "output_type": "stream",
     "text": [
      "Slot F1:  0.9171724384148517\n",
      "Intent Accuracy: 0.9384098544232923\n",
      "Training with parameters: lr=0.0001, hid_size=200, emb_size=200, weight_decay=0.0001, patience=3, emb_drop=0.01, out_drop=0\n"
     ]
    },
    {
     "name": "stderr",
     "output_type": "stream",
     "text": [
      " 87%|████████▋ | 174/199 [01:17<00:11,  2.24it/s]\n"
     ]
    },
    {
     "name": "stdout",
     "output_type": "stream",
     "text": [
      "Slot F1:  0.9203793165145822\n",
      "Intent Accuracy: 0.9440089585666294\n",
      "Training with parameters: lr=0.0001, hid_size=200, emb_size=200, weight_decay=0.0001, patience=3, emb_drop=0.1, out_drop=0\n"
     ]
    },
    {
     "name": "stderr",
     "output_type": "stream",
     "text": [
      " 77%|███████▋  | 154/199 [01:06<00:19,  2.33it/s]\n"
     ]
    },
    {
     "name": "stdout",
     "output_type": "stream",
     "text": [
      "Slot F1:  0.9306543385490754\n",
      "Intent Accuracy: 0.9372900335946248\n",
      "Training with parameters: lr=0.0001, hid_size=200, emb_size=200, weight_decay=0.0001, patience=3, emb_drop=0.15, out_drop=0\n"
     ]
    },
    {
     "name": "stderr",
     "output_type": "stream",
     "text": [
      " 80%|███████▉  | 159/199 [01:09<00:17,  2.29it/s]\n"
     ]
    },
    {
     "name": "stdout",
     "output_type": "stream",
     "text": [
      "Slot F1:  0.9202846975088969\n",
      "Intent Accuracy: 0.9305711086226204\n",
      "Training with parameters: lr=0.0001, hid_size=200, emb_size=200, weight_decay=0.001, patience=3, emb_drop=0.01, out_drop=0\n"
     ]
    },
    {
     "name": "stderr",
     "output_type": "stream",
     "text": [
      " 70%|██████▉   | 139/199 [01:01<00:26,  2.27it/s]\n"
     ]
    },
    {
     "name": "stdout",
     "output_type": "stream",
     "text": [
      "Slot F1:  0.8943382618103137\n",
      "Intent Accuracy: 0.9451287793952967\n",
      "Training with parameters: lr=0.0001, hid_size=200, emb_size=200, weight_decay=0.001, patience=3, emb_drop=0.1, out_drop=0\n"
     ]
    },
    {
     "name": "stderr",
     "output_type": "stream",
     "text": [
      " 80%|███████▉  | 159/199 [01:10<00:17,  2.26it/s]\n"
     ]
    },
    {
     "name": "stdout",
     "output_type": "stream",
     "text": [
      "Slot F1:  0.8964646464646464\n",
      "Intent Accuracy: 0.9372900335946248\n",
      "Training with parameters: lr=0.0001, hid_size=200, emb_size=200, weight_decay=0.001, patience=3, emb_drop=0.15, out_drop=0\n"
     ]
    },
    {
     "name": "stderr",
     "output_type": "stream",
     "text": [
      " 67%|██████▋   | 134/199 [01:00<00:29,  2.21it/s]\n"
     ]
    },
    {
     "name": "stdout",
     "output_type": "stream",
     "text": [
      "Slot F1:  0.8901734104046243\n",
      "Intent Accuracy: 0.9384098544232923\n",
      "Training with parameters: lr=0.0001, hid_size=200, emb_size=300, weight_decay=0.0001, patience=3, emb_drop=0.01, out_drop=0\n"
     ]
    },
    {
     "name": "stderr",
     "output_type": "stream",
     "text": [
      " 75%|███████▍  | 149/199 [01:06<00:22,  2.24it/s]\n"
     ]
    },
    {
     "name": "stdout",
     "output_type": "stream",
     "text": [
      "Slot F1:  0.9309000708717222\n",
      "Intent Accuracy: 0.9451287793952967\n",
      "Training with parameters: lr=0.0001, hid_size=200, emb_size=300, weight_decay=0.0001, patience=3, emb_drop=0.1, out_drop=0\n"
     ]
    },
    {
     "name": "stderr",
     "output_type": "stream",
     "text": [
      " 75%|███████▍  | 149/199 [01:05<00:22,  2.27it/s]\n"
     ]
    },
    {
     "name": "stdout",
     "output_type": "stream",
     "text": [
      "Slot F1:  0.9291674063554057\n",
      "Intent Accuracy: 0.9451287793952967\n",
      "Training with parameters: lr=0.0001, hid_size=200, emb_size=300, weight_decay=0.0001, patience=3, emb_drop=0.15, out_drop=0\n"
     ]
    },
    {
     "name": "stderr",
     "output_type": "stream",
     "text": [
      " 67%|██████▋   | 134/199 [01:02<00:30,  2.13it/s]\n"
     ]
    },
    {
     "name": "stdout",
     "output_type": "stream",
     "text": [
      "Slot F1:  0.9290024849130281\n",
      "Intent Accuracy: 0.9384098544232923\n",
      "Training with parameters: lr=0.0001, hid_size=200, emb_size=300, weight_decay=0.001, patience=3, emb_drop=0.01, out_drop=0\n"
     ]
    },
    {
     "name": "stderr",
     "output_type": "stream",
     "text": [
      " 77%|███████▋  | 154/199 [01:09<00:20,  2.21it/s]\n"
     ]
    },
    {
     "name": "stdout",
     "output_type": "stream",
     "text": [
      "Slot F1:  0.9075268817204302\n",
      "Intent Accuracy: 0.9462486002239642\n",
      "Training with parameters: lr=0.0001, hid_size=200, emb_size=300, weight_decay=0.001, patience=3, emb_drop=0.1, out_drop=0\n"
     ]
    },
    {
     "name": "stderr",
     "output_type": "stream",
     "text": [
      " 80%|███████▉  | 159/199 [01:10<00:17,  2.27it/s]\n"
     ]
    },
    {
     "name": "stdout",
     "output_type": "stream",
     "text": [
      "Slot F1:  0.9022743425728501\n",
      "Intent Accuracy: 0.9361702127659575\n",
      "Training with parameters: lr=0.0001, hid_size=200, emb_size=300, weight_decay=0.001, patience=3, emb_drop=0.15, out_drop=0\n"
     ]
    },
    {
     "name": "stderr",
     "output_type": "stream",
     "text": [
      " 90%|████████▉ | 179/199 [01:20<00:08,  2.23it/s]\n"
     ]
    },
    {
     "name": "stdout",
     "output_type": "stream",
     "text": [
      "Slot F1:  0.9085683492006468\n",
      "Intent Accuracy: 0.9406494960806271\n",
      "Training with parameters: lr=0.0001, hid_size=200, emb_size=500, weight_decay=0.0001, patience=3, emb_drop=0.01, out_drop=0\n"
     ]
    },
    {
     "name": "stderr",
     "output_type": "stream",
     "text": [
      " 62%|██████▏   | 124/199 [00:56<00:34,  2.20it/s]\n"
     ]
    },
    {
     "name": "stdout",
     "output_type": "stream",
     "text": [
      "Slot F1:  0.9362684182496006\n",
      "Intent Accuracy: 0.9473684210526315\n",
      "Training with parameters: lr=0.0001, hid_size=200, emb_size=500, weight_decay=0.0001, patience=3, emb_drop=0.1, out_drop=0\n"
     ]
    },
    {
     "name": "stderr",
     "output_type": "stream",
     "text": [
      " 95%|█████████▍| 189/199 [01:24<00:04,  2.23it/s]\n"
     ]
    },
    {
     "name": "stdout",
     "output_type": "stream",
     "text": [
      "Slot F1:  0.9307774227902025\n",
      "Intent Accuracy: 0.9384098544232923\n",
      "Training with parameters: lr=0.0001, hid_size=200, emb_size=500, weight_decay=0.0001, patience=3, emb_drop=0.15, out_drop=0\n"
     ]
    },
    {
     "name": "stderr",
     "output_type": "stream",
     "text": [
      " 67%|██████▋   | 134/199 [00:59<00:29,  2.24it/s]\n"
     ]
    },
    {
     "name": "stdout",
     "output_type": "stream",
     "text": [
      "Slot F1:  0.9389638041163946\n",
      "Intent Accuracy: 0.9395296752519597\n",
      "Training with parameters: lr=0.0001, hid_size=200, emb_size=500, weight_decay=0.001, patience=3, emb_drop=0.01, out_drop=0\n"
     ]
    },
    {
     "name": "stderr",
     "output_type": "stream",
     "text": [
      " 60%|█████▉    | 119/199 [00:52<00:35,  2.25it/s]\n"
     ]
    },
    {
     "name": "stdout",
     "output_type": "stream",
     "text": [
      "Slot F1:  0.922856631465903\n",
      "Intent Accuracy: 0.9462486002239642\n",
      "Training with parameters: lr=0.0001, hid_size=200, emb_size=500, weight_decay=0.001, patience=3, emb_drop=0.1, out_drop=0\n"
     ]
    },
    {
     "name": "stderr",
     "output_type": "stream",
     "text": [
      " 72%|███████▏  | 144/199 [01:05<00:24,  2.21it/s]\n"
     ]
    },
    {
     "name": "stdout",
     "output_type": "stream",
     "text": [
      "Slot F1:  0.9173039302863242\n",
      "Intent Accuracy: 0.9417693169092946\n",
      "Training with parameters: lr=0.0001, hid_size=200, emb_size=500, weight_decay=0.001, patience=3, emb_drop=0.15, out_drop=0\n"
     ]
    },
    {
     "name": "stderr",
     "output_type": "stream",
     "text": [
      " 80%|███████▉  | 159/199 [01:13<00:18,  2.17it/s]\n"
     ]
    },
    {
     "name": "stdout",
     "output_type": "stream",
     "text": [
      "Slot F1:  0.9191991419377905\n",
      "Intent Accuracy: 0.9473684210526315\n",
      "Training with parameters: lr=0.0001, hid_size=300, emb_size=200, weight_decay=0.0001, patience=3, emb_drop=0.01, out_drop=0\n"
     ]
    },
    {
     "name": "stderr",
     "output_type": "stream",
     "text": [
      " 67%|██████▋   | 134/199 [01:02<00:30,  2.13it/s]\n"
     ]
    },
    {
     "name": "stdout",
     "output_type": "stream",
     "text": [
      "Slot F1:  0.9148141561444069\n",
      "Intent Accuracy: 0.9372900335946248\n",
      "Training with parameters: lr=0.0001, hid_size=300, emb_size=200, weight_decay=0.0001, patience=3, emb_drop=0.1, out_drop=0\n"
     ]
    },
    {
     "name": "stderr",
     "output_type": "stream",
     "text": [
      " 72%|███████▏  | 144/199 [01:10<00:26,  2.05it/s]\n"
     ]
    },
    {
     "name": "stdout",
     "output_type": "stream",
     "text": [
      "Slot F1:  0.9257875066737852\n",
      "Intent Accuracy: 0.9406494960806271\n",
      "Training with parameters: lr=0.0001, hid_size=300, emb_size=200, weight_decay=0.0001, patience=3, emb_drop=0.15, out_drop=0\n"
     ]
    },
    {
     "name": "stderr",
     "output_type": "stream",
     "text": [
      " 75%|███████▍  | 149/199 [01:10<00:23,  2.12it/s]\n"
     ]
    },
    {
     "name": "stdout",
     "output_type": "stream",
     "text": [
      "Slot F1:  0.922393890960753\n",
      "Intent Accuracy: 0.9384098544232923\n",
      "Training with parameters: lr=0.0001, hid_size=300, emb_size=200, weight_decay=0.001, patience=3, emb_drop=0.01, out_drop=0\n"
     ]
    },
    {
     "name": "stderr",
     "output_type": "stream",
     "text": [
      " 72%|███████▏  | 144/199 [01:08<00:26,  2.11it/s]\n"
     ]
    },
    {
     "name": "stdout",
     "output_type": "stream",
     "text": [
      "Slot F1:  0.8971490436665464\n",
      "Intent Accuracy: 0.9384098544232923\n",
      "Training with parameters: lr=0.0001, hid_size=300, emb_size=200, weight_decay=0.001, patience=3, emb_drop=0.1, out_drop=0\n"
     ]
    },
    {
     "name": "stderr",
     "output_type": "stream",
     "text": [
      " 62%|██████▏   | 124/199 [00:58<00:35,  2.12it/s]\n"
     ]
    },
    {
     "name": "stdout",
     "output_type": "stream",
     "text": [
      "Slot F1:  0.8990792561834267\n",
      "Intent Accuracy: 0.9395296752519597\n",
      "Training with parameters: lr=0.0001, hid_size=300, emb_size=200, weight_decay=0.001, patience=3, emb_drop=0.15, out_drop=0\n"
     ]
    },
    {
     "name": "stderr",
     "output_type": "stream",
     "text": [
      " 62%|██████▏   | 124/199 [01:02<00:37,  1.98it/s]\n"
     ]
    },
    {
     "name": "stdout",
     "output_type": "stream",
     "text": [
      "Slot F1:  0.9024870280908928\n",
      "Intent Accuracy: 0.9384098544232923\n",
      "Training with parameters: lr=0.0001, hid_size=300, emb_size=300, weight_decay=0.0001, patience=3, emb_drop=0.01, out_drop=0\n"
     ]
    },
    {
     "name": "stderr",
     "output_type": "stream",
     "text": [
      " 82%|████████▏ | 164/199 [01:21<00:17,  2.01it/s]\n"
     ]
    },
    {
     "name": "stdout",
     "output_type": "stream",
     "text": [
      "Slot F1:  0.9363588016309166\n",
      "Intent Accuracy: 0.9473684210526315\n",
      "Training with parameters: lr=0.0001, hid_size=300, emb_size=300, weight_decay=0.0001, patience=3, emb_drop=0.1, out_drop=0\n"
     ]
    },
    {
     "name": "stderr",
     "output_type": "stream",
     "text": [
      " 92%|█████████▏| 184/199 [01:26<00:07,  2.12it/s]\n"
     ]
    },
    {
     "name": "stdout",
     "output_type": "stream",
     "text": [
      "Slot F1:  0.9339488636363636\n",
      "Intent Accuracy: 0.9440089585666294\n",
      "Training with parameters: lr=0.0001, hid_size=300, emb_size=300, weight_decay=0.0001, patience=3, emb_drop=0.15, out_drop=0\n"
     ]
    },
    {
     "name": "stderr",
     "output_type": "stream",
     "text": [
      " 72%|███████▏  | 144/199 [01:05<00:25,  2.18it/s]\n"
     ]
    },
    {
     "name": "stdout",
     "output_type": "stream",
     "text": [
      "Slot F1:  0.9290666666666666\n",
      "Intent Accuracy: 0.9462486002239642\n",
      "Training with parameters: lr=0.0001, hid_size=300, emb_size=300, weight_decay=0.001, patience=3, emb_drop=0.01, out_drop=0\n"
     ]
    },
    {
     "name": "stderr",
     "output_type": "stream",
     "text": [
      " 65%|██████▍   | 129/199 [00:59<00:32,  2.17it/s]\n"
     ]
    },
    {
     "name": "stdout",
     "output_type": "stream",
     "text": [
      "Slot F1:  0.915211970074813\n",
      "Intent Accuracy: 0.9417693169092946\n",
      "Training with parameters: lr=0.0001, hid_size=300, emb_size=300, weight_decay=0.001, patience=3, emb_drop=0.1, out_drop=0\n"
     ]
    },
    {
     "name": "stderr",
     "output_type": "stream",
     "text": [
      " 62%|██████▏   | 124/199 [00:59<00:35,  2.09it/s]\n"
     ]
    },
    {
     "name": "stdout",
     "output_type": "stream",
     "text": [
      "Slot F1:  0.904906333630687\n",
      "Intent Accuracy: 0.9428891377379619\n",
      "Training with parameters: lr=0.0001, hid_size=300, emb_size=300, weight_decay=0.001, patience=3, emb_drop=0.15, out_drop=0\n"
     ]
    },
    {
     "name": "stderr",
     "output_type": "stream",
     "text": [
      " 65%|██████▍   | 129/199 [00:59<00:32,  2.17it/s]\n"
     ]
    },
    {
     "name": "stdout",
     "output_type": "stream",
     "text": [
      "Slot F1:  0.9122617763394463\n",
      "Intent Accuracy: 0.9384098544232923\n",
      "Training with parameters: lr=0.0001, hid_size=300, emb_size=500, weight_decay=0.0001, patience=3, emb_drop=0.01, out_drop=0\n"
     ]
    },
    {
     "name": "stderr",
     "output_type": "stream",
     "text": [
      " 62%|██████▏   | 124/199 [01:01<00:36,  2.03it/s]\n"
     ]
    },
    {
     "name": "stdout",
     "output_type": "stream",
     "text": [
      "Slot F1:  0.9344233161542562\n",
      "Intent Accuracy: 0.9417693169092946\n",
      "Training with parameters: lr=0.0001, hid_size=300, emb_size=500, weight_decay=0.0001, patience=3, emb_drop=0.1, out_drop=0\n"
     ]
    },
    {
     "name": "stderr",
     "output_type": "stream",
     "text": [
      " 45%|████▍     | 89/199 [00:42<00:52,  2.09it/s]\n"
     ]
    },
    {
     "name": "stdout",
     "output_type": "stream",
     "text": [
      "Slot F1:  0.9291451008388362\n",
      "Intent Accuracy: 0.9473684210526315\n",
      "Training with parameters: lr=0.0001, hid_size=300, emb_size=500, weight_decay=0.0001, patience=3, emb_drop=0.15, out_drop=0\n"
     ]
    },
    {
     "name": "stderr",
     "output_type": "stream",
     "text": [
      " 57%|█████▋    | 114/199 [00:53<00:39,  2.14it/s]\n"
     ]
    },
    {
     "name": "stdout",
     "output_type": "stream",
     "text": [
      "Slot F1:  0.9337114498404822\n",
      "Intent Accuracy: 0.9496080627099664\n",
      "Training with parameters: lr=0.0001, hid_size=300, emb_size=500, weight_decay=0.001, patience=3, emb_drop=0.01, out_drop=0\n"
     ]
    },
    {
     "name": "stderr",
     "output_type": "stream",
     "text": [
      " 45%|████▍     | 89/199 [00:41<00:51,  2.14it/s]\n"
     ]
    },
    {
     "name": "stdout",
     "output_type": "stream",
     "text": [
      "Slot F1:  0.9218386692899302\n",
      "Intent Accuracy: 0.9473684210526315\n",
      "Training with parameters: lr=0.0001, hid_size=300, emb_size=500, weight_decay=0.001, patience=3, emb_drop=0.1, out_drop=0\n"
     ]
    },
    {
     "name": "stderr",
     "output_type": "stream",
     "text": [
      " 72%|███████▏  | 144/199 [01:11<00:27,  2.02it/s]\n"
     ]
    },
    {
     "name": "stdout",
     "output_type": "stream",
     "text": [
      "Slot F1:  0.916133617626155\n",
      "Intent Accuracy: 0.9406494960806271\n",
      "Training with parameters: lr=0.0001, hid_size=300, emb_size=500, weight_decay=0.001, patience=3, emb_drop=0.15, out_drop=0\n"
     ]
    },
    {
     "name": "stderr",
     "output_type": "stream",
     "text": [
      " 52%|█████▏    | 104/199 [00:49<00:44,  2.12it/s]\n"
     ]
    },
    {
     "name": "stdout",
     "output_type": "stream",
     "text": [
      "Slot F1:  0.9193519672423002\n",
      "Intent Accuracy: 0.9473684210526315\n",
      "Training with parameters: lr=0.0001, hid_size=500, emb_size=200, weight_decay=0.0001, patience=3, emb_drop=0.01, out_drop=0\n"
     ]
    },
    {
     "name": "stderr",
     "output_type": "stream",
     "text": [
      " 40%|███▉      | 79/199 [00:50<01:17,  1.55it/s]\n"
     ]
    },
    {
     "name": "stdout",
     "output_type": "stream",
     "text": [
      "Slot F1:  0.9133237822349569\n",
      "Intent Accuracy: 0.9428891377379619\n",
      "Training with parameters: lr=0.0001, hid_size=500, emb_size=200, weight_decay=0.0001, patience=3, emb_drop=0.1, out_drop=0\n"
     ]
    },
    {
     "name": "stderr",
     "output_type": "stream",
     "text": [
      " 57%|█████▋    | 114/199 [01:11<00:53,  1.59it/s]\n"
     ]
    },
    {
     "name": "stdout",
     "output_type": "stream",
     "text": [
      "Slot F1:  0.9145620634067706\n",
      "Intent Accuracy: 0.9440089585666294\n",
      "Training with parameters: lr=0.0001, hid_size=500, emb_size=200, weight_decay=0.0001, patience=3, emb_drop=0.15, out_drop=0\n"
     ]
    },
    {
     "name": "stderr",
     "output_type": "stream",
     "text": [
      " 62%|██████▏   | 124/199 [01:15<00:45,  1.63it/s]\n"
     ]
    },
    {
     "name": "stdout",
     "output_type": "stream",
     "text": [
      "Slot F1:  0.9193837334288786\n",
      "Intent Accuracy: 0.9339305711086227\n",
      "Training with parameters: lr=0.0001, hid_size=500, emb_size=200, weight_decay=0.001, patience=3, emb_drop=0.01, out_drop=0\n"
     ]
    },
    {
     "name": "stderr",
     "output_type": "stream",
     "text": [
      " 45%|████▍     | 89/199 [00:56<01:09,  1.58it/s]\n"
     ]
    },
    {
     "name": "stdout",
     "output_type": "stream",
     "text": [
      "Slot F1:  0.9020953757225433\n",
      "Intent Accuracy: 0.9440089585666294\n",
      "Training with parameters: lr=0.0001, hid_size=500, emb_size=200, weight_decay=0.001, patience=3, emb_drop=0.1, out_drop=0\n"
     ]
    },
    {
     "name": "stderr",
     "output_type": "stream",
     "text": [
      " 60%|█████▉    | 119/199 [01:20<00:54,  1.48it/s]\n"
     ]
    },
    {
     "name": "stdout",
     "output_type": "stream",
     "text": [
      "Slot F1:  0.8903225806451612\n",
      "Intent Accuracy: 0.9428891377379619\n",
      "Training with parameters: lr=0.0001, hid_size=500, emb_size=200, weight_decay=0.001, patience=3, emb_drop=0.15, out_drop=0\n"
     ]
    },
    {
     "name": "stderr",
     "output_type": "stream",
     "text": [
      " 57%|█████▋    | 114/199 [01:19<00:59,  1.43it/s]\n"
     ]
    },
    {
     "name": "stdout",
     "output_type": "stream",
     "text": [
      "Slot F1:  0.8898395721925134\n",
      "Intent Accuracy: 0.9406494960806271\n",
      "Training with parameters: lr=0.0001, hid_size=500, emb_size=300, weight_decay=0.0001, patience=3, emb_drop=0.01, out_drop=0\n"
     ]
    },
    {
     "name": "stderr",
     "output_type": "stream",
     "text": [
      " 35%|███▍      | 69/199 [00:48<01:32,  1.41it/s]\n"
     ]
    },
    {
     "name": "stdout",
     "output_type": "stream",
     "text": [
      "Slot F1:  0.9207640608418819\n",
      "Intent Accuracy: 0.9440089585666294\n",
      "Training with parameters: lr=0.0001, hid_size=500, emb_size=300, weight_decay=0.0001, patience=3, emb_drop=0.1, out_drop=0\n"
     ]
    },
    {
     "name": "stderr",
     "output_type": "stream",
     "text": [
      " 52%|█████▏    | 104/199 [01:13<01:07,  1.41it/s]\n"
     ]
    },
    {
     "name": "stdout",
     "output_type": "stream",
     "text": [
      "Slot F1:  0.9253942938153464\n",
      "Intent Accuracy: 0.9440089585666294\n",
      "Training with parameters: lr=0.0001, hid_size=500, emb_size=300, weight_decay=0.0001, patience=3, emb_drop=0.15, out_drop=0\n"
     ]
    },
    {
     "name": "stderr",
     "output_type": "stream",
     "text": [
      " 47%|████▋     | 94/199 [01:09<01:17,  1.36it/s]\n"
     ]
    },
    {
     "name": "stdout",
     "output_type": "stream",
     "text": [
      "Slot F1:  0.927064712191634\n",
      "Intent Accuracy: 0.9440089585666294\n",
      "Training with parameters: lr=0.0001, hid_size=500, emb_size=300, weight_decay=0.001, patience=3, emb_drop=0.01, out_drop=0\n"
     ]
    },
    {
     "name": "stderr",
     "output_type": "stream",
     "text": [
      " 50%|████▉     | 99/199 [01:09<01:10,  1.42it/s]\n"
     ]
    },
    {
     "name": "stdout",
     "output_type": "stream",
     "text": [
      "Slot F1:  0.9122492836676218\n",
      "Intent Accuracy: 0.9451287793952967\n",
      "Training with parameters: lr=0.0001, hid_size=500, emb_size=300, weight_decay=0.001, patience=3, emb_drop=0.1, out_drop=0\n"
     ]
    },
    {
     "name": "stderr",
     "output_type": "stream",
     "text": [
      " 45%|████▍     | 89/199 [01:03<01:18,  1.40it/s]\n"
     ]
    },
    {
     "name": "stdout",
     "output_type": "stream",
     "text": [
      "Slot F1:  0.9037642045454546\n",
      "Intent Accuracy: 0.9440089585666294\n",
      "Training with parameters: lr=0.0001, hid_size=500, emb_size=300, weight_decay=0.001, patience=3, emb_drop=0.15, out_drop=0\n"
     ]
    },
    {
     "name": "stderr",
     "output_type": "stream",
     "text": [
      " 60%|█████▉    | 119/199 [01:23<00:56,  1.42it/s]\n"
     ]
    },
    {
     "name": "stdout",
     "output_type": "stream",
     "text": [
      "Slot F1:  0.9141623177973727\n",
      "Intent Accuracy: 0.9428891377379619\n",
      "Training with parameters: lr=0.0001, hid_size=500, emb_size=500, weight_decay=0.0001, patience=3, emb_drop=0.01, out_drop=0\n"
     ]
    },
    {
     "name": "stderr",
     "output_type": "stream",
     "text": [
      " 60%|█████▉    | 119/199 [01:20<00:53,  1.49it/s]\n"
     ]
    },
    {
     "name": "stdout",
     "output_type": "stream",
     "text": [
      "Slot F1:  0.9319073083778966\n",
      "Intent Accuracy: 0.9440089585666294\n",
      "Training with parameters: lr=0.0001, hid_size=500, emb_size=500, weight_decay=0.0001, patience=3, emb_drop=0.1, out_drop=0\n"
     ]
    },
    {
     "name": "stderr",
     "output_type": "stream",
     "text": [
      " 37%|███▋      | 74/199 [00:51<01:26,  1.44it/s]\n"
     ]
    },
    {
     "name": "stdout",
     "output_type": "stream",
     "text": [
      "Slot F1:  0.9317369549678342\n",
      "Intent Accuracy: 0.9473684210526315\n",
      "Training with parameters: lr=0.0001, hid_size=500, emb_size=500, weight_decay=0.0001, patience=3, emb_drop=0.15, out_drop=0\n"
     ]
    },
    {
     "name": "stderr",
     "output_type": "stream",
     "text": [
      " 35%|███▍      | 69/199 [00:47<01:29,  1.45it/s]\n"
     ]
    },
    {
     "name": "stdout",
     "output_type": "stream",
     "text": [
      "Slot F1:  0.9311568488289567\n",
      "Intent Accuracy: 0.9384098544232923\n",
      "Training with parameters: lr=0.0001, hid_size=500, emb_size=500, weight_decay=0.001, patience=3, emb_drop=0.01, out_drop=0\n"
     ]
    },
    {
     "name": "stderr",
     "output_type": "stream",
     "text": [
      " 60%|█████▉    | 119/199 [01:19<00:53,  1.49it/s]\n"
     ]
    },
    {
     "name": "stdout",
     "output_type": "stream",
     "text": [
      "Slot F1:  0.9266299520341091\n",
      "Intent Accuracy: 0.9496080627099664\n",
      "Training with parameters: lr=0.0001, hid_size=500, emb_size=500, weight_decay=0.001, patience=3, emb_drop=0.1, out_drop=0\n"
     ]
    },
    {
     "name": "stderr",
     "output_type": "stream",
     "text": [
      " 55%|█████▍    | 109/199 [01:14<01:01,  1.46it/s]\n"
     ]
    },
    {
     "name": "stdout",
     "output_type": "stream",
     "text": [
      "Slot F1:  0.9259786476868327\n",
      "Intent Accuracy: 0.9417693169092946\n",
      "Training with parameters: lr=0.0001, hid_size=500, emb_size=500, weight_decay=0.001, patience=3, emb_drop=0.15, out_drop=0\n"
     ]
    },
    {
     "name": "stderr",
     "output_type": "stream",
     "text": [
      " 55%|█████▍    | 109/199 [01:07<00:55,  1.61it/s]"
     ]
    },
    {
     "name": "stdout",
     "output_type": "stream",
     "text": [
      "Slot F1:  0.9180851063829788\n",
      "Intent Accuracy: 0.9451287793952967\n",
      "Best model parameters: {'lr': 0.001, 'hid_size': 200, 'emb_size': 500, 'weight_decay': 0.0001, 'patience': 3, 'emb_drop': 0.1, 'out_drop': 0}\n",
      "Best model accuracy: 0.9585666293393057\n"
     ]
    },
    {
     "name": "stderr",
     "output_type": "stream",
     "text": [
      "\n"
     ]
    }
   ],
   "source": [
    "lr_list = [.001, .0005, .0001]\n",
    "hid_size_list = [200, 300, 500]\n",
    "emb_size_list = [200, 300, 500]\n",
    "weight_decay_list = [0.0001, 0.001]\n",
    "patience_list = [3]\n",
    "emb_drop_list = [.01, .1, .15]\n",
    "out_drop_list=[0]\n",
    "\n",
    "best_model, best_params = train_grid_search(\n",
    "    lr_list, hid_size_list, emb_size_list,\n",
    "    weight_decay_list, patience_list, emb_drop_list,\n",
    "    out_drop_list,bidirectional=True, vocab_len=vocab_len, out_slot=out_slot, out_int=out_int, exp_name=\"BiDirectional\", model_type=\"LSTM\", optimizer=optim.Adam, dropout=False, n_epochs=EPOCHS)"
   ]
  },
  {
   "cell_type": "code",
   "execution_count": 56,
   "metadata": {},
   "outputs": [
    {
     "name": "stdout",
     "output_type": "stream",
     "text": [
      "Training with parameters: lr=0.001, hid_size=200, emb_size=200, weight_decay=0.0001, patience=3, emb_drop=0.01\n"
     ]
    },
    {
     "name": "stderr",
     "output_type": "stream",
     "text": [
      "  4%|▍         | 8/199 [00:04<01:55,  1.65it/s]\n"
     ]
    },
    {
     "ename": "KeyboardInterrupt",
     "evalue": "",
     "output_type": "error",
     "traceback": [
      "\u001b[0;31m---------------------------------------------------------------------------\u001b[0m",
      "\u001b[0;31mKeyboardInterrupt\u001b[0m                         Traceback (most recent call last)",
      "Cell \u001b[0;32mIn[56], line 9\u001b[0m\n\u001b[1;32m      6\u001b[0m emb_drop_list \u001b[38;5;241m=\u001b[39m [\u001b[38;5;241m.01\u001b[39m, \u001b[38;5;241m.1\u001b[39m, \u001b[38;5;241m.15\u001b[39m]\n\u001b[1;32m      7\u001b[0m out_drop_list \u001b[38;5;241m=\u001b[39m [\u001b[38;5;241m0\u001b[39m]\n\u001b[0;32m----> 9\u001b[0m best_model, best_params \u001b[38;5;241m=\u001b[39m \u001b[43mtrain_grid_search\u001b[49m\u001b[43m(\u001b[49m\n\u001b[1;32m     10\u001b[0m \u001b[43m    \u001b[49m\u001b[43mlr_list\u001b[49m\u001b[43m,\u001b[49m\u001b[43m \u001b[49m\u001b[43mhid_size_list\u001b[49m\u001b[43m,\u001b[49m\u001b[43m \u001b[49m\u001b[43memb_size_list\u001b[49m\u001b[43m,\u001b[49m\n\u001b[1;32m     11\u001b[0m \u001b[43m    \u001b[49m\u001b[43mweight_decay_list\u001b[49m\u001b[43m,\u001b[49m\u001b[43m \u001b[49m\u001b[43mpatience_list\u001b[49m\u001b[43m,\u001b[49m\u001b[43m \u001b[49m\u001b[43memb_drop_list\u001b[49m\u001b[43m,\u001b[49m\n\u001b[1;32m     12\u001b[0m \u001b[43m    \u001b[49m\u001b[43mout_drop_list\u001b[49m\u001b[43m,\u001b[49m\u001b[43m \u001b[49m\u001b[43mbidirectional\u001b[49m\u001b[38;5;241;43m=\u001b[39;49m\u001b[38;5;28;43;01mTrue\u001b[39;49;00m\u001b[43m,\u001b[49m\u001b[43m \u001b[49m\u001b[43mvocab_len\u001b[49m\u001b[38;5;241;43m=\u001b[39;49m\u001b[43mvocab_len\u001b[49m\u001b[43m,\u001b[49m\u001b[43m \u001b[49m\u001b[43mout_slot\u001b[49m\u001b[38;5;241;43m=\u001b[39;49m\u001b[43mout_slot\u001b[49m\u001b[43m,\u001b[49m\u001b[43m \u001b[49m\u001b[43mout_int\u001b[49m\u001b[38;5;241;43m=\u001b[39;49m\u001b[43mout_int\u001b[49m\u001b[43m,\u001b[49m\u001b[43m \u001b[49m\u001b[43mexp_name\u001b[49m\u001b[38;5;241;43m=\u001b[39;49m\u001b[38;5;124;43m\"\u001b[39;49m\u001b[38;5;124;43mBiDirectional\u001b[39;49m\u001b[38;5;124;43m\"\u001b[39;49m\u001b[43m,\u001b[49m\u001b[43m \u001b[49m\u001b[43mmodel_type\u001b[49m\u001b[38;5;241;43m=\u001b[39;49m\u001b[38;5;124;43m\"\u001b[39;49m\u001b[38;5;124;43mLSTM\u001b[39;49m\u001b[38;5;124;43m\"\u001b[39;49m\u001b[43m,\u001b[49m\u001b[43m \u001b[49m\u001b[43moptimizer\u001b[49m\u001b[38;5;241;43m=\u001b[39;49m\u001b[43moptim\u001b[49m\u001b[38;5;241;43m.\u001b[39;49m\u001b[43mAdam\u001b[49m\u001b[43m,\u001b[49m\u001b[43m \u001b[49m\u001b[43mdropout\u001b[49m\u001b[38;5;241;43m=\u001b[39;49m\u001b[38;5;28;43;01mTrue\u001b[39;49;00m\u001b[43m,\u001b[49m\u001b[43m \u001b[49m\u001b[43mn_epochs\u001b[49m\u001b[38;5;241;43m=\u001b[39;49m\u001b[43mEPOCHS\u001b[49m\u001b[43m)\u001b[49m\n",
      "Cell \u001b[0;32mIn[50], line 28\u001b[0m, in \u001b[0;36mtrain_grid_search\u001b[0;34m(lr_list, hid_size_list, emb_size_list, weight_decay_list, patience_list, emb_drop_list, out_drop_list, vocab_len, out_slot, out_int, model_type, bidirectional, dropout, optimizer, n_epochs, exp_name)\u001b[0m\n\u001b[1;32m     24\u001b[0m optimizer_obj \u001b[38;5;241m=\u001b[39m optimizer_class(model\u001b[38;5;241m.\u001b[39mparameters(), lr\u001b[38;5;241m=\u001b[39mlr,\n\u001b[1;32m     25\u001b[0m                                 weight_decay\u001b[38;5;241m=\u001b[39mweight_decay)\n\u001b[1;32m     27\u001b[0m \u001b[38;5;66;03m# Train the model\u001b[39;00m\n\u001b[0;32m---> 28\u001b[0m accuracy, model \u001b[38;5;241m=\u001b[39m \u001b[43mtrain_model\u001b[49m\u001b[43m(\u001b[49m\u001b[43mexp_name\u001b[49m\u001b[38;5;241;43m+\u001b[39;49m\u001b[38;5;124;43m\"\u001b[39;49m\u001b[38;5;124;43m/\u001b[39;49m\u001b[38;5;124;43m\"\u001b[39;49m\u001b[38;5;241;43m+\u001b[39;49m\u001b[38;5;124;43mf\u001b[39;49m\u001b[38;5;124;43m\"\u001b[39;49m\u001b[38;5;124;43mLR=\u001b[39;49m\u001b[38;5;132;43;01m{\u001b[39;49;00m\u001b[43mlr\u001b[49m\u001b[38;5;132;43;01m}\u001b[39;49;00m\u001b[38;5;124;43m, HS=\u001b[39;49m\u001b[38;5;132;43;01m{\u001b[39;49;00m\u001b[43mhid_size\u001b[49m\u001b[38;5;132;43;01m}\u001b[39;49;00m\u001b[38;5;124;43m, ES=\u001b[39;49m\u001b[38;5;132;43;01m{\u001b[39;49;00m\u001b[43memb_size\u001b[49m\u001b[38;5;132;43;01m}\u001b[39;49;00m\u001b[38;5;124;43m, WD=\u001b[39;49m\u001b[38;5;132;43;01m{\u001b[39;49;00m\u001b[43mweight_decay\u001b[49m\u001b[38;5;132;43;01m}\u001b[39;49;00m\u001b[38;5;124;43m, P=\u001b[39;49m\u001b[38;5;132;43;01m{\u001b[39;49;00m\u001b[43mpatience\u001b[49m\u001b[38;5;132;43;01m}\u001b[39;49;00m\u001b[38;5;124;43m, E_D=\u001b[39;49m\u001b[38;5;132;43;01m{\u001b[39;49;00m\u001b[43memb_drop\u001b[49m\u001b[38;5;132;43;01m}\u001b[39;49;00m\u001b[38;5;124;43m,M_T=\u001b[39;49m\u001b[38;5;132;43;01m{\u001b[39;49;00m\u001b[43mmodel_type\u001b[49m\u001b[38;5;132;43;01m}\u001b[39;49;00m\u001b[38;5;124;43m,D=\u001b[39;49m\u001b[38;5;132;43;01m{\u001b[39;49;00m\u001b[43mdropout\u001b[49m\u001b[38;5;132;43;01m}\u001b[39;49;00m\u001b[38;5;124;43m\"\u001b[39;49m\u001b[43m,\u001b[49m\u001b[43m \u001b[49m\u001b[43mmodel\u001b[49m\u001b[38;5;241;43m=\u001b[39;49m\u001b[43mmodel\u001b[49m\u001b[43m,\u001b[49m\n\u001b[1;32m     29\u001b[0m \u001b[43m                              \u001b[49m\u001b[43moptimizer\u001b[49m\u001b[38;5;241;43m=\u001b[39;49m\u001b[43moptimizer_obj\u001b[49m\u001b[43m,\u001b[49m\u001b[43mpatience_set\u001b[49m\u001b[38;5;241;43m=\u001b[39;49m\u001b[43mpatience\u001b[49m\u001b[43m,\u001b[49m\n\u001b[1;32m     30\u001b[0m \u001b[43m                              \u001b[49m\u001b[43mn_epochs\u001b[49m\u001b[38;5;241;43m=\u001b[39;49m\u001b[43mn_epochs\u001b[49m\u001b[43m,\u001b[49m\u001b[43m \u001b[49m\u001b[43mexp_name\u001b[49m\u001b[38;5;241;43m=\u001b[39;49m\u001b[43mexp_name\u001b[49m\u001b[43m,\u001b[49m\u001b[43mmodel_type\u001b[49m\u001b[43m \u001b[49m\u001b[38;5;241;43m=\u001b[39;49m\u001b[43m \u001b[49m\u001b[43mmodel_type\u001b[49m\u001b[43m)\u001b[49m\n\u001b[1;32m     32\u001b[0m \u001b[38;5;66;03m# Check if the current model is the best so far\u001b[39;00m\n\u001b[1;32m     33\u001b[0m \u001b[38;5;28;01mif\u001b[39;00m accuracy \u001b[38;5;241m>\u001b[39m best_accuracy:\n",
      "Cell \u001b[0;32mIn[44], line 23\u001b[0m, in \u001b[0;36mtrain_model\u001b[0;34m(param_string, exp_name, n_epochs, patience_set, model, optimizer, model_type)\u001b[0m\n\u001b[1;32m     20\u001b[0m     test_loader \u001b[38;5;241m=\u001b[39m test_loader_stock\n\u001b[1;32m     22\u001b[0m \u001b[38;5;28;01mfor\u001b[39;00m x \u001b[38;5;129;01min\u001b[39;00m tqdm(\u001b[38;5;28mrange\u001b[39m(\u001b[38;5;241m1\u001b[39m, n_epochs)):\n\u001b[0;32m---> 23\u001b[0m     loss \u001b[38;5;241m=\u001b[39m \u001b[43mtrain_loop\u001b[49m\u001b[43m(\u001b[49m\u001b[43mtrain_loader\u001b[49m\u001b[43m,\u001b[49m\u001b[43m \u001b[49m\u001b[43moptimizer\u001b[49m\u001b[43m,\u001b[49m\u001b[43m \u001b[49m\u001b[43mcriterion_slots\u001b[49m\u001b[43m,\u001b[49m\n\u001b[1;32m     24\u001b[0m \u001b[43m                      \u001b[49m\u001b[43mcriterion_intents\u001b[49m\u001b[43m,\u001b[49m\u001b[43m \u001b[49m\u001b[43mmodel\u001b[49m\u001b[43m)\u001b[49m\n\u001b[1;32m     25\u001b[0m     \u001b[38;5;28;01mif\u001b[39;00m x \u001b[38;5;241m%\u001b[39m \u001b[38;5;241m5\u001b[39m \u001b[38;5;241m==\u001b[39m \u001b[38;5;241m0\u001b[39m:  \u001b[38;5;66;03m# We check the performance every 5 epochs\u001b[39;00m\n\u001b[1;32m     26\u001b[0m         sampled_epochs\u001b[38;5;241m.\u001b[39mappend(x)\n",
      "Cell \u001b[0;32mIn[43], line 19\u001b[0m, in \u001b[0;36mtrain_loop\u001b[0;34m(data, optimizer, criterion_slots, criterion_intents, model, clip)\u001b[0m\n\u001b[1;32m     17\u001b[0m     loss\u001b[38;5;241m.\u001b[39mbackward()  \u001b[38;5;66;03m# Compute the gradient, deleting the computational graph\u001b[39;00m\n\u001b[1;32m     18\u001b[0m     \u001b[38;5;66;03m# clip the gradient to avoid exploding gradients\u001b[39;00m\n\u001b[0;32m---> 19\u001b[0m     \u001b[43mtorch\u001b[49m\u001b[38;5;241;43m.\u001b[39;49m\u001b[43mnn\u001b[49m\u001b[38;5;241;43m.\u001b[39;49m\u001b[43mutils\u001b[49m\u001b[38;5;241;43m.\u001b[39;49m\u001b[43mclip_grad_norm_\u001b[49m\u001b[43m(\u001b[49m\u001b[43mmodel\u001b[49m\u001b[38;5;241;43m.\u001b[39;49m\u001b[43mparameters\u001b[49m\u001b[43m(\u001b[49m\u001b[43m)\u001b[49m\u001b[43m,\u001b[49m\u001b[43m \u001b[49m\u001b[43mclip\u001b[49m\u001b[43m)\u001b[49m\n\u001b[1;32m     20\u001b[0m     optimizer\u001b[38;5;241m.\u001b[39mstep()  \u001b[38;5;66;03m# Update the weights\u001b[39;00m\n\u001b[1;32m     21\u001b[0m \u001b[38;5;28;01mreturn\u001b[39;00m loss_array\n",
      "File \u001b[0;32m~/Programmi/ProgettiGit/NLU-Assignemnts/.venv/lib/python3.10/site-packages/torch/nn/utils/clip_grad.py:55\u001b[0m, in \u001b[0;36mclip_grad_norm_\u001b[0;34m(parameters, max_norm, norm_type, error_if_nonfinite, foreach)\u001b[0m\n\u001b[1;32m     53\u001b[0m \u001b[38;5;28;01mfor\u001b[39;00m ((device, _), ([grads], _)) \u001b[38;5;129;01min\u001b[39;00m grouped_grads\u001b[38;5;241m.\u001b[39mitems():  \u001b[38;5;66;03m# type: ignore[assignment]\u001b[39;00m\n\u001b[1;32m     54\u001b[0m     \u001b[38;5;28;01mif\u001b[39;00m (foreach \u001b[38;5;129;01mis\u001b[39;00m \u001b[38;5;28;01mNone\u001b[39;00m \u001b[38;5;129;01mor\u001b[39;00m foreach) \u001b[38;5;129;01mand\u001b[39;00m _has_foreach_support(grads, device\u001b[38;5;241m=\u001b[39mdevice):\n\u001b[0;32m---> 55\u001b[0m         norms\u001b[38;5;241m.\u001b[39mextend(\u001b[43mtorch\u001b[49m\u001b[38;5;241;43m.\u001b[39;49m\u001b[43m_foreach_norm\u001b[49m\u001b[43m(\u001b[49m\u001b[43mgrads\u001b[49m\u001b[43m,\u001b[49m\u001b[43m \u001b[49m\u001b[43mnorm_type\u001b[49m\u001b[43m)\u001b[49m)\n\u001b[1;32m     56\u001b[0m     \u001b[38;5;28;01melif\u001b[39;00m foreach:\n\u001b[1;32m     57\u001b[0m         \u001b[38;5;28;01mraise\u001b[39;00m \u001b[38;5;167;01mRuntimeError\u001b[39;00m(\u001b[38;5;124mf\u001b[39m\u001b[38;5;124m'\u001b[39m\u001b[38;5;124mforeach=True was passed, but can\u001b[39m\u001b[38;5;130;01m\\'\u001b[39;00m\u001b[38;5;124mt use the foreach API on \u001b[39m\u001b[38;5;132;01m{\u001b[39;00mdevice\u001b[38;5;241m.\u001b[39mtype\u001b[38;5;132;01m}\u001b[39;00m\u001b[38;5;124m tensors\u001b[39m\u001b[38;5;124m'\u001b[39m)\n",
      "\u001b[0;31mKeyboardInterrupt\u001b[0m: "
     ]
    }
   ],
   "source": [
    "lr_list = [.001, .0005, .0001]\n",
    "hid_size_list = [200, 300, 500]\n",
    "emb_size_list = [200, 300, 500]\n",
    "weight_decay_list = [0.0001, 0.001]\n",
    "patience_list = [3]\n",
    "emb_drop_list = [.01, .1, .15]\n",
    "out_drop_list = [0]\n",
    "\n",
    "best_model, best_params = train_grid_search(\n",
    "    lr_list, hid_size_list, emb_size_list,\n",
    "    weight_decay_list, patience_list, emb_drop_list,\n",
    "    out_drop_list, bidirectional=True, vocab_len=vocab_len, out_slot=out_slot, out_int=out_int, exp_name=\"BiDirectional\", model_type=\"LSTM\", optimizer=optim.Adam, dropout=True, n_epochs=EPOCHS)"
   ]
  },
  {
   "cell_type": "code",
   "execution_count": 20,
   "metadata": {},
   "outputs": [
    {
     "name": "stdout",
     "output_type": "stream",
     "text": [
      "Training with parameters: lr=0.001, hid_size=200, emb_size=200, weight_decay=0.0001, patience=3, emb_drop=0.01\n"
     ]
    },
    {
     "name": "stderr",
     "output_type": "stream",
     "text": [
      "  0%|          | 0/199 [00:01<?, ?it/s]\n"
     ]
    },
    {
     "ename": "TypeError",
     "evalue": "pack_padded_sequence() got multiple values for argument 'batch_first'",
     "output_type": "error",
     "traceback": [
      "\u001b[0;31m---------------------------------------------------------------------------\u001b[0m",
      "\u001b[0;31mTypeError\u001b[0m                                 Traceback (most recent call last)",
      "Cell \u001b[0;32mIn[20], line 9\u001b[0m\n\u001b[1;32m      6\u001b[0m emb_drop_list \u001b[38;5;241m=\u001b[39m [\u001b[38;5;241m.01\u001b[39m, \u001b[38;5;241m.1\u001b[39m, \u001b[38;5;241m.15\u001b[39m]\n\u001b[1;32m      7\u001b[0m out_drop_list \u001b[38;5;241m=\u001b[39m [\u001b[38;5;241m0\u001b[39m]\n\u001b[0;32m----> 9\u001b[0m best_model, best_params \u001b[38;5;241m=\u001b[39m \u001b[43mtrain_grid_search\u001b[49m\u001b[43m(\u001b[49m\n\u001b[1;32m     10\u001b[0m \u001b[43m    \u001b[49m\u001b[43mlr_list\u001b[49m\u001b[43m,\u001b[49m\u001b[43m \u001b[49m\u001b[43mhid_size_list\u001b[49m\u001b[43m,\u001b[49m\u001b[43m \u001b[49m\u001b[43memb_size_list\u001b[49m\u001b[43m,\u001b[49m\n\u001b[1;32m     11\u001b[0m \u001b[43m    \u001b[49m\u001b[43mweight_decay_list\u001b[49m\u001b[43m,\u001b[49m\u001b[43m \u001b[49m\u001b[43mpatience_list\u001b[49m\u001b[43m,\u001b[49m\u001b[43m \u001b[49m\u001b[43memb_drop_list\u001b[49m\u001b[43m,\u001b[49m\n\u001b[1;32m     12\u001b[0m \u001b[43m    \u001b[49m\u001b[43mout_drop_list\u001b[49m\u001b[43m,\u001b[49m\u001b[43m \u001b[49m\u001b[43mvocab_len\u001b[49m\u001b[38;5;241;43m=\u001b[39;49m\u001b[43mvocab_len\u001b[49m\u001b[43m,\u001b[49m\u001b[43m \u001b[49m\u001b[43mout_slot\u001b[49m\u001b[38;5;241;43m=\u001b[39;49m\u001b[43mout_slot\u001b[49m\u001b[43m,\u001b[49m\u001b[43m \u001b[49m\u001b[43mout_int\u001b[49m\u001b[38;5;241;43m=\u001b[39;49m\u001b[43mout_int\u001b[49m\u001b[43m,\u001b[49m\u001b[43m \u001b[49m\u001b[43mexp_name\u001b[49m\u001b[38;5;241;43m=\u001b[39;49m\u001b[38;5;124;43m\"\u001b[39;49m\u001b[38;5;124;43mBERT_STOCK\u001b[39;49m\u001b[38;5;124;43m\"\u001b[39;49m\u001b[43m,\u001b[49m\u001b[43m \u001b[49m\u001b[43mmodel_type\u001b[49m\u001b[38;5;241;43m=\u001b[39;49m\u001b[38;5;124;43m\"\u001b[39;49m\u001b[38;5;124;43mBERT\u001b[39;49m\u001b[38;5;124;43m\"\u001b[39;49m\u001b[43m,\u001b[49m\u001b[43m \u001b[49m\u001b[43moptimizer\u001b[49m\u001b[38;5;241;43m=\u001b[39;49m\u001b[43moptim\u001b[49m\u001b[38;5;241;43m.\u001b[39;49m\u001b[43mAdam\u001b[49m\u001b[43m,\u001b[49m\u001b[43m \u001b[49m\u001b[43mdropout\u001b[49m\u001b[38;5;241;43m=\u001b[39;49m\u001b[38;5;28;43;01mFalse\u001b[39;49;00m\u001b[43m,\u001b[49m\u001b[43m \u001b[49m\u001b[43mn_epochs\u001b[49m\u001b[38;5;241;43m=\u001b[39;49m\u001b[43mEPOCHS\u001b[49m\u001b[43m)\u001b[49m\n",
      "Cell \u001b[0;32mIn[18], line 28\u001b[0m, in \u001b[0;36mtrain_grid_search\u001b[0;34m(lr_list, hid_size_list, emb_size_list, weight_decay_list, patience_list, emb_drop_list, out_drop_list, vocab_len, out_slot, out_int, model_type, bidirectional, dropout, optimizer, n_epochs, exp_name)\u001b[0m\n\u001b[1;32m     24\u001b[0m optimizer_obj \u001b[38;5;241m=\u001b[39m optimizer_class(model\u001b[38;5;241m.\u001b[39mparameters(), lr\u001b[38;5;241m=\u001b[39mlr,\n\u001b[1;32m     25\u001b[0m                                 weight_decay\u001b[38;5;241m=\u001b[39mweight_decay)\n\u001b[1;32m     27\u001b[0m \u001b[38;5;66;03m# Train the model\u001b[39;00m\n\u001b[0;32m---> 28\u001b[0m accuracy, model \u001b[38;5;241m=\u001b[39m \u001b[43mtrain_model\u001b[49m\u001b[43m(\u001b[49m\u001b[43mexp_name\u001b[49m\u001b[38;5;241;43m+\u001b[39;49m\u001b[38;5;124;43m\"\u001b[39;49m\u001b[38;5;124;43m/\u001b[39;49m\u001b[38;5;124;43m\"\u001b[39;49m\u001b[38;5;241;43m+\u001b[39;49m\u001b[38;5;124;43mf\u001b[39;49m\u001b[38;5;124;43m\"\u001b[39;49m\u001b[38;5;124;43mLR=\u001b[39;49m\u001b[38;5;132;43;01m{\u001b[39;49;00m\u001b[43mlr\u001b[49m\u001b[38;5;132;43;01m}\u001b[39;49;00m\u001b[38;5;124;43m, HS=\u001b[39;49m\u001b[38;5;132;43;01m{\u001b[39;49;00m\u001b[43mhid_size\u001b[49m\u001b[38;5;132;43;01m}\u001b[39;49;00m\u001b[38;5;124;43m, ES=\u001b[39;49m\u001b[38;5;132;43;01m{\u001b[39;49;00m\u001b[43memb_size\u001b[49m\u001b[38;5;132;43;01m}\u001b[39;49;00m\u001b[38;5;124;43m, WD=\u001b[39;49m\u001b[38;5;132;43;01m{\u001b[39;49;00m\u001b[43mweight_decay\u001b[49m\u001b[38;5;132;43;01m}\u001b[39;49;00m\u001b[38;5;124;43m, P=\u001b[39;49m\u001b[38;5;132;43;01m{\u001b[39;49;00m\u001b[43mpatience\u001b[49m\u001b[38;5;132;43;01m}\u001b[39;49;00m\u001b[38;5;124;43m, E_D=\u001b[39;49m\u001b[38;5;132;43;01m{\u001b[39;49;00m\u001b[43memb_drop\u001b[49m\u001b[38;5;132;43;01m}\u001b[39;49;00m\u001b[38;5;124;43m,M_T=\u001b[39;49m\u001b[38;5;132;43;01m{\u001b[39;49;00m\u001b[43mmodel_type\u001b[49m\u001b[38;5;132;43;01m}\u001b[39;49;00m\u001b[38;5;124;43m,D=\u001b[39;49m\u001b[38;5;132;43;01m{\u001b[39;49;00m\u001b[43mdropout\u001b[49m\u001b[38;5;132;43;01m}\u001b[39;49;00m\u001b[38;5;124;43m\"\u001b[39;49m\u001b[43m,\u001b[49m\u001b[43m \u001b[49m\u001b[43mmodel\u001b[49m\u001b[38;5;241;43m=\u001b[39;49m\u001b[43mmodel\u001b[49m\u001b[43m,\u001b[49m\n\u001b[1;32m     29\u001b[0m \u001b[43m                              \u001b[49m\u001b[43moptimizer\u001b[49m\u001b[38;5;241;43m=\u001b[39;49m\u001b[43moptimizer_obj\u001b[49m\u001b[43m,\u001b[49m\u001b[43mpatience_set\u001b[49m\u001b[38;5;241;43m=\u001b[39;49m\u001b[43mpatience\u001b[49m\u001b[43m,\u001b[49m\n\u001b[1;32m     30\u001b[0m \u001b[43m                              \u001b[49m\u001b[43mn_epochs\u001b[49m\u001b[38;5;241;43m=\u001b[39;49m\u001b[43mn_epochs\u001b[49m\u001b[43m,\u001b[49m\u001b[43m \u001b[49m\u001b[43mexp_name\u001b[49m\u001b[38;5;241;43m=\u001b[39;49m\u001b[43mexp_name\u001b[49m\u001b[43m,\u001b[49m\u001b[43mmodel_type\u001b[49m\u001b[43m \u001b[49m\u001b[38;5;241;43m=\u001b[39;49m\u001b[43m \u001b[49m\u001b[43mmodel_type\u001b[49m\u001b[43m)\u001b[49m\n\u001b[1;32m     32\u001b[0m \u001b[38;5;66;03m# Check if the current model is the best so far\u001b[39;00m\n\u001b[1;32m     33\u001b[0m \u001b[38;5;28;01mif\u001b[39;00m accuracy \u001b[38;5;241m>\u001b[39m best_accuracy:\n",
      "Cell \u001b[0;32mIn[17], line 23\u001b[0m, in \u001b[0;36mtrain_model\u001b[0;34m(param_string, exp_name, n_epochs, patience_set, model, optimizer, model_type)\u001b[0m\n\u001b[1;32m     20\u001b[0m     test_loader \u001b[38;5;241m=\u001b[39m test_loader_stock\n\u001b[1;32m     22\u001b[0m \u001b[38;5;28;01mfor\u001b[39;00m x \u001b[38;5;129;01min\u001b[39;00m tqdm(\u001b[38;5;28mrange\u001b[39m(\u001b[38;5;241m1\u001b[39m, n_epochs)):\n\u001b[0;32m---> 23\u001b[0m     loss \u001b[38;5;241m=\u001b[39m \u001b[43mtrain_loop\u001b[49m\u001b[43m(\u001b[49m\u001b[43mtrain_loader\u001b[49m\u001b[43m,\u001b[49m\u001b[43m \u001b[49m\u001b[43moptimizer\u001b[49m\u001b[43m,\u001b[49m\u001b[43m \u001b[49m\u001b[43mcriterion_slots\u001b[49m\u001b[43m,\u001b[49m\n\u001b[1;32m     24\u001b[0m \u001b[43m                      \u001b[49m\u001b[43mcriterion_intents\u001b[49m\u001b[43m,\u001b[49m\u001b[43m \u001b[49m\u001b[43mmodel\u001b[49m\u001b[43m)\u001b[49m\n\u001b[1;32m     25\u001b[0m     \u001b[38;5;28;01mif\u001b[39;00m x \u001b[38;5;241m%\u001b[39m \u001b[38;5;241m5\u001b[39m \u001b[38;5;241m==\u001b[39m \u001b[38;5;241m0\u001b[39m:  \u001b[38;5;66;03m# We check the performance every 5 epochs\u001b[39;00m\n\u001b[1;32m     26\u001b[0m         sampled_epochs\u001b[38;5;241m.\u001b[39mappend(x)\n",
      "Cell \u001b[0;32mIn[16], line 10\u001b[0m, in \u001b[0;36mtrain_loop\u001b[0;34m(data, optimizer, criterion_slots, criterion_intents, model, clip)\u001b[0m\n\u001b[1;32m      8\u001b[0m \u001b[38;5;28;01mfor\u001b[39;00m sample \u001b[38;5;129;01min\u001b[39;00m data:\n\u001b[1;32m      9\u001b[0m     optimizer\u001b[38;5;241m.\u001b[39mzero_grad()  \u001b[38;5;66;03m# Zeroing the gradient\u001b[39;00m\n\u001b[0;32m---> 10\u001b[0m     slots, intent \u001b[38;5;241m=\u001b[39m \u001b[43mmodel\u001b[49m\u001b[43m(\u001b[49m\u001b[43msample\u001b[49m\u001b[43m[\u001b[49m\u001b[38;5;124;43m'\u001b[39;49m\u001b[38;5;124;43mutterances\u001b[39;49m\u001b[38;5;124;43m'\u001b[39;49m\u001b[43m]\u001b[49m\u001b[43m,\u001b[49m\u001b[43m \u001b[49m\u001b[43msample\u001b[49m\u001b[43m[\u001b[49m\u001b[38;5;124;43m'\u001b[39;49m\u001b[38;5;124;43mslots_len\u001b[39;49m\u001b[38;5;124;43m'\u001b[39;49m\u001b[43m]\u001b[49m\u001b[43m)\u001b[49m\n\u001b[1;32m     11\u001b[0m     loss_intent \u001b[38;5;241m=\u001b[39m criterion_intents(intent, sample[\u001b[38;5;124m'\u001b[39m\u001b[38;5;124mintents\u001b[39m\u001b[38;5;124m'\u001b[39m])\n\u001b[1;32m     12\u001b[0m     loss_slot \u001b[38;5;241m=\u001b[39m criterion_slots(slots, sample[\u001b[38;5;124m'\u001b[39m\u001b[38;5;124my_slots\u001b[39m\u001b[38;5;124m'\u001b[39m])\n",
      "File \u001b[0;32m~/Programmi/ProgettiGit/NLU-Assignemnts/.venv/lib/python3.10/site-packages/torch/nn/modules/module.py:1511\u001b[0m, in \u001b[0;36mModule._wrapped_call_impl\u001b[0;34m(self, *args, **kwargs)\u001b[0m\n\u001b[1;32m   1509\u001b[0m     \u001b[38;5;28;01mreturn\u001b[39;00m \u001b[38;5;28mself\u001b[39m\u001b[38;5;241m.\u001b[39m_compiled_call_impl(\u001b[38;5;241m*\u001b[39margs, \u001b[38;5;241m*\u001b[39m\u001b[38;5;241m*\u001b[39mkwargs)  \u001b[38;5;66;03m# type: ignore[misc]\u001b[39;00m\n\u001b[1;32m   1510\u001b[0m \u001b[38;5;28;01melse\u001b[39;00m:\n\u001b[0;32m-> 1511\u001b[0m     \u001b[38;5;28;01mreturn\u001b[39;00m \u001b[38;5;28;43mself\u001b[39;49m\u001b[38;5;241;43m.\u001b[39;49m\u001b[43m_call_impl\u001b[49m\u001b[43m(\u001b[49m\u001b[38;5;241;43m*\u001b[39;49m\u001b[43margs\u001b[49m\u001b[43m,\u001b[49m\u001b[43m \u001b[49m\u001b[38;5;241;43m*\u001b[39;49m\u001b[38;5;241;43m*\u001b[39;49m\u001b[43mkwargs\u001b[49m\u001b[43m)\u001b[49m\n",
      "File \u001b[0;32m~/Programmi/ProgettiGit/NLU-Assignemnts/.venv/lib/python3.10/site-packages/torch/nn/modules/module.py:1520\u001b[0m, in \u001b[0;36mModule._call_impl\u001b[0;34m(self, *args, **kwargs)\u001b[0m\n\u001b[1;32m   1515\u001b[0m \u001b[38;5;66;03m# If we don't have any hooks, we want to skip the rest of the logic in\u001b[39;00m\n\u001b[1;32m   1516\u001b[0m \u001b[38;5;66;03m# this function, and just call forward.\u001b[39;00m\n\u001b[1;32m   1517\u001b[0m \u001b[38;5;28;01mif\u001b[39;00m \u001b[38;5;129;01mnot\u001b[39;00m (\u001b[38;5;28mself\u001b[39m\u001b[38;5;241m.\u001b[39m_backward_hooks \u001b[38;5;129;01mor\u001b[39;00m \u001b[38;5;28mself\u001b[39m\u001b[38;5;241m.\u001b[39m_backward_pre_hooks \u001b[38;5;129;01mor\u001b[39;00m \u001b[38;5;28mself\u001b[39m\u001b[38;5;241m.\u001b[39m_forward_hooks \u001b[38;5;129;01mor\u001b[39;00m \u001b[38;5;28mself\u001b[39m\u001b[38;5;241m.\u001b[39m_forward_pre_hooks\n\u001b[1;32m   1518\u001b[0m         \u001b[38;5;129;01mor\u001b[39;00m _global_backward_pre_hooks \u001b[38;5;129;01mor\u001b[39;00m _global_backward_hooks\n\u001b[1;32m   1519\u001b[0m         \u001b[38;5;129;01mor\u001b[39;00m _global_forward_hooks \u001b[38;5;129;01mor\u001b[39;00m _global_forward_pre_hooks):\n\u001b[0;32m-> 1520\u001b[0m     \u001b[38;5;28;01mreturn\u001b[39;00m \u001b[43mforward_call\u001b[49m\u001b[43m(\u001b[49m\u001b[38;5;241;43m*\u001b[39;49m\u001b[43margs\u001b[49m\u001b[43m,\u001b[49m\u001b[43m \u001b[49m\u001b[38;5;241;43m*\u001b[39;49m\u001b[38;5;241;43m*\u001b[39;49m\u001b[43mkwargs\u001b[49m\u001b[43m)\u001b[49m\n\u001b[1;32m   1522\u001b[0m \u001b[38;5;28;01mtry\u001b[39;00m:\n\u001b[1;32m   1523\u001b[0m     result \u001b[38;5;241m=\u001b[39m \u001b[38;5;28;01mNone\u001b[39;00m\n",
      "File \u001b[0;32m~/Programmi/ProgettiGit/NLU-Assignemnts/exam/Assigment_2/models.py:60\u001b[0m, in \u001b[0;36mMultiModel1.forward\u001b[0;34m(self, utterance, seq_lengths, attention_mask)\u001b[0m\n\u001b[1;32m     57\u001b[0m     packed_input \u001b[38;5;241m=\u001b[39m pack_padded_sequence(\n\u001b[1;32m     58\u001b[0m         utt_emb, seq_lengths\u001b[38;5;241m.\u001b[39mcpu()\u001b[38;5;241m.\u001b[39mnumpy(), batch_first\u001b[38;5;241m=\u001b[39m\u001b[38;5;28;01mTrue\u001b[39;00m)\n\u001b[1;32m     59\u001b[0m \u001b[38;5;28;01melse\u001b[39;00m:\n\u001b[0;32m---> 60\u001b[0m     packed_input \u001b[38;5;241m=\u001b[39m \u001b[43mpack_padded_sequence\u001b[49m\u001b[43m(\u001b[49m\n\u001b[1;32m     61\u001b[0m \u001b[43m        \u001b[49m\u001b[43mutterance\u001b[49m\u001b[43m,\u001b[49m\u001b[43m \u001b[49m\u001b[43mseq_lengths\u001b[49m\u001b[38;5;241;43m.\u001b[39;49m\u001b[43mcpu\u001b[49m\u001b[43m(\u001b[49m\u001b[43m)\u001b[49m\u001b[38;5;241;43m.\u001b[39;49m\u001b[43mnumpy\u001b[49m\u001b[43m(\u001b[49m\u001b[43m)\u001b[49m\u001b[43m,\u001b[49m\u001b[43mattention_mask\u001b[49m\u001b[43m,\u001b[49m\u001b[43m \u001b[49m\u001b[43mbatch_first\u001b[49m\u001b[38;5;241;43m=\u001b[39;49m\u001b[38;5;28;43;01mTrue\u001b[39;49;00m\u001b[43m)\u001b[49m\n\u001b[1;32m     62\u001b[0m \u001b[38;5;66;03m# Process the batch\u001b[39;00m\n\u001b[1;32m     63\u001b[0m packed_output, (last_hidden, cell) \u001b[38;5;241m=\u001b[39m \u001b[38;5;28mself\u001b[39m\u001b[38;5;241m.\u001b[39mutt_encoder(packed_input)\n",
      "\u001b[0;31mTypeError\u001b[0m: pack_padded_sequence() got multiple values for argument 'batch_first'"
     ]
    }
   ],
   "source": [
    "lr_list = [.001, .0005, .0001]\n",
    "hid_size_list = [200, 300, 500]\n",
    "emb_size_list = [200, 300, 500]\n",
    "weight_decay_list = [0.0001, 0.001]\n",
    "patience_list = [3]\n",
    "emb_drop_list = [.01, .1, .15]\n",
    "out_drop_list = [0]\n",
    "\n",
    "best_model, best_params = train_grid_search(\n",
    "    lr_list, hid_size_list, emb_size_list,\n",
    "    weight_decay_list, patience_list, emb_drop_list,\n",
    "    out_drop_list, vocab_len=vocab_len, out_slot=out_slot, out_int=out_int, exp_name=\"BERT_STOCK\", model_type=\"BERT\", optimizer=optim.Adam, dropout=False, n_epochs=EPOCHS)"
   ]
  },
  {
   "cell_type": "code",
   "execution_count": null,
   "metadata": {},
   "outputs": [],
   "source": [
    "%load_ext tensorboard\n",
    "%tensorboard --logdir=runs --host localhost --port 8088"
   ]
  }
 ],
 "metadata": {
  "kernelspec": {
   "display_name": ".venv",
   "language": "python",
   "name": "python3"
  },
  "language_info": {
   "codemirror_mode": {
    "name": "ipython",
    "version": 3
   },
   "file_extension": ".py",
   "mimetype": "text/x-python",
   "name": "python",
   "nbconvert_exporter": "python",
   "pygments_lexer": "ipython3",
   "version": "3.10.12"
  }
 },
 "nbformat": 4,
 "nbformat_minor": 2
}
